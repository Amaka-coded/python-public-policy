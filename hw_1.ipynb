{
 "nbformat": 4,
 "nbformat_minor": 2,
 "metadata": {
  "language_info": {
   "name": "python",
   "codemirror_mode": {
    "name": "ipython",
    "version": 3
   }
  },
  "orig_nbformat": 2,
  "file_extension": ".py",
  "mimetype": "text/x-python",
  "name": "python",
  "npconvert_exporter": "python",
  "pygments_lexer": "ipython3",
  "version": 3
 },
 "cells": [
  {
   "cell_type": "markdown",
   "metadata": {},
   "source": [
    "<a href=\"https://colab.research.google.com/github/afeld/python-public-policy/blob/master/hw_1.ipynb\" target=\"_parent\"><img src=\"https://colab.research.google.com/assets/colab-badge.svg\" alt=\"Open In Colab\"/></a>\n",
    "\n",
    "\n",
    "# HOMEWORK 1\n",
    "\n",
    "## Coding: Exploring Trends in How People Submit 311 Requests\n",
    "\n",
    "Use this `zip`ped copy of the `cleaned_311_data.csv` created during our lecture to complete the homework. Load it by:\n",
    "\n",
    "```python\n",
    "df = pd.read_csv('https://nyu.box.com/shared/static/dpe8ekjepi6xf5zy5hpi7n1o2dgcw699.zip')\n",
    "```\n",
    "\n",
    "Answer these questions:\n",
    "\n",
    "- Q1. Which complaint submission method (`Open Data Channel Type`) is used most frequently, according to this dataset? Provide the count of each for comparison.\n",
    "- Q2. Get the count of each submission method per complaint type, sorted by complaint type.\n",
    "    - Review the results and share a sentence or two with your observations.\n",
    "    - Can you provide a potential explaination for why some complaints are more frequently made via phone and mobile versus on the website?\n",
    "- Q3. Provide a simplified table that only lists the most common request submission method for each complaint type. There should be one row per complaint type, capturing the most common submission method for that complaint type.\n",
    "\n",
    "then [turn in the assignment](https://github.com/afeld/python-public-policy#turning-in-assignments).\n",
    "\n",
    "## Tutorials: Intro to Functions + Python Coding Best Practices\n",
    "\n",
    "1. [Video introducing functions](https://www.youtube.com/watch?v=9Os0o3wzS_I&list=PL-osiE80TeTskrapNbzXhwoFUiLCjGgY7&index=8)\n",
    "1. Coding Style Guides - Please skim these; I don't expect you to understand and follow everything in them. The most important guidelines to pay attention to are indentation and keeping each statement on its own line.\n",
    "   1. https://docs.python-guide.org/writing/style/\n",
    "   1. [PEP 8 Style Guide](https://www.python.org/dev/peps/pep-0008/)\n",
    "1. [Guide to commenting your code](https://realpython.com/python-comments-guide/)"
   ]
  }
 ]
}