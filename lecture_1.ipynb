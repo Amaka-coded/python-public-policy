{
 "cells": [
  {
   "cell_type": "markdown",
   "metadata": {
    "colab_type": "text",
    "id": "view-in-github"
   },
   "source": [
    "<a href=\"https://colab.research.google.com/github/afeld/python-public-policy/blob/master/lecture_1.ipynb\" target=\"_parent\"><img src=\"https://colab.research.google.com/assets/colab-badge.svg\" alt=\"Open In Colab\"/></a>"
   ]
  },
  {
   "cell_type": "markdown",
   "metadata": {
    "colab_type": "text",
    "id": "SA9q8DQPL6oZ"
   },
   "source": [
    "# **NYU Wagner - Python Coding for Public Policy**\n",
    "# Class 1: Intro to Pandas\n"
   ]
  },
  {
   "cell_type": "markdown",
   "metadata": {
    "colab_type": "text",
    "id": "F5DsWafyMCfG"
   },
   "source": [
    "# LECTURE"
   ]
  },
  {
   "cell_type": "markdown",
   "metadata": {
    "colab_type": "text",
    "id": "9rvnMzjSMK36"
   },
   "source": [
    "## Start by importing necessary packages"
   ]
  },
  {
   "cell_type": "code",
   "execution_count": 2,
   "metadata": {
    "colab": {},
    "colab_type": "code",
    "id": "Q4l2QosJLzP6"
   },
   "outputs": [],
   "source": [
    "import pandas as pd"
   ]
  },
  {
   "cell_type": "markdown",
   "metadata": {
    "colab_type": "text",
    "id": "R1G04BmMMFJb"
   },
   "source": [
    "## Read and save 311 Service Requests dataset as a pandas dataframe"
   ]
  },
  {
   "cell_type": "code",
   "execution_count": 3,
   "metadata": {
    "colab": {},
    "colab_type": "code",
    "id": "iQgE8qFAMbiF"
   },
   "outputs": [],
   "source": [
    "df = pd.read_csv('https://nyu.box.com/shared/static/x3zfnpsva4kwcqj6amfchheszdv269lq.zip')"
   ]
  },
  {
   "cell_type": "markdown",
   "metadata": {
    "colab_type": "text",
    "id": "CRAqTQ2rbXAA"
   },
   "source": [
    "## Today's goal\n",
    "\n",
    "Learn which 311 complaints are most common and which agencies are responsible for handling them. But first, let's take a look at the data, then clean it up!"
   ]
  },
  {
   "cell_type": "markdown",
   "metadata": {
    "colab_type": "text",
    "id": "MgQ0ykVeNFsF"
   },
   "source": [
    "## Preview the data contents"
   ]
  },
  {
   "cell_type": "code",
   "execution_count": 4,
   "metadata": {
    "colab": {
     "base_uri": "https://localhost:8080/",
     "height": 539
    },
    "colab_type": "code",
    "id": "YdtFBy0Il7E7",
    "outputId": "7bb49293-60dd-4df6-e5df-1eec7f2343ce"
   },
   "outputs": [
    {
     "output_type": "execute_result",
     "data": {
      "text/plain": "   Unique Key            Created Date             Closed Date Agency  \\\n0    39888071  08/01/2018 12:00:10 AM  08/01/2018 01:52:46 AM    DHS   \n1    39889166  08/01/2018 12:00:26 AM  08/18/2018 10:46:43 AM    HPD   \n2    39882869  08/01/2018 12:00:54 AM  08/01/2018 12:49:55 AM   NYPD   \n3    39894246  08/01/2018 12:01:00 AM  08/02/2018 10:30:00 PM    DEP   \n4    39881329  08/01/2018 12:01:00 AM  08/05/2018 12:00:00 AM   DSNY   \n\n                                         Agency Name  \\\n0  Operations Unit - Department of Homeless Services   \n1  Department of Housing Preservation and Develop...   \n2                    New York City Police Department   \n3             Department of Environmental Protection   \n4                           Department of Sanitation   \n\n                        Complaint Type  \\\n0           Homeless Person Assistance   \n1                          DOOR/WINDOW   \n2                  Noise - Residential   \n3                                Noise   \n4  Request Large Bulky Item Collection   \n\n                                     Descriptor               Location Type  \\\n0                                           NaN                       Other   \n1                                          DOOR        RESIDENTIAL BUILDING   \n2                              Loud Music/Party  Residential Building/House   \n3  Noise: Construction Before/After Hours (NM1)                         NaN   \n4           Request Large Bulky Item Collection                    Sidewalk   \n\n  Incident Zip      Incident Address  ... Vehicle Type Taxi Company Borough  \\\n0        10029  200 EAST  109 STREET  ...          NaN                  NaN   \n1        10031  528 WEST  136 STREET  ...          NaN                  NaN   \n2        11216     761 LINCOLN PLACE  ...          NaN                  NaN   \n3        10010                   NaN  ...          NaN                  NaN   \n4        11413     121-28 198 STREET  ...          NaN                  NaN   \n\n  Taxi Pick Up Location Bridge Highway Name Bridge Highway Direction  \\\n0                   NaN                 NaN                      NaN   \n1                   NaN                 NaN                      NaN   \n2                   NaN                 NaN                      NaN   \n3                   NaN                 NaN                      NaN   \n4                   NaN                 NaN                      NaN   \n\n  Road Ramp Bridge Highway Segment   Latitude  Longitude  \\\n0       NaN                    NaN  40.793339 -73.942942   \n1       NaN                    NaN  40.820124 -73.953071   \n2       NaN                    NaN  40.670809 -73.951399   \n3       NaN                    NaN  40.740262 -73.990517   \n4       NaN                    NaN  40.688144 -73.750990   \n\n                                  Location  \n0   (40.79333937834769, -73.9429417746998)  \n1   (40.82012422332215, -73.9530712339799)  \n2   (40.67080917938279, -73.9513990916184)  \n3  (40.74026158873342, -73.99051651686905)  \n4  (40.68814402968042, -73.75098958473612)  \n\n[5 rows x 41 columns]",
      "text/html": "<div>\n<style scoped>\n    .dataframe tbody tr th:only-of-type {\n        vertical-align: middle;\n    }\n\n    .dataframe tbody tr th {\n        vertical-align: top;\n    }\n\n    .dataframe thead th {\n        text-align: right;\n    }\n</style>\n<table border=\"1\" class=\"dataframe\">\n  <thead>\n    <tr style=\"text-align: right;\">\n      <th></th>\n      <th>Unique Key</th>\n      <th>Created Date</th>\n      <th>Closed Date</th>\n      <th>Agency</th>\n      <th>Agency Name</th>\n      <th>Complaint Type</th>\n      <th>Descriptor</th>\n      <th>Location Type</th>\n      <th>Incident Zip</th>\n      <th>Incident Address</th>\n      <th>...</th>\n      <th>Vehicle Type</th>\n      <th>Taxi Company Borough</th>\n      <th>Taxi Pick Up Location</th>\n      <th>Bridge Highway Name</th>\n      <th>Bridge Highway Direction</th>\n      <th>Road Ramp</th>\n      <th>Bridge Highway Segment</th>\n      <th>Latitude</th>\n      <th>Longitude</th>\n      <th>Location</th>\n    </tr>\n  </thead>\n  <tbody>\n    <tr>\n      <th>0</th>\n      <td>39888071</td>\n      <td>08/01/2018 12:00:10 AM</td>\n      <td>08/01/2018 01:52:46 AM</td>\n      <td>DHS</td>\n      <td>Operations Unit - Department of Homeless Services</td>\n      <td>Homeless Person Assistance</td>\n      <td>NaN</td>\n      <td>Other</td>\n      <td>10029</td>\n      <td>200 EAST  109 STREET</td>\n      <td>...</td>\n      <td>NaN</td>\n      <td>NaN</td>\n      <td>NaN</td>\n      <td>NaN</td>\n      <td>NaN</td>\n      <td>NaN</td>\n      <td>NaN</td>\n      <td>40.793339</td>\n      <td>-73.942942</td>\n      <td>(40.79333937834769, -73.9429417746998)</td>\n    </tr>\n    <tr>\n      <th>1</th>\n      <td>39889166</td>\n      <td>08/01/2018 12:00:26 AM</td>\n      <td>08/18/2018 10:46:43 AM</td>\n      <td>HPD</td>\n      <td>Department of Housing Preservation and Develop...</td>\n      <td>DOOR/WINDOW</td>\n      <td>DOOR</td>\n      <td>RESIDENTIAL BUILDING</td>\n      <td>10031</td>\n      <td>528 WEST  136 STREET</td>\n      <td>...</td>\n      <td>NaN</td>\n      <td>NaN</td>\n      <td>NaN</td>\n      <td>NaN</td>\n      <td>NaN</td>\n      <td>NaN</td>\n      <td>NaN</td>\n      <td>40.820124</td>\n      <td>-73.953071</td>\n      <td>(40.82012422332215, -73.9530712339799)</td>\n    </tr>\n    <tr>\n      <th>2</th>\n      <td>39882869</td>\n      <td>08/01/2018 12:00:54 AM</td>\n      <td>08/01/2018 12:49:55 AM</td>\n      <td>NYPD</td>\n      <td>New York City Police Department</td>\n      <td>Noise - Residential</td>\n      <td>Loud Music/Party</td>\n      <td>Residential Building/House</td>\n      <td>11216</td>\n      <td>761 LINCOLN PLACE</td>\n      <td>...</td>\n      <td>NaN</td>\n      <td>NaN</td>\n      <td>NaN</td>\n      <td>NaN</td>\n      <td>NaN</td>\n      <td>NaN</td>\n      <td>NaN</td>\n      <td>40.670809</td>\n      <td>-73.951399</td>\n      <td>(40.67080917938279, -73.9513990916184)</td>\n    </tr>\n    <tr>\n      <th>3</th>\n      <td>39894246</td>\n      <td>08/01/2018 12:01:00 AM</td>\n      <td>08/02/2018 10:30:00 PM</td>\n      <td>DEP</td>\n      <td>Department of Environmental Protection</td>\n      <td>Noise</td>\n      <td>Noise: Construction Before/After Hours (NM1)</td>\n      <td>NaN</td>\n      <td>10010</td>\n      <td>NaN</td>\n      <td>...</td>\n      <td>NaN</td>\n      <td>NaN</td>\n      <td>NaN</td>\n      <td>NaN</td>\n      <td>NaN</td>\n      <td>NaN</td>\n      <td>NaN</td>\n      <td>40.740262</td>\n      <td>-73.990517</td>\n      <td>(40.74026158873342, -73.99051651686905)</td>\n    </tr>\n    <tr>\n      <th>4</th>\n      <td>39881329</td>\n      <td>08/01/2018 12:01:00 AM</td>\n      <td>08/05/2018 12:00:00 AM</td>\n      <td>DSNY</td>\n      <td>Department of Sanitation</td>\n      <td>Request Large Bulky Item Collection</td>\n      <td>Request Large Bulky Item Collection</td>\n      <td>Sidewalk</td>\n      <td>11413</td>\n      <td>121-28 198 STREET</td>\n      <td>...</td>\n      <td>NaN</td>\n      <td>NaN</td>\n      <td>NaN</td>\n      <td>NaN</td>\n      <td>NaN</td>\n      <td>NaN</td>\n      <td>NaN</td>\n      <td>40.688144</td>\n      <td>-73.750990</td>\n      <td>(40.68814402968042, -73.75098958473612)</td>\n    </tr>\n  </tbody>\n</table>\n<p>5 rows × 41 columns</p>\n</div>"
     },
     "metadata": {},
     "execution_count": 4
    }
   ],
   "source": [
    "df.head() # defaults to providing the first 5 if you don't specify a number"
   ]
  },
  {
   "cell_type": "code",
   "execution_count": 5,
   "metadata": {
    "colab": {
     "base_uri": "https://localhost:8080/",
     "height": 1000
    },
    "colab_type": "code",
    "id": "WgDL8mn5MPTh",
    "outputId": "6fae2f9d-681d-454b-f80d-809df194e855",
    "scrolled": true
   },
   "outputs": [
    {
     "output_type": "execute_result",
     "data": {
      "text/plain": "         Unique Key            Created Date Closed Date Agency  \\\n2859190    43619254  08/24/2019 01:58:34 AM         NaN   NYPD   \n2859191    43623130  08/24/2019 01:58:58 AM         NaN   NYPD   \n2859192    43618563  08/24/2019 01:59:20 AM         NaN   NYPD   \n2859193    43624826  08/24/2019 01:59:38 AM         NaN   NYPD   \n2859194    43626512  08/24/2019 01:59:40 AM         NaN   NYPD   \n2859195    43619262  08/24/2019 02:00:14 AM         NaN   NYPD   \n2859196    43622052  08/24/2019 02:00:20 AM         NaN   NYPD   \n2859197    43625918  08/24/2019 02:00:27 AM         NaN   NYPD   \n2859198    43622055  08/24/2019 02:00:54 AM         NaN   NYPD   \n2859199    43623704  08/24/2019 02:00:56 AM         NaN   NYPD   \n\n                             Agency Name           Complaint Type  \\\n2859190  New York City Police Department      Noise - Residential   \n2859191  New York City Police Department  Noise - Street/Sidewalk   \n2859192  New York City Police Department          Illegal Parking   \n2859193  New York City Police Department          Noise - Vehicle   \n2859194  New York City Police Department  Noise - Street/Sidewalk   \n2859195  New York City Police Department  Noise - Street/Sidewalk   \n2859196  New York City Police Department  Noise - Street/Sidewalk   \n2859197  New York City Police Department          Noise - Vehicle   \n2859198  New York City Police Department  Noise - Street/Sidewalk   \n2859199  New York City Police Department          Noise - Vehicle   \n\n                            Descriptor               Location Type  \\\n2859190                   Loud Talking  Residential Building/House   \n2859191               Loud Music/Party             Street/Sidewalk   \n2859192  Posted Parking Sign Violation             Street/Sidewalk   \n2859193                Car/Truck Music             Street/Sidewalk   \n2859194               Loud Music/Party             Street/Sidewalk   \n2859195               Loud Music/Party             Street/Sidewalk   \n2859196               Loud Music/Party             Street/Sidewalk   \n2859197                Car/Truck Music             Street/Sidewalk   \n2859198               Loud Music/Party             Street/Sidewalk   \n2859199                Car/Truck Music             Street/Sidewalk   \n\n        Incident Zip       Incident Address  ... Vehicle Type  \\\n2859190        11226   1509 NOSTRAND AVENUE  ...          NaN   \n2859191        11234       FLATLANDS AVENUE  ...          NaN   \n2859192        11413               146 ROAD  ...          NaN   \n2859193        11218         3403 14 AVENUE  ...          NaN   \n2859194        10034       65 PAYSON AVENUE  ...          NaN   \n2859195        10463     3308 BAILEY AVENUE  ...          NaN   \n2859196        11237   265 STOCKHOLM STREET  ...          NaN   \n2859197        11233       560 RALPH AVENUE  ...          NaN   \n2859198          NaN                    NaN  ...          NaN   \n2859199        10303  2806 RICHMOND TERRACE  ...          NaN   \n\n        Taxi Company Borough Taxi Pick Up Location Bridge Highway Name  \\\n2859190                  NaN                   NaN                 NaN   \n2859191                  NaN                   NaN                 NaN   \n2859192                  NaN                   NaN                 NaN   \n2859193                  NaN                   NaN                 NaN   \n2859194                  NaN                   NaN                 NaN   \n2859195                  NaN                   NaN                 NaN   \n2859196                  NaN                   NaN                 NaN   \n2859197                  NaN                   NaN                 NaN   \n2859198                  NaN                   NaN                 NaN   \n2859199                  NaN                   NaN                 NaN   \n\n        Bridge Highway Direction Road Ramp Bridge Highway Segment   Latitude  \\\n2859190                      NaN       NaN                    NaN  40.649391   \n2859191                      NaN       NaN                    NaN  40.626210   \n2859192                      NaN       NaN                    NaN  40.661635   \n2859193                      NaN       NaN                    NaN  40.641957   \n2859194                      NaN       NaN                    NaN  40.867405   \n2859195                      NaN       NaN                    NaN  40.879701   \n2859196                      NaN       NaN                    NaN  40.701783   \n2859197                      NaN       NaN                    NaN  40.669992   \n2859198                      NaN       NaN                    NaN        NaN   \n2859199                      NaN       NaN                    NaN  40.636794   \n\n         Longitude                                  Location  \n2859190 -73.949411  (40.649390802790116, -73.94941102713294)  \n2859191 -73.927659   (40.62621042607075, -73.92765889759266)  \n2859192 -73.762651   (40.66163483733922, -73.76265143072415)  \n2859193 -73.981313   (40.64195655592916, -73.98131320909779)  \n2859194 -73.927765   (40.867405209755695, -73.9277653007795)  \n2859195 -73.901057    (40.87970084316435, -73.9010571445122)  \n2859196 -73.920555   (40.70178323733244, -73.92055493919345)  \n2859197 -73.922489    (40.66999185896368, -73.9224889475533)  \n2859198        NaN                                       NaN  \n2859199 -74.153979   (40.63679359185655, -74.15397942810047)  \n\n[10 rows x 41 columns]",
      "text/html": "<div>\n<style scoped>\n    .dataframe tbody tr th:only-of-type {\n        vertical-align: middle;\n    }\n\n    .dataframe tbody tr th {\n        vertical-align: top;\n    }\n\n    .dataframe thead th {\n        text-align: right;\n    }\n</style>\n<table border=\"1\" class=\"dataframe\">\n  <thead>\n    <tr style=\"text-align: right;\">\n      <th></th>\n      <th>Unique Key</th>\n      <th>Created Date</th>\n      <th>Closed Date</th>\n      <th>Agency</th>\n      <th>Agency Name</th>\n      <th>Complaint Type</th>\n      <th>Descriptor</th>\n      <th>Location Type</th>\n      <th>Incident Zip</th>\n      <th>Incident Address</th>\n      <th>...</th>\n      <th>Vehicle Type</th>\n      <th>Taxi Company Borough</th>\n      <th>Taxi Pick Up Location</th>\n      <th>Bridge Highway Name</th>\n      <th>Bridge Highway Direction</th>\n      <th>Road Ramp</th>\n      <th>Bridge Highway Segment</th>\n      <th>Latitude</th>\n      <th>Longitude</th>\n      <th>Location</th>\n    </tr>\n  </thead>\n  <tbody>\n    <tr>\n      <th>2859190</th>\n      <td>43619254</td>\n      <td>08/24/2019 01:58:34 AM</td>\n      <td>NaN</td>\n      <td>NYPD</td>\n      <td>New York City Police Department</td>\n      <td>Noise - Residential</td>\n      <td>Loud Talking</td>\n      <td>Residential Building/House</td>\n      <td>11226</td>\n      <td>1509 NOSTRAND AVENUE</td>\n      <td>...</td>\n      <td>NaN</td>\n      <td>NaN</td>\n      <td>NaN</td>\n      <td>NaN</td>\n      <td>NaN</td>\n      <td>NaN</td>\n      <td>NaN</td>\n      <td>40.649391</td>\n      <td>-73.949411</td>\n      <td>(40.649390802790116, -73.94941102713294)</td>\n    </tr>\n    <tr>\n      <th>2859191</th>\n      <td>43623130</td>\n      <td>08/24/2019 01:58:58 AM</td>\n      <td>NaN</td>\n      <td>NYPD</td>\n      <td>New York City Police Department</td>\n      <td>Noise - Street/Sidewalk</td>\n      <td>Loud Music/Party</td>\n      <td>Street/Sidewalk</td>\n      <td>11234</td>\n      <td>FLATLANDS AVENUE</td>\n      <td>...</td>\n      <td>NaN</td>\n      <td>NaN</td>\n      <td>NaN</td>\n      <td>NaN</td>\n      <td>NaN</td>\n      <td>NaN</td>\n      <td>NaN</td>\n      <td>40.626210</td>\n      <td>-73.927659</td>\n      <td>(40.62621042607075, -73.92765889759266)</td>\n    </tr>\n    <tr>\n      <th>2859192</th>\n      <td>43618563</td>\n      <td>08/24/2019 01:59:20 AM</td>\n      <td>NaN</td>\n      <td>NYPD</td>\n      <td>New York City Police Department</td>\n      <td>Illegal Parking</td>\n      <td>Posted Parking Sign Violation</td>\n      <td>Street/Sidewalk</td>\n      <td>11413</td>\n      <td>146 ROAD</td>\n      <td>...</td>\n      <td>NaN</td>\n      <td>NaN</td>\n      <td>NaN</td>\n      <td>NaN</td>\n      <td>NaN</td>\n      <td>NaN</td>\n      <td>NaN</td>\n      <td>40.661635</td>\n      <td>-73.762651</td>\n      <td>(40.66163483733922, -73.76265143072415)</td>\n    </tr>\n    <tr>\n      <th>2859193</th>\n      <td>43624826</td>\n      <td>08/24/2019 01:59:38 AM</td>\n      <td>NaN</td>\n      <td>NYPD</td>\n      <td>New York City Police Department</td>\n      <td>Noise - Vehicle</td>\n      <td>Car/Truck Music</td>\n      <td>Street/Sidewalk</td>\n      <td>11218</td>\n      <td>3403 14 AVENUE</td>\n      <td>...</td>\n      <td>NaN</td>\n      <td>NaN</td>\n      <td>NaN</td>\n      <td>NaN</td>\n      <td>NaN</td>\n      <td>NaN</td>\n      <td>NaN</td>\n      <td>40.641957</td>\n      <td>-73.981313</td>\n      <td>(40.64195655592916, -73.98131320909779)</td>\n    </tr>\n    <tr>\n      <th>2859194</th>\n      <td>43626512</td>\n      <td>08/24/2019 01:59:40 AM</td>\n      <td>NaN</td>\n      <td>NYPD</td>\n      <td>New York City Police Department</td>\n      <td>Noise - Street/Sidewalk</td>\n      <td>Loud Music/Party</td>\n      <td>Street/Sidewalk</td>\n      <td>10034</td>\n      <td>65 PAYSON AVENUE</td>\n      <td>...</td>\n      <td>NaN</td>\n      <td>NaN</td>\n      <td>NaN</td>\n      <td>NaN</td>\n      <td>NaN</td>\n      <td>NaN</td>\n      <td>NaN</td>\n      <td>40.867405</td>\n      <td>-73.927765</td>\n      <td>(40.867405209755695, -73.9277653007795)</td>\n    </tr>\n    <tr>\n      <th>2859195</th>\n      <td>43619262</td>\n      <td>08/24/2019 02:00:14 AM</td>\n      <td>NaN</td>\n      <td>NYPD</td>\n      <td>New York City Police Department</td>\n      <td>Noise - Street/Sidewalk</td>\n      <td>Loud Music/Party</td>\n      <td>Street/Sidewalk</td>\n      <td>10463</td>\n      <td>3308 BAILEY AVENUE</td>\n      <td>...</td>\n      <td>NaN</td>\n      <td>NaN</td>\n      <td>NaN</td>\n      <td>NaN</td>\n      <td>NaN</td>\n      <td>NaN</td>\n      <td>NaN</td>\n      <td>40.879701</td>\n      <td>-73.901057</td>\n      <td>(40.87970084316435, -73.9010571445122)</td>\n    </tr>\n    <tr>\n      <th>2859196</th>\n      <td>43622052</td>\n      <td>08/24/2019 02:00:20 AM</td>\n      <td>NaN</td>\n      <td>NYPD</td>\n      <td>New York City Police Department</td>\n      <td>Noise - Street/Sidewalk</td>\n      <td>Loud Music/Party</td>\n      <td>Street/Sidewalk</td>\n      <td>11237</td>\n      <td>265 STOCKHOLM STREET</td>\n      <td>...</td>\n      <td>NaN</td>\n      <td>NaN</td>\n      <td>NaN</td>\n      <td>NaN</td>\n      <td>NaN</td>\n      <td>NaN</td>\n      <td>NaN</td>\n      <td>40.701783</td>\n      <td>-73.920555</td>\n      <td>(40.70178323733244, -73.92055493919345)</td>\n    </tr>\n    <tr>\n      <th>2859197</th>\n      <td>43625918</td>\n      <td>08/24/2019 02:00:27 AM</td>\n      <td>NaN</td>\n      <td>NYPD</td>\n      <td>New York City Police Department</td>\n      <td>Noise - Vehicle</td>\n      <td>Car/Truck Music</td>\n      <td>Street/Sidewalk</td>\n      <td>11233</td>\n      <td>560 RALPH AVENUE</td>\n      <td>...</td>\n      <td>NaN</td>\n      <td>NaN</td>\n      <td>NaN</td>\n      <td>NaN</td>\n      <td>NaN</td>\n      <td>NaN</td>\n      <td>NaN</td>\n      <td>40.669992</td>\n      <td>-73.922489</td>\n      <td>(40.66999185896368, -73.9224889475533)</td>\n    </tr>\n    <tr>\n      <th>2859198</th>\n      <td>43622055</td>\n      <td>08/24/2019 02:00:54 AM</td>\n      <td>NaN</td>\n      <td>NYPD</td>\n      <td>New York City Police Department</td>\n      <td>Noise - Street/Sidewalk</td>\n      <td>Loud Music/Party</td>\n      <td>Street/Sidewalk</td>\n      <td>NaN</td>\n      <td>NaN</td>\n      <td>...</td>\n      <td>NaN</td>\n      <td>NaN</td>\n      <td>NaN</td>\n      <td>NaN</td>\n      <td>NaN</td>\n      <td>NaN</td>\n      <td>NaN</td>\n      <td>NaN</td>\n      <td>NaN</td>\n      <td>NaN</td>\n    </tr>\n    <tr>\n      <th>2859199</th>\n      <td>43623704</td>\n      <td>08/24/2019 02:00:56 AM</td>\n      <td>NaN</td>\n      <td>NYPD</td>\n      <td>New York City Police Department</td>\n      <td>Noise - Vehicle</td>\n      <td>Car/Truck Music</td>\n      <td>Street/Sidewalk</td>\n      <td>10303</td>\n      <td>2806 RICHMOND TERRACE</td>\n      <td>...</td>\n      <td>NaN</td>\n      <td>NaN</td>\n      <td>NaN</td>\n      <td>NaN</td>\n      <td>NaN</td>\n      <td>NaN</td>\n      <td>NaN</td>\n      <td>40.636794</td>\n      <td>-74.153979</td>\n      <td>(40.63679359185655, -74.15397942810047)</td>\n    </tr>\n  </tbody>\n</table>\n<p>10 rows × 41 columns</p>\n</div>"
     },
     "metadata": {},
     "execution_count": 5
    }
   ],
   "source": [
    "df.tail(10) # last 10 records in the dataframe"
   ]
  },
  {
   "cell_type": "code",
   "execution_count": 6,
   "metadata": {
    "colab": {
     "base_uri": "https://localhost:8080/",
     "height": 591
    },
    "colab_type": "code",
    "id": "eH6-z-3vM0QI",
    "outputId": "46ab7edf-2b18-43f2-8d83-f90f0cc91be3"
   },
   "outputs": [
    {
     "output_type": "execute_result",
     "data": {
      "text/plain": "         Unique Key            Created Date             Closed Date Agency  \\\n2364351    42916588  06/08/2019 11:43:20 PM  06/16/2019 09:01:45 AM   NYPD   \n1250106    41415155  01/13/2019 06:04:18 PM  01/15/2019 02:00:32 PM    DOT   \n719708     40720414  11/01/2018 10:29:18 AM  11/01/2018 10:36:30 AM    DOT   \n963648     41095523  12/03/2018 04:06:17 PM  12/05/2018 08:54:39 AM    DOF   \n76520      39972470  08/10/2018 06:15:18 PM  08/10/2018 08:12:24 PM   NYPD   \n\n                             Agency Name               Complaint Type  \\\n2364351  New York City Police Department      Noise - Street/Sidewalk   \n1250106     Department of Transportation             Street Condition   \n719708      Department of Transportation             Street Condition   \n963648               Correspondence Unit  DOF Property - Request Copy   \n76520    New York City Police Department              Noise - Vehicle   \n\n                               Descriptor     Location Type Incident Zip  \\\n2364351                  Loud Music/Party   Street/Sidewalk        10453   \n1250106    Rough, Pitted or Cracked Roads            Street        11236   \n719708          Plate Condition - Shifted            Street        10016   \n963648   Copy of Notice of Property Value  Property Address        10460   \n76520                       Engine Idling   Street/Sidewalk        11004   \n\n               Incident Address  ... Vehicle Type Taxi Company Borough  \\\n2364351  1501 UNDERCLIFF AVENUE  ...          NaN                  NaN   \n1250106                     NaN  ...          NaN                  NaN   \n719708                      NaN  ...          NaN                  NaN   \n963648                      NaN  ...          NaN                  NaN   \n76520                       NaN  ...          NaN                  NaN   \n\n        Taxi Pick Up Location Bridge Highway Name Bridge Highway Direction  \\\n2364351                   NaN                 NaN                      NaN   \n1250106                   NaN                 NaN                      NaN   \n719708                    NaN                 NaN                      NaN   \n963648                    NaN                 NaN                      NaN   \n76520                     NaN                 NaN                      NaN   \n\n        Road Ramp Bridge Highway Segment   Latitude  Longitude  \\\n2364351       NaN                    NaN  40.845750 -73.924135   \n1250106       NaN                    NaN  40.628593 -73.905738   \n719708        NaN                    NaN  40.750282 -73.981124   \n963648        NaN                    NaN        NaN        NaN   \n76520         NaN                    NaN  40.746039 -73.718531   \n\n                                         Location  \n2364351  (40.845749925937085, -73.92413470328373)  \n1250106   (40.62859349083009, -73.90573812654965)  \n719708   (40.750281513068074, -73.98112401931803)  \n963648                                        NaN  \n76520     (40.74603884737402, -73.71853073537066)  \n\n[5 rows x 41 columns]",
      "text/html": "<div>\n<style scoped>\n    .dataframe tbody tr th:only-of-type {\n        vertical-align: middle;\n    }\n\n    .dataframe tbody tr th {\n        vertical-align: top;\n    }\n\n    .dataframe thead th {\n        text-align: right;\n    }\n</style>\n<table border=\"1\" class=\"dataframe\">\n  <thead>\n    <tr style=\"text-align: right;\">\n      <th></th>\n      <th>Unique Key</th>\n      <th>Created Date</th>\n      <th>Closed Date</th>\n      <th>Agency</th>\n      <th>Agency Name</th>\n      <th>Complaint Type</th>\n      <th>Descriptor</th>\n      <th>Location Type</th>\n      <th>Incident Zip</th>\n      <th>Incident Address</th>\n      <th>...</th>\n      <th>Vehicle Type</th>\n      <th>Taxi Company Borough</th>\n      <th>Taxi Pick Up Location</th>\n      <th>Bridge Highway Name</th>\n      <th>Bridge Highway Direction</th>\n      <th>Road Ramp</th>\n      <th>Bridge Highway Segment</th>\n      <th>Latitude</th>\n      <th>Longitude</th>\n      <th>Location</th>\n    </tr>\n  </thead>\n  <tbody>\n    <tr>\n      <th>2364351</th>\n      <td>42916588</td>\n      <td>06/08/2019 11:43:20 PM</td>\n      <td>06/16/2019 09:01:45 AM</td>\n      <td>NYPD</td>\n      <td>New York City Police Department</td>\n      <td>Noise - Street/Sidewalk</td>\n      <td>Loud Music/Party</td>\n      <td>Street/Sidewalk</td>\n      <td>10453</td>\n      <td>1501 UNDERCLIFF AVENUE</td>\n      <td>...</td>\n      <td>NaN</td>\n      <td>NaN</td>\n      <td>NaN</td>\n      <td>NaN</td>\n      <td>NaN</td>\n      <td>NaN</td>\n      <td>NaN</td>\n      <td>40.845750</td>\n      <td>-73.924135</td>\n      <td>(40.845749925937085, -73.92413470328373)</td>\n    </tr>\n    <tr>\n      <th>1250106</th>\n      <td>41415155</td>\n      <td>01/13/2019 06:04:18 PM</td>\n      <td>01/15/2019 02:00:32 PM</td>\n      <td>DOT</td>\n      <td>Department of Transportation</td>\n      <td>Street Condition</td>\n      <td>Rough, Pitted or Cracked Roads</td>\n      <td>Street</td>\n      <td>11236</td>\n      <td>NaN</td>\n      <td>...</td>\n      <td>NaN</td>\n      <td>NaN</td>\n      <td>NaN</td>\n      <td>NaN</td>\n      <td>NaN</td>\n      <td>NaN</td>\n      <td>NaN</td>\n      <td>40.628593</td>\n      <td>-73.905738</td>\n      <td>(40.62859349083009, -73.90573812654965)</td>\n    </tr>\n    <tr>\n      <th>719708</th>\n      <td>40720414</td>\n      <td>11/01/2018 10:29:18 AM</td>\n      <td>11/01/2018 10:36:30 AM</td>\n      <td>DOT</td>\n      <td>Department of Transportation</td>\n      <td>Street Condition</td>\n      <td>Plate Condition - Shifted</td>\n      <td>Street</td>\n      <td>10016</td>\n      <td>NaN</td>\n      <td>...</td>\n      <td>NaN</td>\n      <td>NaN</td>\n      <td>NaN</td>\n      <td>NaN</td>\n      <td>NaN</td>\n      <td>NaN</td>\n      <td>NaN</td>\n      <td>40.750282</td>\n      <td>-73.981124</td>\n      <td>(40.750281513068074, -73.98112401931803)</td>\n    </tr>\n    <tr>\n      <th>963648</th>\n      <td>41095523</td>\n      <td>12/03/2018 04:06:17 PM</td>\n      <td>12/05/2018 08:54:39 AM</td>\n      <td>DOF</td>\n      <td>Correspondence Unit</td>\n      <td>DOF Property - Request Copy</td>\n      <td>Copy of Notice of Property Value</td>\n      <td>Property Address</td>\n      <td>10460</td>\n      <td>NaN</td>\n      <td>...</td>\n      <td>NaN</td>\n      <td>NaN</td>\n      <td>NaN</td>\n      <td>NaN</td>\n      <td>NaN</td>\n      <td>NaN</td>\n      <td>NaN</td>\n      <td>NaN</td>\n      <td>NaN</td>\n      <td>NaN</td>\n    </tr>\n    <tr>\n      <th>76520</th>\n      <td>39972470</td>\n      <td>08/10/2018 06:15:18 PM</td>\n      <td>08/10/2018 08:12:24 PM</td>\n      <td>NYPD</td>\n      <td>New York City Police Department</td>\n      <td>Noise - Vehicle</td>\n      <td>Engine Idling</td>\n      <td>Street/Sidewalk</td>\n      <td>11004</td>\n      <td>NaN</td>\n      <td>...</td>\n      <td>NaN</td>\n      <td>NaN</td>\n      <td>NaN</td>\n      <td>NaN</td>\n      <td>NaN</td>\n      <td>NaN</td>\n      <td>NaN</td>\n      <td>40.746039</td>\n      <td>-73.718531</td>\n      <td>(40.74603884737402, -73.71853073537066)</td>\n    </tr>\n  </tbody>\n</table>\n<p>5 rows × 41 columns</p>\n</div>"
     },
     "metadata": {},
     "execution_count": 6
    }
   ],
   "source": [
    "df.sample(5) # random sample of size determined by you"
   ]
  },
  {
   "cell_type": "markdown",
   "metadata": {
    "colab_type": "text",
    "id": "f-YNgxGPNRgi"
   },
   "source": [
    "## How many records are in the dataset?"
   ]
  },
  {
   "cell_type": "markdown",
   "metadata": {
    "colab_type": "text",
    "id": "U6qLd5lMtHUs"
   },
   "source": [
    "### `size` method"
   ]
  },
  {
   "cell_type": "code",
   "execution_count": 7,
   "metadata": {
    "colab": {
     "base_uri": "https://localhost:8080/",
     "height": 34
    },
    "colab_type": "code",
    "id": "eWWvpbFIsMbm",
    "outputId": "42f3dd9c-3b3e-4b4c-e2d5-629db80e16e4"
   },
   "outputs": [
    {
     "output_type": "execute_result",
     "data": {
      "text/plain": "117227200"
     },
     "metadata": {},
     "execution_count": 7
    }
   ],
   "source": [
    "# how many cells are there in the data table?\n",
    "df.size"
   ]
  },
  {
   "cell_type": "code",
   "execution_count": 8,
   "metadata": {
    "colab": {
     "base_uri": "https://localhost:8080/",
     "height": 34
    },
    "colab_type": "code",
    "id": "VPCoqOTKN3aB",
    "outputId": "67ecec11-e561-4d20-ab5b-5f226632d7c1"
   },
   "outputs": [
    {
     "output_type": "execute_result",
     "data": {
      "text/plain": "2859200"
     },
     "metadata": {},
     "execution_count": 8
    }
   ],
   "source": [
    "# what if I only care about how many rows there are?\n",
    "# the columns in the dataframe are like a list. \n",
    "# you can use a column name as an index to get one column from the dataframe\n",
    "\n",
    "# size does include of null (empty) values\n",
    "df['Facility Type'].size"
   ]
  },
  {
   "cell_type": "markdown",
   "metadata": {
    "colab_type": "text",
    "id": "iEQWWBLhtLHB",
    "toc-hr-collapsed": true,
    "toc-nb-collapsed": true
   },
   "source": [
    "### `count()` method\n",
    "\n",
    "You can also use the `count()` function, which gives the count of values per column. `count()` doesn't include null (empty) values."
   ]
  },
  {
   "cell_type": "code",
   "execution_count": 9,
   "metadata": {
    "colab": {
     "base_uri": "https://localhost:8080/",
     "height": 746
    },
    "colab_type": "code",
    "id": "-qOKcOjbr-p7",
    "outputId": "ce7842e3-7923-4a28-e35d-230f08eda0f5"
   },
   "outputs": [
    {
     "output_type": "execute_result",
     "data": {
      "text/plain": "Unique Key                        2859200\nCreated Date                      2859200\nClosed Date                       2722927\nAgency                            2859200\nAgency Name                       2859200\nComplaint Type                    2859200\nDescriptor                        2816522\nLocation Type                     2242215\nIncident Zip                      2746912\nIncident Address                  2483931\nStreet Name                       2483750\nCross Street 1                    1719330\nCross Street 2                    1712706\nIntersection Street 1              613896\nIntersection Street 2              611987\nAddress Type                      2579813\nCity                              2725223\nLandmark                           185198\nFacility Type                      769320\nStatus                            2859200\nDue Date                           978779\nResolution Description            2615253\nResolution Action Updated Date    2795696\nCommunity Board                   2859200\nBBL                               2329340\nBorough                           2859200\nX Coordinate (State Plane)        2691466\nY Coordinate (State Plane)        2691466\nOpen Data Channel Type            2859200\nPark Facility Name                2859011\nPark Borough                      2859200\nVehicle Type                          252\nTaxi Company Borough                 2248\nTaxi Pick Up Location               25748\nBridge Highway Name                  3872\nBridge Highway Direction             4294\nRoad Ramp                            4270\nBridge Highway Segment               5878\nLatitude                          2691466\nLongitude                         2691466\nLocation                          2691466\ndtype: int64"
     },
     "metadata": {},
     "execution_count": 9
    }
   ],
   "source": [
    "df.count()"
   ]
  },
  {
   "cell_type": "markdown",
   "metadata": {
    "colab_type": "text",
    "id": "hcI-iQxlWgod"
   },
   "source": [
    "To just get the count in the \"unique key\" column:"
   ]
  },
  {
   "cell_type": "code",
   "execution_count": 10,
   "metadata": {
    "colab": {
     "base_uri": "https://localhost:8080/",
     "height": 34
    },
    "colab_type": "code",
    "id": "kemmxVSIsnIS",
    "outputId": "f81d2ef1-46e1-49a4-c9f3-562fee4589d0"
   },
   "outputs": [
    {
     "output_type": "execute_result",
     "data": {
      "text/plain": "2859200"
     },
     "metadata": {},
     "execution_count": 10
    }
   ],
   "source": [
    "df['Unique Key'].count()"
   ]
  },
  {
   "cell_type": "markdown",
   "metadata": {
    "colab_type": "text",
    "id": "7DPo85wSNU6q",
    "toc-hr-collapsed": true,
    "toc-nb-collapsed": true
   },
   "source": [
    "### `info()` method"
   ]
  },
  {
   "cell_type": "code",
   "execution_count": 11,
   "metadata": {
    "colab": {
     "base_uri": "https://localhost:8080/",
     "height": 816
    },
    "colab_type": "code",
    "id": "--ben4hfmTaB",
    "outputId": "62bae542-8fda-40c4-82f6-7a6410c2a90b"
   },
   "outputs": [
    {
     "output_type": "stream",
     "name": "stdout",
     "text": "<class 'pandas.core.frame.DataFrame'>\nRangeIndex: 2859200 entries, 0 to 2859199\nData columns (total 41 columns):\n #   Column                          Dtype  \n---  ------                          -----  \n 0   Unique Key                      int64  \n 1   Created Date                    object \n 2   Closed Date                     object \n 3   Agency                          object \n 4   Agency Name                     object \n 5   Complaint Type                  object \n 6   Descriptor                      object \n 7   Location Type                   object \n 8   Incident Zip                    object \n 9   Incident Address                object \n 10  Street Name                     object \n 11  Cross Street 1                  object \n 12  Cross Street 2                  object \n 13  Intersection Street 1           object \n 14  Intersection Street 2           object \n 15  Address Type                    object \n 16  City                            object \n 17  Landmark                        object \n 18  Facility Type                   object \n 19  Status                          object \n 20  Due Date                        object \n 21  Resolution Description          object \n 22  Resolution Action Updated Date  object \n 23  Community Board                 object \n 24  BBL                             float64\n 25  Borough                         object \n 26  X Coordinate (State Plane)      float64\n 27  Y Coordinate (State Plane)      float64\n 28  Open Data Channel Type          object \n 29  Park Facility Name              object \n 30  Park Borough                    object \n 31  Vehicle Type                    object \n 32  Taxi Company Borough            object \n 33  Taxi Pick Up Location           object \n 34  Bridge Highway Name             object \n 35  Bridge Highway Direction        object \n 36  Road Ramp                       object \n 37  Bridge Highway Segment          object \n 38  Latitude                        float64\n 39  Longitude                       float64\n 40  Location                        object \ndtypes: float64(5), int64(1), object(35)\nmemory usage: 894.4+ MB\n"
    }
   ],
   "source": [
    "df.info()"
   ]
  },
  {
   "cell_type": "markdown",
   "metadata": {
    "colab_type": "text",
    "id": "jy54_jkFNYm3"
   },
   "source": [
    "## What are the distinct sets of values in columns that seem most useful?"
   ]
  },
  {
   "cell_type": "markdown",
   "metadata": {
    "colab_type": "text",
    "id": "UqfGEk09uHsN"
   },
   "source": [
    "### `set()` function for getting a set of unique values\n",
    "\n",
    "Let's look at the \"status\" column. What are the status options for these 311 complaints?"
   ]
  },
  {
   "cell_type": "code",
   "execution_count": 12,
   "metadata": {
    "colab": {
     "base_uri": "https://localhost:8080/",
     "height": 34
    },
    "colab_type": "code",
    "id": "cIVITVAQN3_c",
    "outputId": "d98eba00-5a05-4327-ea0a-eeb92d63a09d"
   },
   "outputs": [
    {
     "output_type": "execute_result",
     "data": {
      "text/plain": "{'Assigned',\n 'Closed',\n 'Email Sent',\n 'In Progress',\n 'Open',\n 'Pending',\n 'Started',\n 'Unspecified'}"
     },
     "metadata": {},
     "execution_count": 12
    }
   ],
   "source": [
    "set(df['Status'])"
   ]
  },
  {
   "cell_type": "code",
   "execution_count": 13,
   "metadata": {
    "colab": {
     "base_uri": "https://localhost:8080/",
     "height": 34
    },
    "colab_type": "code",
    "id": "W_tjsqNSp5vd",
    "outputId": "672b21e3-d0ca-45e3-ed2b-964187e8276b"
   },
   "outputs": [
    {
     "output_type": "execute_result",
     "data": {
      "text/plain": "{'MOBILE', 'ONLINE', 'OTHER', 'PHONE', 'UNKNOWN'}"
     },
     "metadata": {},
     "execution_count": 13
    }
   ],
   "source": [
    "set(df['Open Data Channel Type'])\n",
    ""
   ]
  },
  {
   "cell_type": "code",
   "execution_count": 14,
   "metadata": {
    "colab": {
     "base_uri": "https://localhost:8080/",
     "height": 260
    },
    "colab_type": "code",
    "id": "uYrNPIqfqhz5",
    "outputId": "70677b3d-8f73-4a69-d6ed-86a7821197bf"
   },
   "outputs": [
    {
     "output_type": "execute_result",
     "data": {
      "text/plain": "{'ACS',\n 'COIB',\n 'DCA',\n 'DCAS',\n 'DCP',\n 'DEP',\n 'DFTA',\n 'DHS',\n 'DOB',\n 'DOE',\n 'DOF',\n 'DOHMH',\n 'DOITT',\n 'DOT',\n 'DPR',\n 'DSNY',\n 'DVS',\n 'EDC',\n 'FDNY',\n 'HPD',\n 'HRA',\n 'MOC',\n 'NYCEM',\n 'NYPD',\n 'OMB',\n 'TAT',\n 'TAX',\n 'TLC'}"
     },
     "metadata": {},
     "execution_count": 14
    }
   ],
   "source": [
    "set(df['Agency'])"
   ]
  },
  {
   "cell_type": "code",
   "execution_count": 15,
   "metadata": {
    "colab": {
     "base_uri": "https://localhost:8080/",
     "height": 1000
    },
    "colab_type": "code",
    "id": "98VyXQuBqWM8",
    "outputId": "e705ed1c-73cf-49d8-e50c-6ced6e0a0cef"
   },
   "outputs": [
    {
     "output_type": "execute_result",
     "data": {
      "text/plain": "{'\"-->\\'-->`-->&...',\n '$(sleep 11)',\n '${3804*3137}',\n '%2e%2e%2f%2e%2e%2f%2e%2e%2f...',\n '%2e%2e%5c%2e%2e%5c%2e%2e%5c...',\n '%2fetc%2fpasswd',\n '%E5%98%8A%E5%98%8DX-Injecti...',\n '%c0%ae/%c0%ae/%c0%ae/%c0%ae...',\n '%c0%ae/%c0%ae/%c0%ae/WEB-IN...',\n '%c0%ae/%c0%ae/WEB-INF/web.xml',\n '%c0%ae/WEB-INF/web.xml',\n '%{(#dm=@ognl.OgnlContext@DE...',\n '%{4761*8506}',\n '() { :;}; /bin/sleep 0',\n '() { :;}; /bin/sleep 11',\n '() { _; } >_',\n '(select extractvalue(xmltyp...',\n \"(select load_file('\\\\\\\\\\\\\\\\615h...\",\n '*)(!(objectClass=*)',\n '*)(objectClass=*',\n '.../....///.../....///.../....',\n '.../...//.../...//.../...//...',\n '..././..././..././..././......',\n '.../.\\\\.../.\\\\.../.\\\\.../.\\\\......',\n '.../Misc. Comments',\n '...\\\\./...\\\\./...\\\\./...\\\\./......',\n '...\\\\.\\\\...\\\\.\\\\...\\\\.\\\\...\\\\.\\\\......',\n '../../../../../../../../../...',\n '../../../../WEB-INF/web.xml',\n '../../../WEB-INF/web.xml',\n '../../../WEB-INF/web.xml;x=',\n '../../WEB-INF/web.xml',\n '../../WEB-INF/web.xml;x=',\n '../WEB-INF/web.xml',\n '../WEB-INF/web.xml;x=',\n '..\\\\..\\\\..\\\\..\\\\..\\\\..\\\\..\\\\..\\\\..\\\\...',\n './validate_form.php',\n '/./validate_form.php',\n '/etc/passwd',\n '1430*4963',\n '266dyrgvhg1egsyp2oq57axbm2s...',\n '<odb xmlns:xi=\"http...',\n '<vlv xmlns=\"http://...',\n '@(9313*3464)',\n 'AGENCY',\n 'APPLIANCE',\n 'Abandoned Vehicle',\n 'Adopt-A-Basket',\n 'Advocate - Lien',\n 'Advocate - Other',\n 'Advocate - RPIE',\n 'Advocate-Business Tax',\n 'Advocate-Co-opCondo Abatement',\n 'Advocate-Commercial Exemptions',\n 'Advocate-Foreclosure',\n 'Advocate-Personal Exemptions',\n 'Advocate-Prop Class Incorrect',\n 'Advocate-Prop Refunds/Credits',\n 'Advocate-Property Value',\n 'Advocate-SCRIE/DRIE',\n 'Air Quality',\n \"Alzheimer's Care\",\n 'Animal Abuse',\n 'Animal Facility - No Permit',\n 'Animal in a Park',\n 'Animal-Abuse',\n 'Appliance',\n 'Asbestos',\n 'BEST/Site Safety',\n 'Beach/Pool/Sauna Complaint',\n 'Benefit Card Replacement',\n 'Bereavement Support Group',\n 'Bike Rack Condition',\n 'Bike/Roller/Skate Chronic',\n 'Blocked Driveway',\n 'Boilers',\n 'Borough Office',\n 'Bottled Water',\n 'Bridge Condition',\n 'Broken Parking Meter',\n 'Building Condition',\n 'Building Marshals office',\n 'Building/Use',\n 'Bus Stop Shelter Complaint',\n 'Bus Stop Shelter Placement',\n 'Calorie Labeling',\n 'Case Management Agency Complaint',\n 'Collection Truck Noise',\n 'Comments',\n 'Construction',\n 'Construction Safety Enforcement',\n 'Consumer Complaint',\n 'Cooling Tower',\n 'Cranes and Derricks',\n 'Curb Condition',\n 'DCA / DOH New License Application Request',\n 'DEP Highway Condition',\n 'DEP Sidewalk Condition',\n 'DEP Street Condition',\n 'DOF Parking - DMV Clearance',\n 'DOF Parking - Payment Issue',\n 'DOF Parking - Request Copy',\n 'DOF Parking - Request Status',\n 'DOF Parking - Tax Exemption',\n 'DOF Property - Owner Issue',\n 'DOF Property - Payment Issue',\n 'DOF Property - Property Value',\n 'DOF Property - RPIE Issue',\n 'DOF Property - Reduction Issue',\n 'DOF Property - Request Copy',\n 'DOF Property - Update Account',\n 'DOOR/WINDOW',\n 'DPR Internal',\n 'DRIE',\n 'DSNY Spillage',\n 'Damaged Tree',\n 'Day Care',\n 'Dead/Dying Tree',\n 'Dept of Investigations',\n 'Derelict Bicycle',\n 'Derelict Vehicle',\n 'Derelict Vehicles',\n 'Dirty Conditions',\n 'Disorderly Youth',\n 'Dispatched Taxi Complaint',\n 'Dispatched Taxi Compliment',\n 'Drinking',\n 'Drinking Water',\n 'Drug Activity',\n 'ELECTRIC',\n 'ELEVATOR',\n 'Elder Abuse',\n 'Electric',\n 'Electrical',\n 'Electronics Waste',\n 'Electronics Waste Appointment',\n 'Elevator',\n 'Emergency Response Team (ERT)',\n 'Employee Behavior',\n 'Executive Inspections',\n 'FATF',\n 'FHV Licensee Complaint',\n 'FLOORING/STAIRS',\n 'Facades',\n 'Ferry Complaint',\n 'Ferry Inquiry',\n 'Ferry Permit',\n 'Fire Alarm - Modification',\n 'Fire Alarm - New System',\n 'Fire Alarm - Reinspection',\n 'Fire Alarm - Replacement',\n 'Foam Ban Enforcement',\n 'Food Establishment',\n 'Food Poisoning',\n 'For Hire Vehicle Complaint',\n 'For Hire Vehicle Report',\n 'Forensic Engineering',\n 'Forms',\n 'Found Property',\n 'GENERAL',\n 'General',\n 'General Construction/Plumbing',\n 'Graffiti',\n 'Green Taxi Complaint',\n 'Green Taxi Report',\n 'HEAT/HOT WATER',\n 'HPD Literature Request',\n 'Harboring Bees/Wasps',\n 'Hazardous Materials',\n 'Hazmat Storage/Use',\n 'Highway Condition',\n 'Highway Sign - Damaged',\n 'Highway Sign - Dangling',\n 'Highway Sign - Missing',\n 'Home Care Provider Complaint',\n 'Home Delivered Meal - Missed Delivery',\n 'Home Delivered Meal Complaint',\n 'Homeless Encampment',\n 'Homeless Person Assistance',\n 'Housing - Low Income Senior',\n 'Housing Options',\n 'Illegal Animal Kept as Pet',\n 'Illegal Animal Sold',\n 'Illegal Fireworks',\n 'Illegal Parking',\n 'Illegal Tree Damage',\n 'Indoor Air Quality',\n 'Indoor Sewage',\n 'Industrial Waste',\n 'Internal Code',\n 'Investigations and Discipline (IAD)',\n 'Lead',\n 'Lifeguard',\n 'LinkNYC',\n 'Litter Basket / Request',\n 'Lost Property',\n 'MSOTHER',\n 'Maintenance or Facility',\n 'Misc. Comments  BCC:a5glxzf...',\n 'Misc. Comments\"',\n 'Misc. Comments\"|echo 2...',\n 'Misc. Comments\"|ping -...',\n \"Misc. Comments%}dt2pq'/&quo...\",\n 'Misc. Comments&echo xjd...',\n 'Misc. Comments&nslookup...',\n 'Misc. Comments&ping -n ...',\n \"Misc. Comments'\",\n \"Misc. Comments' and '1618'=...\",\n \"Misc. Comments' and '7835'=...\",\n \"Misc. Comments' and (select...\",\n \"Misc. Comments' and 6049=60...\",\n \"Misc. Comments' and 7702=77...\",\n \"Misc. Comments' waitfor del...\",\n 'Misc. Comments\\'\"`0&amp...',\n \"Misc. Comments'(select*from...\",\n \"Misc. Comments');declare @q...\",\n \"Misc. Comments')waitfor del...\",\n \"Misc. Comments'+(function()...\",\n \"Misc. Comments'+(select loa...\",\n \"Misc. Comments'+(select*fro...\",\n \"Misc. Comments'+eval(compil...\",\n \"Misc. Comments'+sleep(20.to...\",\n \"Misc. Comments',0)waitfor d...\",\n \"Misc. Comments'.sleep(20).'\",\n \"Misc. Comments';declare @q ...\",\n \"Misc. Comments'|echo y9v6fc...\",\n \"Misc. Comments'|ping -c 21 ...\",\n \"Misc. Comments'||(select ex...\",\n 'Misc. Comments);declare @q ...',\n 'Misc. Comments,(select*from...',\n 'Misc. Comments../../../../....',\n 'Misc. Comments..\\\\..\\\\..\\\\..\\\\....',\n \"Misc. Comments47876391' or ...\",\n \"Misc. Comments52038737' or ...\",\n \"Misc. Comments69075347' or ...\",\n \"Misc. Comments88909845' or ...\",\n 'Misc. Comments;declare @q v...',\n 'Misc. Comments>  BCC:bl0...',\n 'Misc. Comments]]>><',\n 'Misc. Commentseowljujfh8',\n 'Misc. Commentso0w3r%>xb6...',\n 'Misc. Comments{${sleep(20)}}',\n 'Misc. Comments|echo 3p7wexz...',\n 'Misc. Comments|nslookup -q=...',\n 'Misc. Comments|ping -c 21 1...',\n 'Misc. Comments|ping -n 21 1...',\n \"Misc. Comments}}t2v95'/&quo...\",\n 'Miscellaneous Categories',\n 'Missed Collection',\n 'Missed Collection (All Materials)',\n 'Mobile Food Vendor',\n 'Mold',\n 'Mosquitoes',\n 'Municipal Parking Facility',\n 'New Tree Request',\n 'Noise',\n 'Noise - Commercial',\n 'Noise - Helicopter',\n 'Noise - House of Worship',\n 'Noise - Park',\n 'Noise - Residential',\n 'Noise - Street/Sidewalk',\n 'Noise - Vehicle',\n 'Non-Emergency Police Matter',\n 'Non-Residential Heat',\n 'OEM Literature Request',\n 'OUTSIDE BUILDING',\n 'Other Enforcement',\n 'Outside Building',\n 'Overflowing Litter Baskets',\n 'Overflowing Recycling Baskets',\n 'Overgrown Tree/Branches',\n 'PAINT/PLASTER',\n 'PLUMBING',\n 'Panhandling',\n 'Parking Card',\n 'Pet Shop',\n 'Plant',\n 'Plumbing',\n 'Poison Ivy',\n 'Posting Advertisement',\n 'Public Assembly',\n 'Public Payphone Complaint',\n 'Public Toilet',\n 'Quality of Life',\n 'Question',\n 'Radioactive Material',\n 'Rangehood',\n 'Recycling Enforcement',\n 'Request Changes - A.S.P.',\n 'Request Large Bulky Item Collection',\n 'Request Xmas Tree Collection',\n 'Research Questions',\n 'Rodent',\n 'Root/Sewer/Sidewalk Condition',\n 'SAFETY',\n 'SCRIE',\n 'SRDE',\n 'Safety',\n 'Sanitation Condition',\n 'Scaffold Safety',\n 'School Maintenance',\n 'Select Message Type...',\n 'Senior Center Complaint',\n 'Sewer',\n 'Sidewalk Condition',\n 'Single Occupancy Bathroom',\n 'Smoking',\n 'Snow',\n 'Special Natural Area District (SNAD)',\n 'Special Operations',\n 'Special Projects Inspection Team (SPIT)',\n 'Sprinkler - Mechanical',\n 'Squeegee',\n 'Stalled Sites',\n 'Standing Water',\n 'Street Condition',\n 'Street Light Condition',\n 'Street Sign - Damaged',\n 'Street Sign - Dangling',\n 'Street Sign - Missing',\n 'Sustainability Enforcement',\n 'Sweeping/Inadequate',\n 'Sweeping/Missed',\n 'Sweeping/Missed-Inadequate',\n 'Tanning',\n 'Tattooing',\n 'Taxi Complaint',\n 'Taxi Compliment',\n 'Taxi Licensee Complaint',\n 'Taxi Report',\n 'Taxpayer Advocate Inquiry',\n 'Traffic',\n 'Traffic Signal Condition',\n 'Trans Fat',\n 'Transportation Provider Complaint',\n 'Tunnel Condition',\n 'UNSANITARY CONDITION',\n 'Unleashed Dog',\n 'Unlicensed Dog',\n 'Unsanitary Animal Facility',\n 'Unsanitary Animal Pvt Property',\n 'Unsanitary Condition',\n 'Unsanitary Pigeon Condition',\n 'Urinating in Public',\n 'Vacant Lot',\n 'Vending',\n 'Violation of Park Rules',\n 'WATER LEAK',\n 'Water Conservation',\n 'Water Leak',\n 'Water Quality',\n 'Water System',\n 'Window Guard',\n 'X-Ray Machine/Equipment',\n '\\\\windows\\\\win.ini',\n '`sleep 11`',\n 'a\\'a\\\\\\'b\"c>?>%}}%%...',\n 'bcd9<!--esi-->1ggp&lt...',\n 'c:\\\\windows\\\\win.ini',\n 'c:\\\\windows\\\\win.ini Misc. Co...',\n \"eval(compile('for x in rang...\",\n 'file:///c:/windows/win.ini',\n 'file:///etc/passwd',\n 'g0oii1s4s5)(objectClass=*',\n 'hcvn1{{687*375}}gji51',\n 'http://g7orz5h9iu2sh6z332rj...',\n 'idexf3mrb7)(!(objectClass=*)',\n \"kawn''lcgv\",\n 'nslookup -q=cname nneyfcxgy...',\n 'qfix4${695*589}lixaf',\n 'yw97y0gi2s',\n \"{!xmlparser v='<!DOCTYPE...\"}"
     },
     "metadata": {},
     "execution_count": 15
    }
   ],
   "source": [
    "set(df['Complaint Type'])"
   ]
  },
  {
   "cell_type": "markdown",
   "metadata": {
    "colab_type": "text",
    "id": "whxG3hFluOfl"
   },
   "source": [
    "FYI you can also use `df['column_name'].unique()` to get a list of unique values."
   ]
  },
  {
   "cell_type": "markdown",
   "metadata": {
    "colab_type": "text",
    "id": "xpsw1crsA2Yh"
   },
   "source": [
    "## In-class exercise\n",
    "\n",
    "[Create a Google Colab notebook](https://colab.research.google.com/notebook#create=true) called `lefture_1_exercise`. In it,\n",
    "\n",
    "1. Read in the 311 dataset and save it as `df`. Remember there is a package you need to import in order for this to work.\n",
    "2. Answer these two questions about the data, showing your code that produced the result in two individual code cells: \n",
    "    1. What is the minimum value in the `Created Date` column?\n",
    "    1. What is the maximum value in the `Created Date` column?\n",
    "3. Create a text cell where you will briefly discuss the min and max results: does anything about the resulting min and max values surprise you? What do think causes this? \n",
    "    - Hint: Look at the year. If you use `.head()` and `.tail()` you can find the real min and max dates. We'll learn more about how to properly handle dates in a later lecture."
   ]
  },
  {
   "cell_type": "markdown",
   "metadata": {
    "colab_type": "text",
    "id": "qeYA8-rMlpJa"
   },
   "source": [
    "## Excluding bad records from the dataframe"
   ]
  },
  {
   "cell_type": "markdown",
   "metadata": {
    "colab_type": "text",
    "id": "RgP7ehPsmozX"
   },
   "source": [
    "First, let's refresh ourselves on what the invalid complaint types are, by getting the distinct list of all complaint types"
   ]
  },
  {
   "cell_type": "code",
   "execution_count": 16,
   "metadata": {
    "colab": {
     "base_uri": "https://localhost:8080/",
     "height": 1000
    },
    "colab_type": "code",
    "id": "cU0-Bnjfb5ft",
    "outputId": "a9da5ac2-ca37-4897-cf03-199f783dc430"
   },
   "outputs": [
    {
     "output_type": "execute_result",
     "data": {
      "text/plain": "{'\"-->\\'-->`-->&...',\n '$(sleep 11)',\n '${3804*3137}',\n '%2e%2e%2f%2e%2e%2f%2e%2e%2f...',\n '%2e%2e%5c%2e%2e%5c%2e%2e%5c...',\n '%2fetc%2fpasswd',\n '%E5%98%8A%E5%98%8DX-Injecti...',\n '%c0%ae/%c0%ae/%c0%ae/%c0%ae...',\n '%c0%ae/%c0%ae/%c0%ae/WEB-IN...',\n '%c0%ae/%c0%ae/WEB-INF/web.xml',\n '%c0%ae/WEB-INF/web.xml',\n '%{(#dm=@ognl.OgnlContext@DE...',\n '%{4761*8506}',\n '() { :;}; /bin/sleep 0',\n '() { :;}; /bin/sleep 11',\n '() { _; } >_',\n '(select extractvalue(xmltyp...',\n \"(select load_file('\\\\\\\\\\\\\\\\615h...\",\n '*)(!(objectClass=*)',\n '*)(objectClass=*',\n '.../....///.../....///.../....',\n '.../...//.../...//.../...//...',\n '..././..././..././..././......',\n '.../.\\\\.../.\\\\.../.\\\\.../.\\\\......',\n '.../Misc. Comments',\n '...\\\\./...\\\\./...\\\\./...\\\\./......',\n '...\\\\.\\\\...\\\\.\\\\...\\\\.\\\\...\\\\.\\\\......',\n '../../../../../../../../../...',\n '../../../../WEB-INF/web.xml',\n '../../../WEB-INF/web.xml',\n '../../../WEB-INF/web.xml;x=',\n '../../WEB-INF/web.xml',\n '../../WEB-INF/web.xml;x=',\n '../WEB-INF/web.xml',\n '../WEB-INF/web.xml;x=',\n '..\\\\..\\\\..\\\\..\\\\..\\\\..\\\\..\\\\..\\\\..\\\\...',\n './validate_form.php',\n '/./validate_form.php',\n '/etc/passwd',\n '1430*4963',\n '266dyrgvhg1egsyp2oq57axbm2s...',\n '<odb xmlns:xi=\"http...',\n '<vlv xmlns=\"http://...',\n '@(9313*3464)',\n 'AGENCY',\n 'APPLIANCE',\n 'Abandoned Vehicle',\n 'Adopt-A-Basket',\n 'Advocate - Lien',\n 'Advocate - Other',\n 'Advocate - RPIE',\n 'Advocate-Business Tax',\n 'Advocate-Co-opCondo Abatement',\n 'Advocate-Commercial Exemptions',\n 'Advocate-Foreclosure',\n 'Advocate-Personal Exemptions',\n 'Advocate-Prop Class Incorrect',\n 'Advocate-Prop Refunds/Credits',\n 'Advocate-Property Value',\n 'Advocate-SCRIE/DRIE',\n 'Air Quality',\n \"Alzheimer's Care\",\n 'Animal Abuse',\n 'Animal Facility - No Permit',\n 'Animal in a Park',\n 'Animal-Abuse',\n 'Appliance',\n 'Asbestos',\n 'BEST/Site Safety',\n 'Beach/Pool/Sauna Complaint',\n 'Benefit Card Replacement',\n 'Bereavement Support Group',\n 'Bike Rack Condition',\n 'Bike/Roller/Skate Chronic',\n 'Blocked Driveway',\n 'Boilers',\n 'Borough Office',\n 'Bottled Water',\n 'Bridge Condition',\n 'Broken Parking Meter',\n 'Building Condition',\n 'Building Marshals office',\n 'Building/Use',\n 'Bus Stop Shelter Complaint',\n 'Bus Stop Shelter Placement',\n 'Calorie Labeling',\n 'Case Management Agency Complaint',\n 'Collection Truck Noise',\n 'Comments',\n 'Construction',\n 'Construction Safety Enforcement',\n 'Consumer Complaint',\n 'Cooling Tower',\n 'Cranes and Derricks',\n 'Curb Condition',\n 'DCA / DOH New License Application Request',\n 'DEP Highway Condition',\n 'DEP Sidewalk Condition',\n 'DEP Street Condition',\n 'DOF Parking - DMV Clearance',\n 'DOF Parking - Payment Issue',\n 'DOF Parking - Request Copy',\n 'DOF Parking - Request Status',\n 'DOF Parking - Tax Exemption',\n 'DOF Property - Owner Issue',\n 'DOF Property - Payment Issue',\n 'DOF Property - Property Value',\n 'DOF Property - RPIE Issue',\n 'DOF Property - Reduction Issue',\n 'DOF Property - Request Copy',\n 'DOF Property - Update Account',\n 'DOOR/WINDOW',\n 'DPR Internal',\n 'DRIE',\n 'DSNY Spillage',\n 'Damaged Tree',\n 'Day Care',\n 'Dead/Dying Tree',\n 'Dept of Investigations',\n 'Derelict Bicycle',\n 'Derelict Vehicle',\n 'Derelict Vehicles',\n 'Dirty Conditions',\n 'Disorderly Youth',\n 'Dispatched Taxi Complaint',\n 'Dispatched Taxi Compliment',\n 'Drinking',\n 'Drinking Water',\n 'Drug Activity',\n 'ELECTRIC',\n 'ELEVATOR',\n 'Elder Abuse',\n 'Electric',\n 'Electrical',\n 'Electronics Waste',\n 'Electronics Waste Appointment',\n 'Elevator',\n 'Emergency Response Team (ERT)',\n 'Employee Behavior',\n 'Executive Inspections',\n 'FATF',\n 'FHV Licensee Complaint',\n 'FLOORING/STAIRS',\n 'Facades',\n 'Ferry Complaint',\n 'Ferry Inquiry',\n 'Ferry Permit',\n 'Fire Alarm - Modification',\n 'Fire Alarm - New System',\n 'Fire Alarm - Reinspection',\n 'Fire Alarm - Replacement',\n 'Foam Ban Enforcement',\n 'Food Establishment',\n 'Food Poisoning',\n 'For Hire Vehicle Complaint',\n 'For Hire Vehicle Report',\n 'Forensic Engineering',\n 'Forms',\n 'Found Property',\n 'GENERAL',\n 'General',\n 'General Construction/Plumbing',\n 'Graffiti',\n 'Green Taxi Complaint',\n 'Green Taxi Report',\n 'HEAT/HOT WATER',\n 'HPD Literature Request',\n 'Harboring Bees/Wasps',\n 'Hazardous Materials',\n 'Hazmat Storage/Use',\n 'Highway Condition',\n 'Highway Sign - Damaged',\n 'Highway Sign - Dangling',\n 'Highway Sign - Missing',\n 'Home Care Provider Complaint',\n 'Home Delivered Meal - Missed Delivery',\n 'Home Delivered Meal Complaint',\n 'Homeless Encampment',\n 'Homeless Person Assistance',\n 'Housing - Low Income Senior',\n 'Housing Options',\n 'Illegal Animal Kept as Pet',\n 'Illegal Animal Sold',\n 'Illegal Fireworks',\n 'Illegal Parking',\n 'Illegal Tree Damage',\n 'Indoor Air Quality',\n 'Indoor Sewage',\n 'Industrial Waste',\n 'Internal Code',\n 'Investigations and Discipline (IAD)',\n 'Lead',\n 'Lifeguard',\n 'LinkNYC',\n 'Litter Basket / Request',\n 'Lost Property',\n 'MSOTHER',\n 'Maintenance or Facility',\n 'Misc. Comments  BCC:a5glxzf...',\n 'Misc. Comments\"',\n 'Misc. Comments\"|echo 2...',\n 'Misc. Comments\"|ping -...',\n \"Misc. Comments%}dt2pq'/&quo...\",\n 'Misc. Comments&echo xjd...',\n 'Misc. Comments&nslookup...',\n 'Misc. Comments&ping -n ...',\n \"Misc. Comments'\",\n \"Misc. Comments' and '1618'=...\",\n \"Misc. Comments' and '7835'=...\",\n \"Misc. Comments' and (select...\",\n \"Misc. Comments' and 6049=60...\",\n \"Misc. Comments' and 7702=77...\",\n \"Misc. Comments' waitfor del...\",\n 'Misc. Comments\\'\"`0&amp...',\n \"Misc. Comments'(select*from...\",\n \"Misc. Comments');declare @q...\",\n \"Misc. Comments')waitfor del...\",\n \"Misc. Comments'+(function()...\",\n \"Misc. Comments'+(select loa...\",\n \"Misc. Comments'+(select*fro...\",\n \"Misc. Comments'+eval(compil...\",\n \"Misc. Comments'+sleep(20.to...\",\n \"Misc. Comments',0)waitfor d...\",\n \"Misc. Comments'.sleep(20).'\",\n \"Misc. Comments';declare @q ...\",\n \"Misc. Comments'|echo y9v6fc...\",\n \"Misc. Comments'|ping -c 21 ...\",\n \"Misc. Comments'||(select ex...\",\n 'Misc. Comments);declare @q ...',\n 'Misc. Comments,(select*from...',\n 'Misc. Comments../../../../....',\n 'Misc. Comments..\\\\..\\\\..\\\\..\\\\....',\n \"Misc. Comments47876391' or ...\",\n \"Misc. Comments52038737' or ...\",\n \"Misc. Comments69075347' or ...\",\n \"Misc. Comments88909845' or ...\",\n 'Misc. Comments;declare @q v...',\n 'Misc. Comments>  BCC:bl0...',\n 'Misc. Comments]]>><',\n 'Misc. Commentseowljujfh8',\n 'Misc. Commentso0w3r%>xb6...',\n 'Misc. Comments{${sleep(20)}}',\n 'Misc. Comments|echo 3p7wexz...',\n 'Misc. Comments|nslookup -q=...',\n 'Misc. Comments|ping -c 21 1...',\n 'Misc. Comments|ping -n 21 1...',\n \"Misc. Comments}}t2v95'/&quo...\",\n 'Miscellaneous Categories',\n 'Missed Collection',\n 'Missed Collection (All Materials)',\n 'Mobile Food Vendor',\n 'Mold',\n 'Mosquitoes',\n 'Municipal Parking Facility',\n 'New Tree Request',\n 'Noise',\n 'Noise - Commercial',\n 'Noise - Helicopter',\n 'Noise - House of Worship',\n 'Noise - Park',\n 'Noise - Residential',\n 'Noise - Street/Sidewalk',\n 'Noise - Vehicle',\n 'Non-Emergency Police Matter',\n 'Non-Residential Heat',\n 'OEM Literature Request',\n 'OUTSIDE BUILDING',\n 'Other Enforcement',\n 'Outside Building',\n 'Overflowing Litter Baskets',\n 'Overflowing Recycling Baskets',\n 'Overgrown Tree/Branches',\n 'PAINT/PLASTER',\n 'PLUMBING',\n 'Panhandling',\n 'Parking Card',\n 'Pet Shop',\n 'Plant',\n 'Plumbing',\n 'Poison Ivy',\n 'Posting Advertisement',\n 'Public Assembly',\n 'Public Payphone Complaint',\n 'Public Toilet',\n 'Quality of Life',\n 'Question',\n 'Radioactive Material',\n 'Rangehood',\n 'Recycling Enforcement',\n 'Request Changes - A.S.P.',\n 'Request Large Bulky Item Collection',\n 'Request Xmas Tree Collection',\n 'Research Questions',\n 'Rodent',\n 'Root/Sewer/Sidewalk Condition',\n 'SAFETY',\n 'SCRIE',\n 'SRDE',\n 'Safety',\n 'Sanitation Condition',\n 'Scaffold Safety',\n 'School Maintenance',\n 'Select Message Type...',\n 'Senior Center Complaint',\n 'Sewer',\n 'Sidewalk Condition',\n 'Single Occupancy Bathroom',\n 'Smoking',\n 'Snow',\n 'Special Natural Area District (SNAD)',\n 'Special Operations',\n 'Special Projects Inspection Team (SPIT)',\n 'Sprinkler - Mechanical',\n 'Squeegee',\n 'Stalled Sites',\n 'Standing Water',\n 'Street Condition',\n 'Street Light Condition',\n 'Street Sign - Damaged',\n 'Street Sign - Dangling',\n 'Street Sign - Missing',\n 'Sustainability Enforcement',\n 'Sweeping/Inadequate',\n 'Sweeping/Missed',\n 'Sweeping/Missed-Inadequate',\n 'Tanning',\n 'Tattooing',\n 'Taxi Complaint',\n 'Taxi Compliment',\n 'Taxi Licensee Complaint',\n 'Taxi Report',\n 'Taxpayer Advocate Inquiry',\n 'Traffic',\n 'Traffic Signal Condition',\n 'Trans Fat',\n 'Transportation Provider Complaint',\n 'Tunnel Condition',\n 'UNSANITARY CONDITION',\n 'Unleashed Dog',\n 'Unlicensed Dog',\n 'Unsanitary Animal Facility',\n 'Unsanitary Animal Pvt Property',\n 'Unsanitary Condition',\n 'Unsanitary Pigeon Condition',\n 'Urinating in Public',\n 'Vacant Lot',\n 'Vending',\n 'Violation of Park Rules',\n 'WATER LEAK',\n 'Water Conservation',\n 'Water Leak',\n 'Water Quality',\n 'Water System',\n 'Window Guard',\n 'X-Ray Machine/Equipment',\n '\\\\windows\\\\win.ini',\n '`sleep 11`',\n 'a\\'a\\\\\\'b\"c>?>%}}%%...',\n 'bcd9<!--esi-->1ggp&lt...',\n 'c:\\\\windows\\\\win.ini',\n 'c:\\\\windows\\\\win.ini Misc. Co...',\n \"eval(compile('for x in rang...\",\n 'file:///c:/windows/win.ini',\n 'file:///etc/passwd',\n 'g0oii1s4s5)(objectClass=*',\n 'hcvn1{{687*375}}gji51',\n 'http://g7orz5h9iu2sh6z332rj...',\n 'idexf3mrb7)(!(objectClass=*)',\n \"kawn''lcgv\",\n 'nslookup -q=cname nneyfcxgy...',\n 'qfix4${695*589}lixaf',\n 'yw97y0gi2s',\n \"{!xmlparser v='<!DOCTYPE...\"}"
     },
     "metadata": {},
     "execution_count": 16
    }
   ],
   "source": [
    "# the set() function returns all unique values in a column\n",
    "set(df['Complaint Type'])"
   ]
  },
  {
   "cell_type": "markdown",
   "metadata": {
    "colab_type": "text",
    "id": "RrwqSmKSbiYC"
   },
   "source": [
    "Let's see how frequently these invalid Complaint Type values appear in the data.\n",
    "\n",
    "Use `.groupby().size()` to get the count of 311 requests per complaint type value. This is very similar to a pivot table in Excel."
   ]
  },
  {
   "cell_type": "code",
   "execution_count": 17,
   "metadata": {
    "colab": {
     "base_uri": "https://localhost:8080/",
     "height": 34
    },
    "colab_type": "code",
    "id": "I7-WeiEnbMvW",
    "outputId": "52da8a74-7b3a-4f16-8a42-62492e0877bf"
   },
   "outputs": [
    {
     "output_type": "execute_result",
     "data": {
      "text/plain": "117227200"
     },
     "metadata": {},
     "execution_count": 17
    }
   ],
   "source": [
    "# remember .size gives you the count of cells across all columns in the dataframe\n",
    "df.size"
   ]
  },
  {
   "cell_type": "code",
   "execution_count": 18,
   "metadata": {
    "colab": {
     "base_uri": "https://localhost:8080/",
     "height": 34
    },
    "colab_type": "code",
    "id": "HzHDbc8UX7NA",
    "outputId": "6f9deedd-d53f-4fa7-f47e-eb4995f0418d"
   },
   "outputs": [
    {
     "output_type": "execute_result",
     "data": {
      "text/plain": "2859200"
     },
     "metadata": {},
     "execution_count": 18
    }
   ],
   "source": [
    "# to just get the total count of records in the dataset, we should get the size of the 'Unique Key' column\n",
    "df['Unique Key'].size"
   ]
  },
  {
   "cell_type": "code",
   "execution_count": 46,
   "metadata": {
    "colab": {
     "base_uri": "https://localhost:8080/",
     "height": 1000
    },
    "colab_type": "code",
    "id": "XJ2AK37yb3_E",
    "outputId": "1b7a0085-3826-4b8d-d7b6-57ab60c6db21"
   },
   "outputs": [
    {
     "output_type": "execute_result",
     "data": {
      "text/plain": "Complaint Type\n\"-->'-->`-->&...                                  1\n$(sleep 11)                                       1\n${3804*3137}                                      1\n%2e%2e%2f%2e%2e%2f%2e%2e%2f...                    1\n%2e%2e%5c%2e%2e%5c%2e%2e%5c...                    1\n%2fetc%2fpasswd                                   1\n%E5%98%8A%E5%98%8DX-Injecti...                    1\n%c0%ae/%c0%ae/%c0%ae/%c0%ae...                    1\n%c0%ae/%c0%ae/%c0%ae/WEB-IN...                    1\n%c0%ae/%c0%ae/WEB-INF/web.xml                     1\n%c0%ae/WEB-INF/web.xml                            1\n%{(#dm=@ognl.OgnlContext@DE...                    1\n%{4761*8506}                                      1\n() { :;}; /bin/sleep 0                            1\n() { :;}; /bin/sleep 11                           1\n() { _; } >_                                      1\n(select extractvalue(xmltyp...                    1\n(select load_file('\\\\\\\\615h...                    1\n*)(!(objectClass=*)                               1\n*)(objectClass=*                                  1\n.../....///.../....///.../....                    1\n.../...//.../...//.../...//...                    1\n..././..././..././..././......                    1\n.../.\\.../.\\.../.\\.../.\\......                    1\n.../Misc. Comments                                1\n...\\./...\\./...\\./...\\./......                    1\n...\\.\\...\\.\\...\\.\\...\\.\\......                    1\n../../../../../../../../../...                    4\n../../../../WEB-INF/web.xml                       1\n../../../WEB-INF/web.xml                          1\n../../../WEB-INF/web.xml;x=                       1\n../../WEB-INF/web.xml                             1\n../../WEB-INF/web.xml;x=                          1\n../WEB-INF/web.xml                                1\n../WEB-INF/web.xml;x=                             1\n..\\..\\..\\..\\..\\..\\..\\..\\..\\...                    4\n./validate_form.php                               1\n/./validate_form.php                              1\n/etc/passwd                                       1\n1430*4963                                         1\n266dyrgvhg1egsyp2oq57axbm2s...                    1\n<odb xmlns:xi=\"http...                            1\n<vlv xmlns=\"http://...                            1\n@(9313*3464)                                      1\nAGENCY                                            1\nAPPLIANCE                                     14629\nAbandoned Vehicle                              9444\nAdopt-A-Basket                                    1\nAdvocate - Lien                                   9\nAdvocate - Other                                129\nAdvocate - RPIE                                   5\nAdvocate-Business Tax                             4\nAdvocate-Co-opCondo Abatement                    19\nAdvocate-Commercial Exemptions                    5\nAdvocate-Foreclosure                              1\nAdvocate-Personal Exemptions                    118\nAdvocate-Prop Class Incorrect                     2\nAdvocate-Prop Refunds/Credits                   292\nAdvocate-Property Value                           8\nAdvocate-SCRIE/DRIE                               4\nAir Quality                                    8333\nAlzheimer's Care                                138\nAnimal Abuse                                   7214\nAnimal Facility - No Permit                      69\nAnimal in a Park                               2584\nAnimal-Abuse                                   1539\nAppliance                                         4\nAsbestos                                       2548\nBEST/Site Safety                               2032\nBeach/Pool/Sauna Complaint                      263\nBenefit Card Replacement                       9189\nBereavement Support Group                        18\nBike Rack Condition                             141\nBike/Roller/Skate Chronic                       566\nBlocked Driveway                             145446\nBoilers                                        2403\nBorough Office                                 5245\nBottled Water                                    11\nBridge Condition                                392\nBroken Parking Meter                          14210\nBuilding Condition                                3\nBuilding Marshals office                       1851\nBuilding/Use                                  28094\nBus Stop Shelter Complaint                      990\nBus Stop Shelter Placement                      270\nCalorie Labeling                                 12\nCase Management Agency Complaint                 22\nCollection Truck Noise                          215\nComments                                         84\nConstruction                                      1\nConstruction Safety Enforcement                9655\nConsumer Complaint                            16385\nCooling Tower                                    38\nCranes and Derricks                             249\nCurb Condition                                 8231\nDCA / DOH New License Application Request      1052\nDEP Highway Condition                             1\nDEP Sidewalk Condition                            3\nDEP Street Condition                            268\nDOF Parking - DMV Clearance                     120\nDOF Parking - Payment Issue                    3030\nDOF Parking - Request Copy                      604\nDOF Parking - Request Status                    486\nDOF Parking - Tax Exemption                     955\nDOF Property - Owner Issue                     1738\nDOF Property - Payment Issue                   6104\nDOF Property - Property Value                   559\nDOF Property - RPIE Issue                       426\nDOF Property - Reduction Issue                10457\nDOF Property - Request Copy                    5776\nDOF Property - Update Account                  4804\nDOOR/WINDOW                                   36932\nDPR Internal                                   1330\nDRIE                                           1163\nDSNY Spillage                                     2\nDamaged Tree                                  34034\nDay Care                                        636\nDead/Dying Tree                               11425\nDept of Investigations                            2\nDerelict Bicycle                               2858\nDerelict Vehicle                              34104\nDerelict Vehicles                             39064\nDirty Conditions                              39141\nDisorderly Youth                                 85\nDispatched Taxi Complaint                        18\nDispatched Taxi Compliment                        1\nDrinking                                       1741\nDrinking Water                                  147\nDrug Activity                                  2000\nELECTRIC                                      26351\nELEVATOR                                       1505\nElder Abuse                                     290\nElectric                                          1\nElectrical                                     3328\nElectronics Waste                                12\nElectronics Waste Appointment                 31367\nElevator                                      17456\nEmergency Response Team (ERT)                  5077\nEmployee Behavior                                 1\nExecutive Inspections                           432\nFATF                                            118\nFHV Licensee Complaint                           12\nFLOORING/STAIRS                               23649\nFacades                                         409\nFerry Complaint                                 248\nFerry Inquiry                                   537\nFerry Permit                                     50\nFire Alarm - Modification                         2\nFire Alarm - New System                           6\nFire Alarm - Reinspection                         5\nFire Alarm - Replacement                          1\nFoam Ban Enforcement                             32\nFood Establishment                            11580\nFood Poisoning                                 3176\nFor Hire Vehicle Complaint                    15871\nFor Hire Vehicle Report                         622\nForensic Engineering                              5\nForms                                           375\nFound Property                                  212\nGENERAL                                       25504\nGeneral                                        1161\nGeneral Construction/Plumbing                 54939\nGraffiti                                      24986\nGreen Taxi Complaint                             65\nGreen Taxi Report                                 8\nHEAT/HOT WATER                               222722\nHPD Literature Request                         2340\nHarboring Bees/Wasps                            167\nHazardous Materials                            3148\nHazmat Storage/Use                                1\nHighway Condition                              3543\nHighway Sign - Damaged                          115\nHighway Sign - Dangling                          27\nHighway Sign - Missing                           49\nHome Care Provider Complaint                     24\nHome Delivered Meal - Missed Delivery            78\nHome Delivered Meal Complaint                    68\nHomeless Encampment                            5381\nHomeless Person Assistance                    20991\nHousing - Low Income Senior                    4375\nHousing Options                                1387\nIllegal Animal Kept as Pet                      264\nIllegal Animal Sold                              64\nIllegal Fireworks                               858\nIllegal Parking                              195159\nIllegal Tree Damage                            3871\nIndoor Air Quality                             4612\nIndoor Sewage                                  1271\nIndustrial Waste                               1385\nInternal Code                                     2\nInvestigations and Discipline (IAD)             841\nLead                                          10364\nLifeguard                                        23\nLinkNYC                                         207\nLitter Basket / Request                        2702\nLost Property                                  2713\nMSOTHER                                           1\nMaintenance or Facility                       17665\nMisc. Comments  BCC:a5glxzf...                    1\nMisc. Comments\"                                   1\nMisc. Comments\"|echo 2...                         1\nMisc. Comments\"|ping -...                         1\nMisc. Comments%}dt2pq'/&quo...                    1\nMisc. Comments&echo xjd...                        1\nMisc. Comments&nslookup...                        1\nMisc. Comments&ping -n ...                        1\nMisc. Comments'                                   1\nMisc. Comments' and '1618'=...                    1\nMisc. Comments' and '7835'=...                    1\nMisc. Comments' and (select...                    1\nMisc. Comments' and 6049=60...                    1\nMisc. Comments' and 7702=77...                    1\nMisc. Comments' waitfor del...                    1\nMisc. Comments'\"`0&amp...                         1\nMisc. Comments'(select*from...                    1\nMisc. Comments');declare @q...                    1\nMisc. Comments')waitfor del...                    1\nMisc. Comments'+(function()...                    1\nMisc. Comments'+(select loa...                    1\nMisc. Comments'+(select*fro...                    1\nMisc. Comments'+eval(compil...                    1\nMisc. Comments'+sleep(20.to...                    1\nMisc. Comments',0)waitfor d...                    1\nMisc. Comments'.sleep(20).'                       1\nMisc. Comments';declare @q ...                    1\nMisc. Comments'|echo y9v6fc...                    1\nMisc. Comments'|ping -c 21 ...                    1\nMisc. Comments'||(select ex...                    1\nMisc. Comments);declare @q ...                    1\nMisc. Comments,(select*from...                    1\nMisc. Comments../../../../....                    3\nMisc. Comments..\\..\\..\\..\\....                    2\nMisc. Comments47876391' or ...                    1\nMisc. Comments52038737' or ...                    1\nMisc. Comments69075347' or ...                    1\nMisc. Comments88909845' or ...                    1\nMisc. Comments;declare @q v...                    1\nMisc. Comments>  BCC:bl0...                       1\nMisc. Comments]]>><                               1\nMisc. Commentseowljujfh8                          1\nMisc. Commentso0w3r%>xb6...                       1\nMisc. Comments{${sleep(20)}}                      1\nMisc. Comments|echo 3p7wexz...                    1\nMisc. Comments|nslookup -q=...                    1\nMisc. Comments|ping -c 21 1...                    1\nMisc. Comments|ping -n 21 1...                    1\nMisc. Comments}}t2v95'/&quo...                    1\nMiscellaneous Categories                        189\nMissed Collection                               325\nMissed Collection (All Materials)             47293\nMobile Food Vendor                             2207\nMold                                            472\nMosquitoes                                      755\nMunicipal Parking Facility                       52\nNew Tree Request                              21031\nNoise                                         62878\nNoise - Commercial                            45147\nNoise - Helicopter                             1634\nNoise - House of Worship                        789\nNoise - Park                                   4651\nNoise - Residential                          236350\nNoise - Street/Sidewalk                       95977\nNoise - Vehicle                               42420\nNon-Emergency Police Matter                    9479\nNon-Residential Heat                           1081\nOEM Literature Request                          131\nOUTSIDE BUILDING                                915\nOther Enforcement                              7680\nOutside Building                                  6\nOverflowing Litter Baskets                      850\nOverflowing Recycling Baskets                    11\nOvergrown Tree/Branches                       16430\nPAINT/PLASTER                                 56378\nPLUMBING                                      51552\nPanhandling                                     539\nParking Card                                      4\nPet Shop                                        167\nPlant                                            99\nPlumbing                                       8532\nPoison Ivy                                      243\nPosting Advertisement                           146\nPublic Assembly                                   4\nPublic Payphone Complaint                       378\nPublic Toilet                                    41\nQuality of Life                                 355\nQuestion                                       1007\nRadioactive Material                             10\nRangehood                                         5\nRecycling Enforcement                           734\nRequest Changes - A.S.P.                          1\nRequest Large Bulky Item Collection          177175\nRequest Xmas Tree Collection                      3\nResearch Questions                               22\nRodent                                        35460\nRoot/Sewer/Sidewalk Condition                  8723\nSAFETY                                        10078\nSCRIE                                          4489\nSRDE                                              2\nSafety                                          420\nSanitation Condition                          41013\nScaffold Safety                                 248\nSchool Maintenance                             2372\nSelect Message Type...                            3\nSenior Center Complaint                         267\nSewer                                         38356\nSidewalk Condition                            36622\nSingle Occupancy Bathroom                        28\nSmoking                                        2587\nSnow                                           1688\nSpecial Natural Area District (SNAD)            113\nSpecial Operations                              268\nSpecial Projects Inspection Team (SPIT)        6513\nSprinkler - Mechanical                            1\nSqueegee                                          4\nStalled Sites                                     1\nStanding Water                                 2690\nStreet Condition                              97178\nStreet Light Condition                        77755\nStreet Sign - Damaged                          6851\nStreet Sign - Dangling                         2905\nStreet Sign - Missing                          5889\nSustainability Enforcement                     1405\nSweeping/Inadequate                             321\nSweeping/Missed                                1047\nSweeping/Missed-Inadequate                       60\nTanning                                           4\nTattooing                                       130\nTaxi Complaint                                14032\nTaxi Compliment                                 287\nTaxi Licensee Complaint                          20\nTaxi Report                                    1870\nTaxpayer Advocate Inquiry                       140\nTraffic                                        5041\nTraffic Signal Condition                      42506\nTrans Fat                                         1\nTransportation Provider Complaint                14\nTunnel Condition                                  9\nUNSANITARY CONDITION                          85904\nUnleashed Dog                                   694\nUnlicensed Dog                                   57\nUnsanitary Animal Facility                       75\nUnsanitary Animal Pvt Property                 1975\nUnsanitary Condition                           5473\nUnsanitary Pigeon Condition                     637\nUrinating in Public                             582\nVacant Lot                                     1870\nVending                                        5140\nViolation of Park Rules                        2876\nWATER LEAK                                    37513\nWater Conservation                             4641\nWater Leak                                        1\nWater Quality                                  1910\nWater System                                  74139\nWindow Guard                                     31\nX-Ray Machine/Equipment                           9\n\\windows\\win.ini                                  1\n`sleep 11`                                        1\na'a\\'b\"c>?>%}}%%...                               1\nbcd9<!--esi-->1ggp&lt...                          1\nc:\\windows\\win.ini                                1\nc:\\windows\\win.ini Misc. Co...                    1\neval(compile('for x in rang...                    1\nfile:///c:/windows/win.ini                        1\nfile:///etc/passwd                                2\ng0oii1s4s5)(objectClass=*                         1\nhcvn1{{687*375}}gji51                             1\nhttp://g7orz5h9iu2sh6z332rj...                    1\nidexf3mrb7)(!(objectClass=*)                      1\nkawn''lcgv                                        1\nnslookup -q=cname nneyfcxgy...                    1\nqfix4${695*589}lixaf                              1\nyw97y0gi2s                                        1\n{!xmlparser v='<!DOCTYPE...                       1\ndtype: int64"
     },
     "metadata": {},
     "execution_count": 46
    }
   ],
   "source": [
    "# let's make sure we see everything\n",
    "pd.options.display.max_rows = None\n",
    "\n",
    "\n",
    "# watch out! the .groupby().size() function doesn't work that same way. it gets the count of number of rows in each group\n",
    "\n",
    "df.groupby('Complaint Type').size()\n",
    "\n",
    "# let's break down what this code is doing:\n",
    "# first you need to group the records in the dataset based on their 'Complaint Type' value\n",
    "# then you can count the records that have been grouped together by their shared 'Complaint Type\" value"
   ]
  },
  {
   "cell_type": "markdown",
   "metadata": {
    "colab_type": "text",
    "id": "OlWlBvJCfvll"
   },
   "source": [
    "It looks like most invalid complaint types only have a few records. Try excluding all complaint type categories with < 4 records, assuming that all complaint type categories with < 4 instances in the data are bad data entries.\n",
    "\n",
    "Why 4? It's arbitrary. We're looking for trends in the data in this case don't care about low frequency entries.\n",
    "\n",
    "Create a dataframe that captures the count of records per `Complaint Type` value."
   ]
  },
  {
   "cell_type": "code",
   "execution_count": 47,
   "metadata": {
    "colab": {
     "base_uri": "https://localhost:8080/",
     "height": 1000
    },
    "colab_type": "code",
    "id": "ebwuknSQgVkl",
    "outputId": "6a996116-3d05-4dab-9e12-176ae42e74e7"
   },
   "outputs": [
    {
     "output_type": "execute_result",
     "data": {
      "text/plain": "0%ae/%c0%ae/WEB-INF/web.xml       1\n10                      %c0%ae/WEB-INF/web.xml       1\n11              %{(#dm=@ognl.OgnlContext@DE...       1\n12                                %{4761*8506}       1\n13                      () { :;}; /bin/sleep 0       1\n14                     () { :;}; /bin/sleep 11       1\n15                                () { _; } >_       1\n16              (select extractvalue(xmltyp...       1\n17              (select load_file('\\\\\\\\615h...       1\n18                         *)(!(objectClass=*)       1\n19                            *)(objectClass=*       1\n20              .../....///.../....///.../....       1\n21              .../...//.../...//.../...//...       1\n22              ..././..././..././..././......       1\n23              .../.\\.../.\\.../.\\.../.\\......       1\n24                          .../Misc. Comments       1\n25              ...\\./...\\./...\\./...\\./......       1\n26              ...\\.\\...\\.\\...\\.\\...\\.\\......       1\n27              ../../../../../../../../../...       4\n28                 ../../../../WEB-INF/web.xml       1\n29                    ../../../WEB-INF/web.xml       1\n30                 ../../../WEB-INF/web.xml;x=       1\n31                       ../../WEB-INF/web.xml       1\n32                    ../../WEB-INF/web.xml;x=       1\n33                          ../WEB-INF/web.xml       1\n34                       ../WEB-INF/web.xml;x=       1\n35              ..\\..\\..\\..\\..\\..\\..\\..\\..\\...       4\n36                         ./validate_form.php       1\n37                        /./validate_form.php       1\n38                                 /etc/passwd       1\n39                                   1430*4963       1\n40              266dyrgvhg1egsyp2oq57axbm2s...       1\n41                      <odb xmlns:xi=\"http...       1\n42                      <vlv xmlns=\"http://...       1\n43                                @(9313*3464)       1\n44                                      AGENCY       1\n45                                   APPLIANCE   14629\n46                           Abandoned Vehicle    9444\n47                              Adopt-A-Basket       1\n48                             Advocate - Lien       9\n49                            Advocate - Other     129\n50                             Advocate - RPIE       5\n51                       Advocate-Business Tax       4\n52               Advocate-Co-opCondo Abatement      19\n53              Advocate-Commercial Exemptions       5\n54                        Advocate-Foreclosure       1\n55                Advocate-Personal Exemptions     118\n56               Advocate-Prop Class Incorrect       2\n57               Advocate-Prop Refunds/Credits     292\n58                     Advocate-Property Value       8\n59                         Advocate-SCRIE/DRIE       4\n60                                 Air Quality    8333\n61                            Alzheimer's Care     138\n62                                Animal Abuse    7214\n63                 Animal Facility - No Permit      69\n64                            Animal in a Park    2584\n65                                Animal-Abuse    1539\n66                                   Appliance       4\n67                                    Asbestos    2548\n68                            BEST/Site Safety    2032\n69                  Beach/Pool/Sauna Complaint     263\n70                    Benefit Card Replacement    9189\n71                   Bereavement Support Group      18\n72                         Bike Rack Condition     141\n73                   Bike/Roller/Skate Chronic     566\n74                            Blocked Driveway  145446\n75                                     Boilers    2403\n76                              Borough Office    5245\n77                               Bottled Water      11\n78                            Bridge Condition     392\n79                        Broken Parking Meter   14210\n80                          Building Condition       3\n81                    Building Marshals office    1851\n82                                Building/Use   28094\n83                  Bus Stop Shelter Complaint     990\n84                  Bus Stop Shelter Placement     270\n85                            Calorie Labeling      12\n86            Case Management Agency Complaint      22\n87                      Collection Truck Noise     215\n88                                    Comments      84\n89                                Construction       1\n90             Construction Safety Enforcement    9655\n91                          Consumer Complaint   16385\n92                               Cooling Tower      38\n93                         Cranes and Derricks     249\n94                              Curb Condition    8231\n95   DCA / DOH New License Application Request    1052\n96                       DEP Highway Condition       1\n97                      DEP Sidewalk Condition       3\n98                        DEP Street Condition     268\n99                 DOF Parking - DMV Clearance     120\n100                DOF Parking - Payment Issue    3030\n101                 DOF Parking - Request Copy     604\n102               DOF Parking - Request Status     486\n103                DOF Parking - Tax Exemption     955\n104                 DOF Property - Owner Issue    1738\n105               DOF Property - Payment Issue    6104\n106              DOF Property - Property Value     559\n107                  DOF Property - RPIE Issue     426\n108             DOF Property - Reduction Issue   10457\n109                DOF Property - Request Copy    5776\n110              DOF Property - Update Account    4804\n111                                DOOR/WINDOW   36932\n112                               DPR Internal    1330\n113                                       DRIE    1163\n114                              DSNY Spillage       2\n115                               Damaged Tree   34034\n116                                   Day Care     636\n117                            Dead/Dying Tree   11425\n118                     Dept of Investigations       2\n119                           Derelict Bicycle    2858\n120                           Derelict Vehicle   34104\n121                          Derelict Vehicles   39064\n122                           Dirty Conditions   39141\n123                           Disorderly Youth      85\n124                  Dispatched Taxi Complaint      18\n125                 Dispatched Taxi Compliment       1\n126                                   Drinking    1741\n127                             Drinking Water     147\n128                              Drug Activity    2000\n129                                   ELECTRIC   26351\n130                                   ELEVATOR    1505\n131                                Elder Abuse     290\n132                                   Electric       1\n133                                 Electrical    3328\n134                          Electronics Waste      12\n135              Electronics Waste Appointment   31367\n136                                   Elevator   17456\n137              Emergency Response Team (ERT)    5077\n138                          Employee Behavior       1\n139                      Executive Inspections     432\n140                                       FATF     118\n141                     FHV Licensee Complaint      12\n142                            FLOORING/STAIRS   23649\n143                                    Facades     409\n144                            Ferry Complaint     248\n145                              Ferry Inquiry     537\n146                               Ferry Permit      50\n147                  Fire Alarm - Modification       2\n148                    Fire Alarm - New System       6\n149                  Fire Alarm - Reinspection       5\n150                   Fire Alarm - Replacement       1\n151                       Foam Ban Enforcement      32\n152                         Food Establishment   11580\n153                             Food Poisoning    3176\n154                 For Hire Vehicle Complaint   15871\n155                    For Hire Vehicle Report     622\n156                       Forensic Engineering       5\n157                                      Forms     375\n158                             Found Property     212\n159                                    GENERAL   25504\n160                                    General    1161\n161              General Construction/Plumbing   54939\n162                                   Graffiti   24986\n163                       Green Taxi Complaint      65\n164                          Green Taxi Report       8\n165                             HEAT/HOT WATER  222722\n166                     HPD Literature Request    2340\n167                       Harboring Bees/Wasps     167\n168                        Hazardous Materials    3148\n169                         Hazmat Storage/Use       1\n170                          Highway Condition    3543\n171                     Highway Sign - Damaged     115\n172                    Highway Sign - Dangling      27\n173                     Highway Sign - Missing      49\n174               Home Care Provider Complaint      24\n175      Home Delivered Meal - Missed Delivery      78\n176              Home Delivered Meal Complaint      68\n177                        Homeless Encampment    5381\n178                 Homeless Person Assistance   20991\n179                Housing - Low Income Senior    4375\n180                            Housing Options    1387\n181                 Illegal Animal Kept as Pet     264\n182                        Illegal Animal Sold      64\n183                          Illegal Fireworks     858\n184                            Illegal Parking  195159\n185                        Illegal Tree Damage    3871\n186                         Indoor Air Quality    4612\n187                              Indoor Sewage    1271\n188                           Industrial Waste    1385\n189                              Internal Code       2\n190        Investigations and Discipline (IAD)     841\n191                                       Lead   10364\n192                                  Lifeguard      23\n193                                    LinkNYC     207\n194                    Litter Basket / Request    2702\n195                              Lost Property    2713\n196                                    MSOTHER       1\n197                    Maintenance or Facility   17665\n198             Misc. Comments  BCC:a5glxzf...       1\n199                            Misc. Comments\"       1\n200                  Misc. Comments\"|echo 2...       1\n201                  Misc. Comments\"|ping -...       1\n202             Misc. Comments%}dt2pq'/&quo...       1\n203                 Misc. Comments&echo xjd...       1\n204                 Misc. Comments&nslookup...       1\n205                 Misc. Comments&ping -n ...       1\n206                            Misc. Comments'       1\n207             Misc. Comments' and '1618'=...       1\n208             Misc. Comments' and '7835'=...       1\n209             Misc. Comments' and (select...       1\n210             Misc. Comments' and 6049=60...       1\n211             Misc. Comments' and 7702=77...       1\n212             Misc. Comments' waitfor del...       1\n213                  Misc. Comments'\"`0&amp...       1\n214             Misc. Comments'(select*from...       1\n215             Misc. Comments');declare @q...       1\n216             Misc. Comments')waitfor del...       1\n217             Misc. Comments'+(function()...       1\n218             Misc. Comments'+(select loa...       1\n219             Misc. Comments'+(select*fro...       1\n220             Misc. Comments'+eval(compil...       1\n221             Misc. Comments'+sleep(20.to...       1\n222             Misc. Comments',0)waitfor d...       1\n223                Misc. Comments'.sleep(20).'       1\n224             Misc. Comments';declare @q ...       1\n225             Misc. Comments'|echo y9v6fc...       1\n226             Misc. Comments'|ping -c 21 ...       1\n227             Misc. Comments'||(select ex...       1\n228             Misc. Comments);declare @q ...       1\n229             Misc. Comments,(select*from...       1\n230             Misc. Comments../../../../....       3\n231             Misc. Comments..\\..\\..\\..\\....       2\n232             Misc. Comments47876391' or ...       1\n233             Misc. Comments52038737' or ...       1\n234             Misc. Comments69075347' or ...       1\n235             Misc. Comments88909845' or ...       1\n236             Misc. Comments;declare @q v...       1\n237                Misc. Comments>  BCC:bl0...       1\n238                        Misc. Comments]]>><       1\n239                   Misc. Commentseowljujfh8       1\n240                Misc. Commentso0w3r%>xb6...       1\n241               Misc. Comments{${sleep(20)}}       1\n242             Misc. Comments|echo 3p7wexz...       1\n243             Misc. Comments|nslookup -q=...       1\n244             Misc. Comments|ping -c 21 1...       1\n245             Misc. Comments|ping -n 21 1...       1\n246             Misc. Comments}}t2v95'/&quo...       1\n247                   Miscellaneous Categories     189\n248                          Missed Collection     325\n249          Missed Collection (All Materials)   47293\n250                         Mobile Food Vendor    2207\n251                                       Mold     472\n252                                 Mosquitoes     755\n253                 Municipal Parking Facility      52\n254                           New Tree Request   21031\n255                                      Noise   62878\n256                         Noise - Commercial   45147\n257                         Noise - Helicopter    1634\n258                   Noise - House of Worship     789\n259                               Noise - Park    4651\n260                        Noise - Residential  236350\n261                    Noise - Street/Sidewalk   95977\n262                            Noise - Vehicle   42420\n263                Non-Emergency Police Matter    9479\n264                       Non-Residential Heat    1081\n265                     OEM Literature Request     131\n266                           OUTSIDE BUILDING     915\n267                          Other Enforcement    7680\n268                           Outside Building       6\n269                 Overflowing Litter Baskets     850\n270              Overflowing Recycling Baskets      11\n271                    Overgrown Tree/Branches   16430\n272                              PAINT/PLASTER   56378\n273                                   PLUMBING   51552\n274                                Panhandling     539\n275                               Parking Card       4\n276                                   Pet Shop     167\n277                                      Plant      99\n278                                   Plumbing    8532\n279                                 Poison Ivy     243\n280                      Posting Advertisement     146\n281                            Public Assembly       4\n282                  Public Payphone Complaint     378\n283                              Public Toilet      41\n284                            Quality of Life     355\n285                                   Question    1007\n286                       Radioactive Material      10\n287                                  Rangehood       5\n288                      Recycling Enforcement     734\n289                   Request Changes - A.S.P.       1\n290        Request Large Bulky Item Collection  177175\n291               Request Xmas Tree Collection       3\n292                         Research Questions      22\n293                                     Rodent   35460\n294              Root/Sewer/Sidewalk Condition    8723\n295                                     SAFETY   10078\n296                                      SCRIE    4489\n297                                       SRDE       2\n298                                     Safety     420\n299                       Sanitation Condition   41013\n300                            Scaffold Safety     248\n301                         School Maintenance    2372\n302                     Select Message Type...       3\n303                    Senior Center Complaint     267\n304                                      Sewer   38356\n305                         Sidewalk Condition   36622\n306                  Single Occupancy Bathroom      28\n307                                    Smoking    2587\n308                                       Snow    1688\n309       Special Natural Area District (SNAD)     113\n310                         Special Operations     268\n311    Special Projects Inspection Team (SPIT)    6513\n312                     Sprinkler - Mechanical       1\n313                                   Squeegee       4\n314                              Stalled Sites       1\n315                             Standing Water    2690\n316                           Street Condition   97178\n317                     Street Light Condition   77755\n318                      Street Sign - Damaged    6851\n319                     Street Sign - Dangling    2905\n320                      Street Sign - Missing    5889\n321                 Sustainability Enforcement    1405\n322                        Sweeping/Inadequate     321\n323                            Sweeping/Missed    1047\n324                 Sweeping/Missed-Inadequate      60\n325                                    Tanning       4\n326                                  Tattooing     130\n327                             Taxi Complaint   14032\n328                            Taxi Compliment     287\n329                    Taxi Licensee Complaint      20\n330                                Taxi Report    1870\n331                  Taxpayer Advocate Inquiry     140\n332                                    Traffic    5041\n333                   Traffic Signal Condition   42506\n334                                  Trans Fat       1\n335          Transportation Provider Complaint      14\n336                           Tunnel Condition       9\n337                       UNSANITARY CONDITION   85904\n338                              Unleashed Dog     694\n339                             Unlicensed Dog      57\n340                 Unsanitary Animal Facility      75\n341             Unsanitary Animal Pvt Property    1975\n342                       Unsanitary Condition    5473\n343                Unsanitary Pigeon Condition     637\n344                        Urinating in Public     582\n345                                 Vacant Lot    1870\n346                                    Vending    5140\n347                    Violation of Park Rules    2876\n348                                 WATER LEAK   37513\n349                         Water Conservation    4641\n350                                 Water Leak       1\n351                              Water Quality    1910\n352                               Water System   74139\n353                               Window Guard      31\n354                    X-Ray Machine/Equipment       9\n355                           \\windows\\win.ini       1\n356                                 `sleep 11`       1\n357                        a'a\\'b\"c>?>%}}%%...       1\n358                   bcd9<!--esi-->1ggp&lt...       1\n359                         c:\\windows\\win.ini       1\n360             c:\\windows\\win.ini Misc. Co...       1\n361             eval(compile('for x in rang...       1\n362                 file:///c:/windows/win.ini       1\n363                         file:///etc/passwd       2\n364                  g0oii1s4s5)(objectClass=*       1\n365                      hcvn1{{687*375}}gji51       1\n366             http://g7orz5h9iu2sh6z332rj...       1\n367               idexf3mrb7)(!(objectClass=*)       1\n368                                 kawn''lcgv       1\n369             nslookup -q=cname nneyfcxgy...       1\n370                       qfix4${695*589}lixaf       1\n371                                 yw97y0gi2s       1\n372                {!xmlparser v='<!DOCTYPE...       1",
      "text/html": "<div>\n<style scoped>\n    .dataframe tbody tr th:only-of-type {\n        vertical-align: middle;\n    }\n\n    .dataframe tbody tr th {\n        vertical-align: top;\n    }\n\n    .dataframe thead th {\n        text-align: right;\n    }\n</style>\n<table border=\"1\" class=\"dataframe\">\n  <thead>\n    <tr style=\"text-align: right;\">\n      <th></th>\n      <th>Complaint Type</th>\n      <th>count</th>\n    </tr>\n  </thead>\n  <tbody>\n    <tr>\n      <th>0</th>\n      <td>\"--&gt;'--&gt;`--&gt;&amp;...</td>\n      <td>1</td>\n    </tr>\n    <tr>\n      <th>1</th>\n      <td>$(sleep 11)</td>\n      <td>1</td>\n    </tr>\n    <tr>\n      <th>2</th>\n      <td>${3804*3137}</td>\n      <td>1</td>\n    </tr>\n    <tr>\n      <th>3</th>\n      <td>%2e%2e%2f%2e%2e%2f%2e%2e%2f...</td>\n      <td>1</td>\n    </tr>\n    <tr>\n      <th>4</th>\n      <td>%2e%2e%5c%2e%2e%5c%2e%2e%5c...</td>\n      <td>1</td>\n    </tr>\n    <tr>\n      <th>5</th>\n      <td>%2fetc%2fpasswd</td>\n      <td>1</td>\n    </tr>\n    <tr>\n      <th>6</th>\n      <td>%E5%98%8A%E5%98%8DX-Injecti...</td>\n      <td>1</td>\n    </tr>\n    <tr>\n      <th>7</th>\n      <td>%c0%ae/%c0%ae/%c0%ae/%c0%ae...</td>\n      <td>1</td>\n    </tr>\n    <tr>\n      <th>8</th>\n      <td>%c0%ae/%c0%ae/%c0%ae/WEB-IN...</td>\n      <td>1</td>\n    </tr>\n    <tr>\n      <th>9</th>\n      <td>%c0%ae/%c0%ae/WEB-INF/web.xml</td>\n      <td>1</td>\n    </tr>\n    <tr>\n      <th>10</th>\n      <td>%c0%ae/WEB-INF/web.xml</td>\n      <td>1</td>\n    </tr>\n    <tr>\n      <th>11</th>\n      <td>%{(#dm=@ognl.OgnlContext@DE...</td>\n      <td>1</td>\n    </tr>\n    <tr>\n      <th>12</th>\n      <td>%{4761*8506}</td>\n      <td>1</td>\n    </tr>\n    <tr>\n      <th>13</th>\n      <td>() { :;}; /bin/sleep 0</td>\n      <td>1</td>\n    </tr>\n    <tr>\n      <th>14</th>\n      <td>() { :;}; /bin/sleep 11</td>\n      <td>1</td>\n    </tr>\n    <tr>\n      <th>15</th>\n      <td>() { _; } &gt;_</td>\n      <td>1</td>\n    </tr>\n    <tr>\n      <th>16</th>\n      <td>(select extractvalue(xmltyp...</td>\n      <td>1</td>\n    </tr>\n    <tr>\n      <th>17</th>\n      <td>(select load_file('\\\\\\\\615h...</td>\n      <td>1</td>\n    </tr>\n    <tr>\n      <th>18</th>\n      <td>*)(!(objectClass=*)</td>\n      <td>1</td>\n    </tr>\n    <tr>\n      <th>19</th>\n      <td>*)(objectClass=*</td>\n      <td>1</td>\n    </tr>\n    <tr>\n      <th>20</th>\n      <td>.../....///.../....///.../....</td>\n      <td>1</td>\n    </tr>\n    <tr>\n      <th>21</th>\n      <td>.../...//.../...//.../...//...</td>\n      <td>1</td>\n    </tr>\n    <tr>\n      <th>22</th>\n      <td>..././..././..././..././......</td>\n      <td>1</td>\n    </tr>\n    <tr>\n      <th>23</th>\n      <td>.../.\\.../.\\.../.\\.../.\\......</td>\n      <td>1</td>\n    </tr>\n    <tr>\n      <th>24</th>\n      <td>.../Misc. Comments</td>\n      <td>1</td>\n    </tr>\n    <tr>\n      <th>25</th>\n      <td>...\\./...\\./...\\./...\\./......</td>\n      <td>1</td>\n    </tr>\n    <tr>\n      <th>26</th>\n      <td>...\\.\\...\\.\\...\\.\\...\\.\\......</td>\n      <td>1</td>\n    </tr>\n    <tr>\n      <th>27</th>\n      <td>../../../../../../../../../...</td>\n      <td>4</td>\n    </tr>\n    <tr>\n      <th>28</th>\n      <td>../../../../WEB-INF/web.xml</td>\n      <td>1</td>\n    </tr>\n    <tr>\n      <th>29</th>\n      <td>../../../WEB-INF/web.xml</td>\n      <td>1</td>\n    </tr>\n    <tr>\n      <th>30</th>\n      <td>../../../WEB-INF/web.xml;x=</td>\n      <td>1</td>\n    </tr>\n    <tr>\n      <th>31</th>\n      <td>../../WEB-INF/web.xml</td>\n      <td>1</td>\n    </tr>\n    <tr>\n      <th>32</th>\n      <td>../../WEB-INF/web.xml;x=</td>\n      <td>1</td>\n    </tr>\n    <tr>\n      <th>33</th>\n      <td>../WEB-INF/web.xml</td>\n      <td>1</td>\n    </tr>\n    <tr>\n      <th>34</th>\n      <td>../WEB-INF/web.xml;x=</td>\n      <td>1</td>\n    </tr>\n    <tr>\n      <th>35</th>\n      <td>..\\..\\..\\..\\..\\..\\..\\..\\..\\...</td>\n      <td>4</td>\n    </tr>\n    <tr>\n      <th>36</th>\n      <td>./validate_form.php</td>\n      <td>1</td>\n    </tr>\n    <tr>\n      <th>37</th>\n      <td>/./validate_form.php</td>\n      <td>1</td>\n    </tr>\n    <tr>\n      <th>38</th>\n      <td>/etc/passwd</td>\n      <td>1</td>\n    </tr>\n    <tr>\n      <th>39</th>\n      <td>1430*4963</td>\n      <td>1</td>\n    </tr>\n    <tr>\n      <th>40</th>\n      <td>266dyrgvhg1egsyp2oq57axbm2s...</td>\n      <td>1</td>\n    </tr>\n    <tr>\n      <th>41</th>\n      <td>&lt;odb xmlns:xi=\"http...</td>\n      <td>1</td>\n    </tr>\n    <tr>\n      <th>42</th>\n      <td>&lt;vlv xmlns=\"http://...</td>\n      <td>1</td>\n    </tr>\n    <tr>\n      <th>43</th>\n      <td>@(9313*3464)</td>\n      <td>1</td>\n    </tr>\n    <tr>\n      <th>44</th>\n      <td>AGENCY</td>\n      <td>1</td>\n    </tr>\n    <tr>\n      <th>45</th>\n      <td>APPLIANCE</td>\n      <td>14629</td>\n    </tr>\n    <tr>\n      <th>46</th>\n      <td>Abandoned Vehicle</td>\n      <td>9444</td>\n    </tr>\n    <tr>\n      <th>47</th>\n      <td>Adopt-A-Basket</td>\n      <td>1</td>\n    </tr>\n    <tr>\n      <th>48</th>\n      <td>Advocate - Lien</td>\n      <td>9</td>\n    </tr>\n    <tr>\n      <th>49</th>\n      <td>Advocate - Other</td>\n      <td>129</td>\n    </tr>\n    <tr>\n      <th>50</th>\n      <td>Advocate - RPIE</td>\n      <td>5</td>\n    </tr>\n    <tr>\n      <th>51</th>\n      <td>Advocate-Business Tax</td>\n      <td>4</td>\n    </tr>\n    <tr>\n      <th>52</th>\n      <td>Advocate-Co-opCondo Abatement</td>\n      <td>19</td>\n    </tr>\n    <tr>\n      <th>53</th>\n      <td>Advocate-Commercial Exemptions</td>\n      <td>5</td>\n    </tr>\n    <tr>\n      <th>54</th>\n      <td>Advocate-Foreclosure</td>\n      <td>1</td>\n    </tr>\n    <tr>\n      <th>55</th>\n      <td>Advocate-Personal Exemptions</td>\n      <td>118</td>\n    </tr>\n    <tr>\n      <th>56</th>\n      <td>Advocate-Prop Class Incorrect</td>\n      <td>2</td>\n    </tr>\n    <tr>\n      <th>57</th>\n      <td>Advocate-Prop Refunds/Credits</td>\n      <td>292</td>\n    </tr>\n    <tr>\n      <th>58</th>\n      <td>Advocate-Property Value</td>\n      <td>8</td>\n    </tr>\n    <tr>\n      <th>59</th>\n      <td>Advocate-SCRIE/DRIE</td>\n      <td>4</td>\n    </tr>\n    <tr>\n      <th>60</th>\n      <td>Air Quality</td>\n      <td>8333</td>\n    </tr>\n    <tr>\n      <th>61</th>\n      <td>Alzheimer's Care</td>\n      <td>138</td>\n    </tr>\n    <tr>\n      <th>62</th>\n      <td>Animal Abuse</td>\n      <td>7214</td>\n    </tr>\n    <tr>\n      <th>63</th>\n      <td>Animal Facility - No Permit</td>\n      <td>69</td>\n    </tr>\n    <tr>\n      <th>64</th>\n      <td>Animal in a Park</td>\n      <td>2584</td>\n    </tr>\n    <tr>\n      <th>65</th>\n      <td>Animal-Abuse</td>\n      <td>1539</td>\n    </tr>\n    <tr>\n      <th>66</th>\n      <td>Appliance</td>\n      <td>4</td>\n    </tr>\n    <tr>\n      <th>67</th>\n      <td>Asbestos</td>\n      <td>2548</td>\n    </tr>\n    <tr>\n      <th>68</th>\n      <td>BEST/Site Safety</td>\n      <td>2032</td>\n    </tr>\n    <tr>\n      <th>69</th>\n      <td>Beach/Pool/Sauna Complaint</td>\n      <td>263</td>\n    </tr>\n    <tr>\n      <th>70</th>\n      <td>Benefit Card Replacement</td>\n      <td>9189</td>\n    </tr>\n    <tr>\n      <th>71</th>\n      <td>Bereavement Support Group</td>\n      <td>18</td>\n    </tr>\n    <tr>\n      <th>72</th>\n      <td>Bike Rack Condition</td>\n      <td>141</td>\n    </tr>\n    <tr>\n      <th>73</th>\n      <td>Bike/Roller/Skate Chronic</td>\n      <td>566</td>\n    </tr>\n    <tr>\n      <th>74</th>\n      <td>Blocked Driveway</td>\n      <td>145446</td>\n    </tr>\n    <tr>\n      <th>75</th>\n      <td>Boilers</td>\n      <td>2403</td>\n    </tr>\n    <tr>\n      <th>76</th>\n      <td>Borough Office</td>\n      <td>5245</td>\n    </tr>\n    <tr>\n      <th>77</th>\n      <td>Bottled Water</td>\n      <td>11</td>\n    </tr>\n    <tr>\n      <th>78</th>\n      <td>Bridge Condition</td>\n      <td>392</td>\n    </tr>\n    <tr>\n      <th>79</th>\n      <td>Broken Parking Meter</td>\n      <td>14210</td>\n    </tr>\n    <tr>\n      <th>80</th>\n      <td>Building Condition</td>\n      <td>3</td>\n    </tr>\n    <tr>\n      <th>81</th>\n      <td>Building Marshals office</td>\n      <td>1851</td>\n    </tr>\n    <tr>\n      <th>82</th>\n      <td>Building/Use</td>\n      <td>28094</td>\n    </tr>\n    <tr>\n      <th>83</th>\n      <td>Bus Stop Shelter Complaint</td>\n      <td>990</td>\n    </tr>\n    <tr>\n      <th>84</th>\n      <td>Bus Stop Shelter Placement</td>\n      <td>270</td>\n    </tr>\n    <tr>\n      <th>85</th>\n      <td>Calorie Labeling</td>\n      <td>12</td>\n    </tr>\n    <tr>\n      <th>86</th>\n      <td>Case Management Agency Complaint</td>\n      <td>22</td>\n    </tr>\n    <tr>\n      <th>87</th>\n      <td>Collection Truck Noise</td>\n      <td>215</td>\n    </tr>\n    <tr>\n      <th>88</th>\n      <td>Comments</td>\n      <td>84</td>\n    </tr>\n    <tr>\n      <th>89</th>\n      <td>Construction</td>\n      <td>1</td>\n    </tr>\n    <tr>\n      <th>90</th>\n      <td>Construction Safety Enforcement</td>\n      <td>9655</td>\n    </tr>\n    <tr>\n      <th>91</th>\n      <td>Consumer Complaint</td>\n      <td>16385</td>\n    </tr>\n    <tr>\n      <th>92</th>\n      <td>Cooling Tower</td>\n      <td>38</td>\n    </tr>\n    <tr>\n      <th>93</th>\n      <td>Cranes and Derricks</td>\n      <td>249</td>\n    </tr>\n    <tr>\n      <th>94</th>\n      <td>Curb Condition</td>\n      <td>8231</td>\n    </tr>\n    <tr>\n      <th>95</th>\n      <td>DCA / DOH New License Application Request</td>\n      <td>1052</td>\n    </tr>\n    <tr>\n      <th>96</th>\n      <td>DEP Highway Condition</td>\n      <td>1</td>\n    </tr>\n    <tr>\n      <th>97</th>\n      <td>DEP Sidewalk Condition</td>\n      <td>3</td>\n    </tr>\n    <tr>\n      <th>98</th>\n      <td>DEP Street Condition</td>\n      <td>268</td>\n    </tr>\n    <tr>\n      <th>99</th>\n      <td>DOF Parking - DMV Clearance</td>\n      <td>120</td>\n    </tr>\n    <tr>\n      <th>100</th>\n      <td>DOF Parking - Payment Issue</td>\n      <td>3030</td>\n    </tr>\n    <tr>\n      <th>101</th>\n      <td>DOF Parking - Request Copy</td>\n      <td>604</td>\n    </tr>\n    <tr>\n      <th>102</th>\n      <td>DOF Parking - Request Status</td>\n      <td>486</td>\n    </tr>\n    <tr>\n      <th>103</th>\n      <td>DOF Parking - Tax Exemption</td>\n      <td>955</td>\n    </tr>\n    <tr>\n      <th>104</th>\n      <td>DOF Property - Owner Issue</td>\n      <td>1738</td>\n    </tr>\n    <tr>\n      <th>105</th>\n      <td>DOF Property - Payment Issue</td>\n      <td>6104</td>\n    </tr>\n    <tr>\n      <th>106</th>\n      <td>DOF Property - Property Value</td>\n      <td>559</td>\n    </tr>\n    <tr>\n      <th>107</th>\n      <td>DOF Property - RPIE Issue</td>\n      <td>426</td>\n    </tr>\n    <tr>\n      <th>108</th>\n      <td>DOF Property - Reduction Issue</td>\n      <td>10457</td>\n    </tr>\n    <tr>\n      <th>109</th>\n      <td>DOF Property - Request Copy</td>\n      <td>5776</td>\n    </tr>\n    <tr>\n      <th>110</th>\n      <td>DOF Property - Update Account</td>\n      <td>4804</td>\n    </tr>\n    <tr>\n      <th>111</th>\n      <td>DOOR/WINDOW</td>\n      <td>36932</td>\n    </tr>\n    <tr>\n      <th>112</th>\n      <td>DPR Internal</td>\n      <td>1330</td>\n    </tr>\n    <tr>\n      <th>113</th>\n      <td>DRIE</td>\n      <td>1163</td>\n    </tr>\n    <tr>\n      <th>114</th>\n      <td>DSNY Spillage</td>\n      <td>2</td>\n    </tr>\n    <tr>\n      <th>115</th>\n      <td>Damaged Tree</td>\n      <td>34034</td>\n    </tr>\n    <tr>\n      <th>116</th>\n      <td>Day Care</td>\n      <td>636</td>\n    </tr>\n    <tr>\n      <th>117</th>\n      <td>Dead/Dying Tree</td>\n      <td>11425</td>\n    </tr>\n    <tr>\n      <th>118</th>\n      <td>Dept of Investigations</td>\n      <td>2</td>\n    </tr>\n    <tr>\n      <th>119</th>\n      <td>Derelict Bicycle</td>\n      <td>2858</td>\n    </tr>\n    <tr>\n      <th>120</th>\n      <td>Derelict Vehicle</td>\n      <td>34104</td>\n    </tr>\n    <tr>\n      <th>121</th>\n      <td>Derelict Vehicles</td>\n      <td>39064</td>\n    </tr>\n    <tr>\n      <th>122</th>\n      <td>Dirty Conditions</td>\n      <td>39141</td>\n    </tr>\n    <tr>\n      <th>123</th>\n      <td>Disorderly Youth</td>\n      <td>85</td>\n    </tr>\n    <tr>\n      <th>124</th>\n      <td>Dispatched Taxi Complaint</td>\n      <td>18</td>\n    </tr>\n    <tr>\n      <th>125</th>\n      <td>Dispatched Taxi Compliment</td>\n      <td>1</td>\n    </tr>\n    <tr>\n      <th>126</th>\n      <td>Drinking</td>\n      <td>1741</td>\n    </tr>\n    <tr>\n      <th>127</th>\n      <td>Drinking Water</td>\n      <td>147</td>\n    </tr>\n    <tr>\n      <th>128</th>\n      <td>Drug Activity</td>\n      <td>2000</td>\n    </tr>\n    <tr>\n      <th>129</th>\n      <td>ELECTRIC</td>\n      <td>26351</td>\n    </tr>\n    <tr>\n      <th>130</th>\n      <td>ELEVATOR</td>\n      <td>1505</td>\n    </tr>\n    <tr>\n      <th>131</th>\n      <td>Elder Abuse</td>\n      <td>290</td>\n    </tr>\n    <tr>\n      <th>132</th>\n      <td>Electric</td>\n      <td>1</td>\n    </tr>\n    <tr>\n      <th>133</th>\n      <td>Electrical</td>\n      <td>3328</td>\n    </tr>\n    <tr>\n      <th>134</th>\n      <td>Electronics Waste</td>\n      <td>12</td>\n    </tr>\n    <tr>\n      <th>135</th>\n      <td>Electronics Waste Appointment</td>\n      <td>31367</td>\n    </tr>\n    <tr>\n      <th>136</th>\n      <td>Elevator</td>\n      <td>17456</td>\n    </tr>\n    <tr>\n      <th>137</th>\n      <td>Emergency Response Team (ERT)</td>\n      <td>5077</td>\n    </tr>\n    <tr>\n      <th>138</th>\n      <td>Employee Behavior</td>\n      <td>1</td>\n    </tr>\n    <tr>\n      <th>139</th>\n      <td>Executive Inspections</td>\n      <td>432</td>\n    </tr>\n    <tr>\n      <th>140</th>\n      <td>FATF</td>\n      <td>118</td>\n    </tr>\n    <tr>\n      <th>141</th>\n      <td>FHV Licensee Complaint</td>\n      <td>12</td>\n    </tr>\n    <tr>\n      <th>142</th>\n      <td>FLOORING/STAIRS</td>\n      <td>23649</td>\n    </tr>\n    <tr>\n      <th>143</th>\n      <td>Facades</td>\n      <td>409</td>\n    </tr>\n    <tr>\n      <th>144</th>\n      <td>Ferry Complaint</td>\n      <td>248</td>\n    </tr>\n    <tr>\n      <th>145</th>\n      <td>Ferry Inquiry</td>\n      <td>537</td>\n    </tr>\n    <tr>\n      <th>146</th>\n      <td>Ferry Permit</td>\n      <td>50</td>\n    </tr>\n    <tr>\n      <th>147</th>\n      <td>Fire Alarm - Modification</td>\n      <td>2</td>\n    </tr>\n    <tr>\n      <th>148</th>\n      <td>Fire Alarm - New System</td>\n      <td>6</td>\n    </tr>\n    <tr>\n      <th>149</th>\n      <td>Fire Alarm - Reinspection</td>\n      <td>5</td>\n    </tr>\n    <tr>\n      <th>150</th>\n      <td>Fire Alarm - Replacement</td>\n      <td>1</td>\n    </tr>\n    <tr>\n      <th>151</th>\n      <td>Foam Ban Enforcement</td>\n      <td>32</td>\n    </tr>\n    <tr>\n      <th>152</th>\n      <td>Food Establishment</td>\n      <td>11580</td>\n    </tr>\n    <tr>\n      <th>153</th>\n      <td>Food Poisoning</td>\n      <td>3176</td>\n    </tr>\n    <tr>\n      <th>154</th>\n      <td>For Hire Vehicle Complaint</td>\n      <td>15871</td>\n    </tr>\n    <tr>\n      <th>155</th>\n      <td>For Hire Vehicle Report</td>\n      <td>622</td>\n    </tr>\n    <tr>\n      <th>156</th>\n      <td>Forensic Engineering</td>\n      <td>5</td>\n    </tr>\n    <tr>\n      <th>157</th>\n      <td>Forms</td>\n      <td>375</td>\n    </tr>\n    <tr>\n      <th>158</th>\n      <td>Found Property</td>\n      <td>212</td>\n    </tr>\n    <tr>\n      <th>159</th>\n      <td>GENERAL</td>\n      <td>25504</td>\n    </tr>\n    <tr>\n      <th>160</th>\n      <td>General</td>\n      <td>1161</td>\n    </tr>\n    <tr>\n      <th>161</th>\n      <td>General Construction/Plumbing</td>\n      <td>54939</td>\n    </tr>\n    <tr>\n      <th>162</th>\n      <td>Graffiti</td>\n      <td>24986</td>\n    </tr>\n    <tr>\n      <th>163</th>\n      <td>Green Taxi Complaint</td>\n      <td>65</td>\n    </tr>\n    <tr>\n      <th>164</th>\n      <td>Green Taxi Report</td>\n      <td>8</td>\n    </tr>\n    <tr>\n      <th>165</th>\n      <td>HEAT/HOT WATER</td>\n      <td>222722</td>\n    </tr>\n    <tr>\n      <th>166</th>\n      <td>HPD Literature Request</td>\n      <td>2340</td>\n    </tr>\n    <tr>\n      <th>167</th>\n      <td>Harboring Bees/Wasps</td>\n      <td>167</td>\n    </tr>\n    <tr>\n      <th>168</th>\n      <td>Hazardous Materials</td>\n      <td>3148</td>\n    </tr>\n    <tr>\n      <th>169</th>\n      <td>Hazmat Storage/Use</td>\n      <td>1</td>\n    </tr>\n    <tr>\n      <th>170</th>\n      <td>Highway Condition</td>\n      <td>3543</td>\n    </tr>\n    <tr>\n      <th>171</th>\n      <td>Highway Sign - Damaged</td>\n      <td>115</td>\n    </tr>\n    <tr>\n      <th>172</th>\n      <td>Highway Sign - Dangling</td>\n      <td>27</td>\n    </tr>\n    <tr>\n      <th>173</th>\n      <td>Highway Sign - Missing</td>\n      <td>49</td>\n    </tr>\n    <tr>\n      <th>174</th>\n      <td>Home Care Provider Complaint</td>\n      <td>24</td>\n    </tr>\n    <tr>\n      <th>175</th>\n      <td>Home Delivered Meal - Missed Delivery</td>\n      <td>78</td>\n    </tr>\n    <tr>\n      <th>176</th>\n      <td>Home Delivered Meal Complaint</td>\n      <td>68</td>\n    </tr>\n    <tr>\n      <th>177</th>\n      <td>Homeless Encampment</td>\n      <td>5381</td>\n    </tr>\n    <tr>\n      <th>178</th>\n      <td>Homeless Person Assistance</td>\n      <td>20991</td>\n    </tr>\n    <tr>\n      <th>179</th>\n      <td>Housing - Low Income Senior</td>\n      <td>4375</td>\n    </tr>\n    <tr>\n      <th>180</th>\n      <td>Housing Options</td>\n      <td>1387</td>\n    </tr>\n    <tr>\n      <th>181</th>\n      <td>Illegal Animal Kept as Pet</td>\n      <td>264</td>\n    </tr>\n    <tr>\n      <th>182</th>\n      <td>Illegal Animal Sold</td>\n      <td>64</td>\n    </tr>\n    <tr>\n      <th>183</th>\n      <td>Illegal Fireworks</td>\n      <td>858</td>\n    </tr>\n    <tr>\n      <th>184</th>\n      <td>Illegal Parking</td>\n      <td>195159</td>\n    </tr>\n    <tr>\n      <th>185</th>\n      <td>Illegal Tree Damage</td>\n      <td>3871</td>\n    </tr>\n    <tr>\n      <th>186</th>\n      <td>Indoor Air Quality</td>\n      <td>4612</td>\n    </tr>\n    <tr>\n      <th>187</th>\n      <td>Indoor Sewage</td>\n      <td>1271</td>\n    </tr>\n    <tr>\n      <th>188</th>\n      <td>Industrial Waste</td>\n      <td>1385</td>\n    </tr>\n    <tr>\n      <th>189</th>\n      <td>Internal Code</td>\n      <td>2</td>\n    </tr>\n    <tr>\n      <th>190</th>\n      <td>Investigations and Discipline (IAD)</td>\n      <td>841</td>\n    </tr>\n    <tr>\n      <th>191</th>\n      <td>Lead</td>\n      <td>10364</td>\n    </tr>\n    <tr>\n      <th>192</th>\n      <td>Lifeguard</td>\n      <td>23</td>\n    </tr>\n    <tr>\n      <th>193</th>\n      <td>LinkNYC</td>\n      <td>207</td>\n    </tr>\n    <tr>\n      <th>194</th>\n      <td>Litter Basket / Request</td>\n      <td>2702</td>\n    </tr>\n    <tr>\n      <th>195</th>\n      <td>Lost Property</td>\n      <td>2713</td>\n    </tr>\n    <tr>\n      <th>196</th>\n      <td>MSOTHER</td>\n      <td>1</td>\n    </tr>\n    <tr>\n      <th>197</th>\n      <td>Maintenance or Facility</td>\n      <td>17665</td>\n    </tr>\n    <tr>\n      <th>198</th>\n      <td>Misc. Comments  BCC:a5glxzf...</td>\n      <td>1</td>\n    </tr>\n    <tr>\n      <th>199</th>\n      <td>Misc. Comments\"</td>\n      <td>1</td>\n    </tr>\n    <tr>\n      <th>200</th>\n      <td>Misc. Comments\"|echo 2...</td>\n      <td>1</td>\n    </tr>\n    <tr>\n      <th>201</th>\n      <td>Misc. Comments\"|ping -...</td>\n      <td>1</td>\n    </tr>\n    <tr>\n      <th>202</th>\n      <td>Misc. Comments%}dt2pq'/&amp;quo...</td>\n      <td>1</td>\n    </tr>\n    <tr>\n      <th>203</th>\n      <td>Misc. Comments&amp;echo xjd...</td>\n      <td>1</td>\n    </tr>\n    <tr>\n      <th>204</th>\n      <td>Misc. Comments&amp;nslookup...</td>\n      <td>1</td>\n    </tr>\n    <tr>\n      <th>205</th>\n      <td>Misc. Comments&amp;ping -n ...</td>\n      <td>1</td>\n    </tr>\n    <tr>\n      <th>206</th>\n      <td>Misc. Comments'</td>\n      <td>1</td>\n    </tr>\n    <tr>\n      <th>207</th>\n      <td>Misc. Comments' and '1618'=...</td>\n      <td>1</td>\n    </tr>\n    <tr>\n      <th>208</th>\n      <td>Misc. Comments' and '7835'=...</td>\n      <td>1</td>\n    </tr>\n    <tr>\n      <th>209</th>\n      <td>Misc. Comments' and (select...</td>\n      <td>1</td>\n    </tr>\n    <tr>\n      <th>210</th>\n      <td>Misc. Comments' and 6049=60...</td>\n      <td>1</td>\n    </tr>\n    <tr>\n      <th>211</th>\n      <td>Misc. Comments' and 7702=77...</td>\n      <td>1</td>\n    </tr>\n    <tr>\n      <th>212</th>\n      <td>Misc. Comments' waitfor del...</td>\n      <td>1</td>\n    </tr>\n    <tr>\n      <th>213</th>\n      <td>Misc. Comments'\"`0&amp;amp...</td>\n      <td>1</td>\n    </tr>\n    <tr>\n      <th>214</th>\n      <td>Misc. Comments'(select*from...</td>\n      <td>1</td>\n    </tr>\n    <tr>\n      <th>215</th>\n      <td>Misc. Comments');declare @q...</td>\n      <td>1</td>\n    </tr>\n    <tr>\n      <th>216</th>\n      <td>Misc. Comments')waitfor del...</td>\n      <td>1</td>\n    </tr>\n    <tr>\n      <th>217</th>\n      <td>Misc. Comments'+(function()...</td>\n      <td>1</td>\n    </tr>\n    <tr>\n      <th>218</th>\n      <td>Misc. Comments'+(select loa...</td>\n      <td>1</td>\n    </tr>\n    <tr>\n      <th>219</th>\n      <td>Misc. Comments'+(select*fro...</td>\n      <td>1</td>\n    </tr>\n    <tr>\n      <th>220</th>\n      <td>Misc. Comments'+eval(compil...</td>\n      <td>1</td>\n    </tr>\n    <tr>\n      <th>221</th>\n      <td>Misc. Comments'+sleep(20.to...</td>\n      <td>1</td>\n    </tr>\n    <tr>\n      <th>222</th>\n      <td>Misc. Comments',0)waitfor d...</td>\n      <td>1</td>\n    </tr>\n    <tr>\n      <th>223</th>\n      <td>Misc. Comments'.sleep(20).'</td>\n      <td>1</td>\n    </tr>\n    <tr>\n      <th>224</th>\n      <td>Misc. Comments';declare @q ...</td>\n      <td>1</td>\n    </tr>\n    <tr>\n      <th>225</th>\n      <td>Misc. Comments'|echo y9v6fc...</td>\n      <td>1</td>\n    </tr>\n    <tr>\n      <th>226</th>\n      <td>Misc. Comments'|ping -c 21 ...</td>\n      <td>1</td>\n    </tr>\n    <tr>\n      <th>227</th>\n      <td>Misc. Comments'||(select ex...</td>\n      <td>1</td>\n    </tr>\n    <tr>\n      <th>228</th>\n      <td>Misc. Comments);declare @q ...</td>\n      <td>1</td>\n    </tr>\n    <tr>\n      <th>229</th>\n      <td>Misc. Comments,(select*from...</td>\n      <td>1</td>\n    </tr>\n    <tr>\n      <th>230</th>\n      <td>Misc. Comments../../../../....</td>\n      <td>3</td>\n    </tr>\n    <tr>\n      <th>231</th>\n      <td>Misc. Comments..\\..\\..\\..\\....</td>\n      <td>2</td>\n    </tr>\n    <tr>\n      <th>232</th>\n      <td>Misc. Comments47876391' or ...</td>\n      <td>1</td>\n    </tr>\n    <tr>\n      <th>233</th>\n      <td>Misc. Comments52038737' or ...</td>\n      <td>1</td>\n    </tr>\n    <tr>\n      <th>234</th>\n      <td>Misc. Comments69075347' or ...</td>\n      <td>1</td>\n    </tr>\n    <tr>\n      <th>235</th>\n      <td>Misc. Comments88909845' or ...</td>\n      <td>1</td>\n    </tr>\n    <tr>\n      <th>236</th>\n      <td>Misc. Comments;declare @q v...</td>\n      <td>1</td>\n    </tr>\n    <tr>\n      <th>237</th>\n      <td>Misc. Comments&gt;  BCC:bl0...</td>\n      <td>1</td>\n    </tr>\n    <tr>\n      <th>238</th>\n      <td>Misc. Comments]]&gt;&gt;&lt;</td>\n      <td>1</td>\n    </tr>\n    <tr>\n      <th>239</th>\n      <td>Misc. Commentseowljujfh8</td>\n      <td>1</td>\n    </tr>\n    <tr>\n      <th>240</th>\n      <td>Misc. Commentso0w3r%&gt;xb6...</td>\n      <td>1</td>\n    </tr>\n    <tr>\n      <th>241</th>\n      <td>Misc. Comments{${sleep(20)}}</td>\n      <td>1</td>\n    </tr>\n    <tr>\n      <th>242</th>\n      <td>Misc. Comments|echo 3p7wexz...</td>\n      <td>1</td>\n    </tr>\n    <tr>\n      <th>243</th>\n      <td>Misc. Comments|nslookup -q=...</td>\n      <td>1</td>\n    </tr>\n    <tr>\n      <th>244</th>\n      <td>Misc. Comments|ping -c 21 1...</td>\n      <td>1</td>\n    </tr>\n    <tr>\n      <th>245</th>\n      <td>Misc. Comments|ping -n 21 1...</td>\n      <td>1</td>\n    </tr>\n    <tr>\n      <th>246</th>\n      <td>Misc. Comments}}t2v95'/&amp;quo...</td>\n      <td>1</td>\n    </tr>\n    <tr>\n      <th>247</th>\n      <td>Miscellaneous Categories</td>\n      <td>189</td>\n    </tr>\n    <tr>\n      <th>248</th>\n      <td>Missed Collection</td>\n      <td>325</td>\n    </tr>\n    <tr>\n      <th>249</th>\n      <td>Missed Collection (All Materials)</td>\n      <td>47293</td>\n    </tr>\n    <tr>\n      <th>250</th>\n      <td>Mobile Food Vendor</td>\n      <td>2207</td>\n    </tr>\n    <tr>\n      <th>251</th>\n      <td>Mold</td>\n      <td>472</td>\n    </tr>\n    <tr>\n      <th>252</th>\n      <td>Mosquitoes</td>\n      <td>755</td>\n    </tr>\n    <tr>\n      <th>253</th>\n      <td>Municipal Parking Facility</td>\n      <td>52</td>\n    </tr>\n    <tr>\n      <th>254</th>\n      <td>New Tree Request</td>\n      <td>21031</td>\n    </tr>\n    <tr>\n      <th>255</th>\n      <td>Noise</td>\n      <td>62878</td>\n    </tr>\n    <tr>\n      <th>256</th>\n      <td>Noise - Commercial</td>\n      <td>45147</td>\n    </tr>\n    <tr>\n      <th>257</th>\n      <td>Noise - Helicopter</td>\n      <td>1634</td>\n    </tr>\n    <tr>\n      <th>258</th>\n      <td>Noise - House of Worship</td>\n      <td>789</td>\n    </tr>\n    <tr>\n      <th>259</th>\n      <td>Noise - Park</td>\n      <td>4651</td>\n    </tr>\n    <tr>\n      <th>260</th>\n      <td>Noise - Residential</td>\n      <td>236350</td>\n    </tr>\n    <tr>\n      <th>261</th>\n      <td>Noise - Street/Sidewalk</td>\n      <td>95977</td>\n    </tr>\n    <tr>\n      <th>262</th>\n      <td>Noise - Vehicle</td>\n      <td>42420</td>\n    </tr>\n    <tr>\n      <th>263</th>\n      <td>Non-Emergency Police Matter</td>\n      <td>9479</td>\n    </tr>\n    <tr>\n      <th>264</th>\n      <td>Non-Residential Heat</td>\n      <td>1081</td>\n    </tr>\n    <tr>\n      <th>265</th>\n      <td>OEM Literature Request</td>\n      <td>131</td>\n    </tr>\n    <tr>\n      <th>266</th>\n      <td>OUTSIDE BUILDING</td>\n      <td>915</td>\n    </tr>\n    <tr>\n      <th>267</th>\n      <td>Other Enforcement</td>\n      <td>7680</td>\n    </tr>\n    <tr>\n      <th>268</th>\n      <td>Outside Building</td>\n      <td>6</td>\n    </tr>\n    <tr>\n      <th>269</th>\n      <td>Overflowing Litter Baskets</td>\n      <td>850</td>\n    </tr>\n    <tr>\n      <th>270</th>\n      <td>Overflowing Recycling Baskets</td>\n      <td>11</td>\n    </tr>\n    <tr>\n      <th>271</th>\n      <td>Overgrown Tree/Branches</td>\n      <td>16430</td>\n    </tr>\n    <tr>\n      <th>272</th>\n      <td>PAINT/PLASTER</td>\n      <td>56378</td>\n    </tr>\n    <tr>\n      <th>273</th>\n      <td>PLUMBING</td>\n      <td>51552</td>\n    </tr>\n    <tr>\n      <th>274</th>\n      <td>Panhandling</td>\n      <td>539</td>\n    </tr>\n    <tr>\n      <th>275</th>\n      <td>Parking Card</td>\n      <td>4</td>\n    </tr>\n    <tr>\n      <th>276</th>\n      <td>Pet Shop</td>\n      <td>167</td>\n    </tr>\n    <tr>\n      <th>277</th>\n      <td>Plant</td>\n      <td>99</td>\n    </tr>\n    <tr>\n      <th>278</th>\n      <td>Plumbing</td>\n      <td>8532</td>\n    </tr>\n    <tr>\n      <th>279</th>\n      <td>Poison Ivy</td>\n      <td>243</td>\n    </tr>\n    <tr>\n      <th>280</th>\n      <td>Posting Advertisement</td>\n      <td>146</td>\n    </tr>\n    <tr>\n      <th>281</th>\n      <td>Public Assembly</td>\n      <td>4</td>\n    </tr>\n    <tr>\n      <th>282</th>\n      <td>Public Payphone Complaint</td>\n      <td>378</td>\n    </tr>\n    <tr>\n      <th>283</th>\n      <td>Public Toilet</td>\n      <td>41</td>\n    </tr>\n    <tr>\n      <th>284</th>\n      <td>Quality of Life</td>\n      <td>355</td>\n    </tr>\n    <tr>\n      <th>285</th>\n      <td>Question</td>\n      <td>1007</td>\n    </tr>\n    <tr>\n      <th>286</th>\n      <td>Radioactive Material</td>\n      <td>10</td>\n    </tr>\n    <tr>\n      <th>287</th>\n      <td>Rangehood</td>\n      <td>5</td>\n    </tr>\n    <tr>\n      <th>288</th>\n      <td>Recycling Enforcement</td>\n      <td>734</td>\n    </tr>\n    <tr>\n      <th>289</th>\n      <td>Request Changes - A.S.P.</td>\n      <td>1</td>\n    </tr>\n    <tr>\n      <th>290</th>\n      <td>Request Large Bulky Item Collection</td>\n      <td>177175</td>\n    </tr>\n    <tr>\n      <th>291</th>\n      <td>Request Xmas Tree Collection</td>\n      <td>3</td>\n    </tr>\n    <tr>\n      <th>292</th>\n      <td>Research Questions</td>\n      <td>22</td>\n    </tr>\n    <tr>\n      <th>293</th>\n      <td>Rodent</td>\n      <td>35460</td>\n    </tr>\n    <tr>\n      <th>294</th>\n      <td>Root/Sewer/Sidewalk Condition</td>\n      <td>8723</td>\n    </tr>\n    <tr>\n      <th>295</th>\n      <td>SAFETY</td>\n      <td>10078</td>\n    </tr>\n    <tr>\n      <th>296</th>\n      <td>SCRIE</td>\n      <td>4489</td>\n    </tr>\n    <tr>\n      <th>297</th>\n      <td>SRDE</td>\n      <td>2</td>\n    </tr>\n    <tr>\n      <th>298</th>\n      <td>Safety</td>\n      <td>420</td>\n    </tr>\n    <tr>\n      <th>299</th>\n      <td>Sanitation Condition</td>\n      <td>41013</td>\n    </tr>\n    <tr>\n      <th>300</th>\n      <td>Scaffold Safety</td>\n      <td>248</td>\n    </tr>\n    <tr>\n      <th>301</th>\n      <td>School Maintenance</td>\n      <td>2372</td>\n    </tr>\n    <tr>\n      <th>302</th>\n      <td>Select Message Type...</td>\n      <td>3</td>\n    </tr>\n    <tr>\n      <th>303</th>\n      <td>Senior Center Complaint</td>\n      <td>267</td>\n    </tr>\n    <tr>\n      <th>304</th>\n      <td>Sewer</td>\n      <td>38356</td>\n    </tr>\n    <tr>\n      <th>305</th>\n      <td>Sidewalk Condition</td>\n      <td>36622</td>\n    </tr>\n    <tr>\n      <th>306</th>\n      <td>Single Occupancy Bathroom</td>\n      <td>28</td>\n    </tr>\n    <tr>\n      <th>307</th>\n      <td>Smoking</td>\n      <td>2587</td>\n    </tr>\n    <tr>\n      <th>308</th>\n      <td>Snow</td>\n      <td>1688</td>\n    </tr>\n    <tr>\n      <th>309</th>\n      <td>Special Natural Area District (SNAD)</td>\n      <td>113</td>\n    </tr>\n    <tr>\n      <th>310</th>\n      <td>Special Operations</td>\n      <td>268</td>\n    </tr>\n    <tr>\n      <th>311</th>\n      <td>Special Projects Inspection Team (SPIT)</td>\n      <td>6513</td>\n    </tr>\n    <tr>\n      <th>312</th>\n      <td>Sprinkler - Mechanical</td>\n      <td>1</td>\n    </tr>\n    <tr>\n      <th>313</th>\n      <td>Squeegee</td>\n      <td>4</td>\n    </tr>\n    <tr>\n      <th>314</th>\n      <td>Stalled Sites</td>\n      <td>1</td>\n    </tr>\n    <tr>\n      <th>315</th>\n      <td>Standing Water</td>\n      <td>2690</td>\n    </tr>\n    <tr>\n      <th>316</th>\n      <td>Street Condition</td>\n      <td>97178</td>\n    </tr>\n    <tr>\n      <th>317</th>\n      <td>Street Light Condition</td>\n      <td>77755</td>\n    </tr>\n    <tr>\n      <th>318</th>\n      <td>Street Sign - Damaged</td>\n      <td>6851</td>\n    </tr>\n    <tr>\n      <th>319</th>\n      <td>Street Sign - Dangling</td>\n      <td>2905</td>\n    </tr>\n    <tr>\n      <th>320</th>\n      <td>Street Sign - Missing</td>\n      <td>5889</td>\n    </tr>\n    <tr>\n      <th>321</th>\n      <td>Sustainability Enforcement</td>\n      <td>1405</td>\n    </tr>\n    <tr>\n      <th>322</th>\n      <td>Sweeping/Inadequate</td>\n      <td>321</td>\n    </tr>\n    <tr>\n      <th>323</th>\n      <td>Sweeping/Missed</td>\n      <td>1047</td>\n    </tr>\n    <tr>\n      <th>324</th>\n      <td>Sweeping/Missed-Inadequate</td>\n      <td>60</td>\n    </tr>\n    <tr>\n      <th>325</th>\n      <td>Tanning</td>\n      <td>4</td>\n    </tr>\n    <tr>\n      <th>326</th>\n      <td>Tattooing</td>\n      <td>130</td>\n    </tr>\n    <tr>\n      <th>327</th>\n      <td>Taxi Complaint</td>\n      <td>14032</td>\n    </tr>\n    <tr>\n      <th>328</th>\n      <td>Taxi Compliment</td>\n      <td>287</td>\n    </tr>\n    <tr>\n      <th>329</th>\n      <td>Taxi Licensee Complaint</td>\n      <td>20</td>\n    </tr>\n    <tr>\n      <th>330</th>\n      <td>Taxi Report</td>\n      <td>1870</td>\n    </tr>\n    <tr>\n      <th>331</th>\n      <td>Taxpayer Advocate Inquiry</td>\n      <td>140</td>\n    </tr>\n    <tr>\n      <th>332</th>\n      <td>Traffic</td>\n      <td>5041</td>\n    </tr>\n    <tr>\n      <th>333</th>\n      <td>Traffic Signal Condition</td>\n      <td>42506</td>\n    </tr>\n    <tr>\n      <th>334</th>\n      <td>Trans Fat</td>\n      <td>1</td>\n    </tr>\n    <tr>\n      <th>335</th>\n      <td>Transportation Provider Complaint</td>\n      <td>14</td>\n    </tr>\n    <tr>\n      <th>336</th>\n      <td>Tunnel Condition</td>\n      <td>9</td>\n    </tr>\n    <tr>\n      <th>337</th>\n      <td>UNSANITARY CONDITION</td>\n      <td>85904</td>\n    </tr>\n    <tr>\n      <th>338</th>\n      <td>Unleashed Dog</td>\n      <td>694</td>\n    </tr>\n    <tr>\n      <th>339</th>\n      <td>Unlicensed Dog</td>\n      <td>57</td>\n    </tr>\n    <tr>\n      <th>340</th>\n      <td>Unsanitary Animal Facility</td>\n      <td>75</td>\n    </tr>\n    <tr>\n      <th>341</th>\n      <td>Unsanitary Animal Pvt Property</td>\n      <td>1975</td>\n    </tr>\n    <tr>\n      <th>342</th>\n      <td>Unsanitary Condition</td>\n      <td>5473</td>\n    </tr>\n    <tr>\n      <th>343</th>\n      <td>Unsanitary Pigeon Condition</td>\n      <td>637</td>\n    </tr>\n    <tr>\n      <th>344</th>\n      <td>Urinating in Public</td>\n      <td>582</td>\n    </tr>\n    <tr>\n      <th>345</th>\n      <td>Vacant Lot</td>\n      <td>1870</td>\n    </tr>\n    <tr>\n      <th>346</th>\n      <td>Vending</td>\n      <td>5140</td>\n    </tr>\n    <tr>\n      <th>347</th>\n      <td>Violation of Park Rules</td>\n      <td>2876</td>\n    </tr>\n    <tr>\n      <th>348</th>\n      <td>WATER LEAK</td>\n      <td>37513</td>\n    </tr>\n    <tr>\n      <th>349</th>\n      <td>Water Conservation</td>\n      <td>4641</td>\n    </tr>\n    <tr>\n      <th>350</th>\n      <td>Water Leak</td>\n      <td>1</td>\n    </tr>\n    <tr>\n      <th>351</th>\n      <td>Water Quality</td>\n      <td>1910</td>\n    </tr>\n    <tr>\n      <th>352</th>\n      <td>Water System</td>\n      <td>74139</td>\n    </tr>\n    <tr>\n      <th>353</th>\n      <td>Window Guard</td>\n      <td>31</td>\n    </tr>\n    <tr>\n      <th>354</th>\n      <td>X-Ray Machine/Equipment</td>\n      <td>9</td>\n    </tr>\n    <tr>\n      <th>355</th>\n      <td>\\windows\\win.ini</td>\n      <td>1</td>\n    </tr>\n    <tr>\n      <th>356</th>\n      <td>`sleep 11`</td>\n      <td>1</td>\n    </tr>\n    <tr>\n      <th>357</th>\n      <td>a'a\\'b\"c&gt;?&gt;%}}%%...</td>\n      <td>1</td>\n    </tr>\n    <tr>\n      <th>358</th>\n      <td>bcd9&lt;!--esi--&gt;1ggp&amp;lt...</td>\n      <td>1</td>\n    </tr>\n    <tr>\n      <th>359</th>\n      <td>c:\\windows\\win.ini</td>\n      <td>1</td>\n    </tr>\n    <tr>\n      <th>360</th>\n      <td>c:\\windows\\win.ini Misc. Co...</td>\n      <td>1</td>\n    </tr>\n    <tr>\n      <th>361</th>\n      <td>eval(compile('for x in rang...</td>\n      <td>1</td>\n    </tr>\n    <tr>\n      <th>362</th>\n      <td>file:///c:/windows/win.ini</td>\n      <td>1</td>\n    </tr>\n    <tr>\n      <th>363</th>\n      <td>file:///etc/passwd</td>\n      <td>2</td>\n    </tr>\n    <tr>\n      <th>364</th>\n      <td>g0oii1s4s5)(objectClass=*</td>\n      <td>1</td>\n    </tr>\n    <tr>\n      <th>365</th>\n      <td>hcvn1{{687*375}}gji51</td>\n      <td>1</td>\n    </tr>\n    <tr>\n      <th>366</th>\n      <td>http://g7orz5h9iu2sh6z332rj...</td>\n      <td>1</td>\n    </tr>\n    <tr>\n      <th>367</th>\n      <td>idexf3mrb7)(!(objectClass=*)</td>\n      <td>1</td>\n    </tr>\n    <tr>\n      <th>368</th>\n      <td>kawn''lcgv</td>\n      <td>1</td>\n    </tr>\n    <tr>\n      <th>369</th>\n      <td>nslookup -q=cname nneyfcxgy...</td>\n      <td>1</td>\n    </tr>\n    <tr>\n      <th>370</th>\n      <td>qfix4${695*589}lixaf</td>\n      <td>1</td>\n    </tr>\n    <tr>\n      <th>371</th>\n      <td>yw97y0gi2s</td>\n      <td>1</td>\n    </tr>\n    <tr>\n      <th>372</th>\n      <td>{!xmlparser v='&lt;!DOCTYPE...</td>\n      <td>1</td>\n    </tr>\n  </tbody>\n</table>\n</div>"
     },
     "metadata": {},
     "execution_count": 47
    }
   ],
   "source": [
    "counts = df.groupby('Complaint Type').size().reset_index(name='count')\n",
    "counts\n",
    "# .reset_index(name='count') allows us to name the new column that contains the count of rows"
   ]
  },
  {
   "cell_type": "markdown",
   "metadata": {
    "colab_type": "text",
    "id": "_vsxKXnto7RQ"
   },
   "source": [
    "You can also use `.count()` but [the output is a little different](https://stackoverflow.com/questions/33346591/what-is-the-difference-between-size-and-count-in-pandas).\n",
    "\n",
    "Create a \"series\" that only lists the `Complaint Type` values that have record counts > 4. (Remember: A single column from a pandas dataframe is called a series. It's essentially a list containing all the values in the column.) "
   ]
  },
  {
   "cell_type": "code",
   "execution_count": 48,
   "metadata": {
    "colab": {
     "base_uri": "https://localhost:8080/",
     "height": 1000
    },
    "colab_type": "code",
    "id": "dztWQGD3uxbD",
    "outputId": "62507280-0ba5-4cb0-f809-d4b8d0c2fbf6"
   },
   "outputs": [
    {
     "output_type": "execute_result",
     "data": {
      "text/plain": "45                                     APPLIANCE\n46                             Abandoned Vehicle\n48                               Advocate - Lien\n49                              Advocate - Other\n50                               Advocate - RPIE\n52                 Advocate-Co-opCondo Abatement\n53                Advocate-Commercial Exemptions\n55                  Advocate-Personal Exemptions\n57                 Advocate-Prop Refunds/Credits\n58                       Advocate-Property Value\n60                                   Air Quality\n61                              Alzheimer's Care\n62                                  Animal Abuse\n63                   Animal Facility - No Permit\n64                              Animal in a Park\n65                                  Animal-Abuse\n67                                      Asbestos\n68                              BEST/Site Safety\n69                    Beach/Pool/Sauna Complaint\n70                      Benefit Card Replacement\n71                     Bereavement Support Group\n72                           Bike Rack Condition\n73                     Bike/Roller/Skate Chronic\n74                              Blocked Driveway\n75                                       Boilers\n76                                Borough Office\n77                                 Bottled Water\n78                              Bridge Condition\n79                          Broken Parking Meter\n81                      Building Marshals office\n82                                  Building/Use\n83                    Bus Stop Shelter Complaint\n84                    Bus Stop Shelter Placement\n85                              Calorie Labeling\n86              Case Management Agency Complaint\n87                        Collection Truck Noise\n88                                      Comments\n90               Construction Safety Enforcement\n91                            Consumer Complaint\n92                                 Cooling Tower\n93                           Cranes and Derricks\n94                                Curb Condition\n95     DCA / DOH New License Application Request\n98                          DEP Street Condition\n99                   DOF Parking - DMV Clearance\n100                  DOF Parking - Payment Issue\n101                   DOF Parking - Request Copy\n102                 DOF Parking - Request Status\n103                  DOF Parking - Tax Exemption\n104                   DOF Property - Owner Issue\n105                 DOF Property - Payment Issue\n106                DOF Property - Property Value\n107                    DOF Property - RPIE Issue\n108               DOF Property - Reduction Issue\n109                  DOF Property - Request Copy\n110                DOF Property - Update Account\n111                                  DOOR/WINDOW\n112                                 DPR Internal\n113                                         DRIE\n115                                 Damaged Tree\n116                                     Day Care\n117                              Dead/Dying Tree\n119                             Derelict Bicycle\n120                             Derelict Vehicle\n121                            Derelict Vehicles\n122                             Dirty Conditions\n123                             Disorderly Youth\n124                    Dispatched Taxi Complaint\n126                                     Drinking\n127                               Drinking Water\n128                                Drug Activity\n129                                     ELECTRIC\n130                                     ELEVATOR\n131                                  Elder Abuse\n133                                   Electrical\n134                            Electronics Waste\n135                Electronics Waste Appointment\n136                                     Elevator\n137                Emergency Response Team (ERT)\n139                        Executive Inspections\n140                                         FATF\n141                       FHV Licensee Complaint\n142                              FLOORING/STAIRS\n143                                      Facades\n144                              Ferry Complaint\n145                                Ferry Inquiry\n146                                 Ferry Permit\n148                      Fire Alarm - New System\n149                    Fire Alarm - Reinspection\n151                         Foam Ban Enforcement\n152                           Food Establishment\n153                               Food Poisoning\n154                   For Hire Vehicle Complaint\n155                      For Hire Vehicle Report\n156                         Forensic Engineering\n157                                        Forms\n158                               Found Property\n159                                      GENERAL\n160                                      General\n161                General Construction/Plumbing\n162                                     Graffiti\n163                         Green Taxi Complaint\n164                            Green Taxi Report\n165                               HEAT/HOT WATER\n166                       HPD Literature Request\n167                         Harboring Bees/Wasps\n168                          Hazardous Materials\n170                            Highway Condition\n171                       Highway Sign - Damaged\n172                      Highway Sign - Dangling\n173                       Highway Sign - Missing\n174                 Home Care Provider Complaint\n175        Home Delivered Meal - Missed Delivery\n176                Home Delivered Meal Complaint\n177                          Homeless Encampment\n178                   Homeless Person Assistance\n179                  Housing - Low Income Senior\n180                              Housing Options\n181                   Illegal Animal Kept as Pet\n182                          Illegal Animal Sold\n183                            Illegal Fireworks\n184                              Illegal Parking\n185                          Illegal Tree Damage\n186                           Indoor Air Quality\n187                                Indoor Sewage\n188                             Industrial Waste\n190          Investigations and Discipline (IAD)\n191                                         Lead\n192                                    Lifeguard\n193                                      LinkNYC\n194                      Litter Basket / Request\n195                                Lost Property\n197                      Maintenance or Facility\n247                     Miscellaneous Categories\n248                            Missed Collection\n249            Missed Collection (All Materials)\n250                           Mobile Food Vendor\n251                                         Mold\n252                                   Mosquitoes\n253                   Municipal Parking Facility\n254                             New Tree Request\n255                                        Noise\n256                           Noise - Commercial\n257                           Noise - Helicopter\n258                     Noise - House of Worship\n259                                 Noise - Park\n260                          Noise - Residential\n261                      Noise - Street/Sidewalk\n262                              Noise - Vehicle\n263                  Non-Emergency Police Matter\n264                         Non-Residential Heat\n265                       OEM Literature Request\n266                             OUTSIDE BUILDING\n267                            Other Enforcement\n268                             Outside Building\n269                   Overflowing Litter Baskets\n270                Overflowing Recycling Baskets\n271                      Overgrown Tree/Branches\n272                                PAINT/PLASTER\n273                                     PLUMBING\n274                                  Panhandling\n276                                     Pet Shop\n277                                        Plant\n278                                     Plumbing\n279                                   Poison Ivy\n280                        Posting Advertisement\n282                    Public Payphone Complaint\n283                                Public Toilet\n284                              Quality of Life\n285                                     Question\n286                         Radioactive Material\n287                                    Rangehood\n288                        Recycling Enforcement\n290          Request Large Bulky Item Collection\n292                           Research Questions\n293                                       Rodent\n294                Root/Sewer/Sidewalk Condition\n295                                       SAFETY\n296                                        SCRIE\n298                                       Safety\n299                         Sanitation Condition\n300                              Scaffold Safety\n301                           School Maintenance\n303                      Senior Center Complaint\n304                                        Sewer\n305                           Sidewalk Condition\n306                    Single Occupancy Bathroom\n307                                      Smoking\n308                                         Snow\n309         Special Natural Area District (SNAD)\n310                           Special Operations\n311      Special Projects Inspection Team (SPIT)\n315                               Standing Water\n316                             Street Condition\n317                       Street Light Condition\n318                        Street Sign - Damaged\n319                       Street Sign - Dangling\n320                        Street Sign - Missing\n321                   Sustainability Enforcement\n322                          Sweeping/Inadequate\n323                              Sweeping/Missed\n324                   Sweeping/Missed-Inadequate\n326                                    Tattooing\n327                               Taxi Complaint\n328                              Taxi Compliment\n329                      Taxi Licensee Complaint\n330                                  Taxi Report\n331                    Taxpayer Advocate Inquiry\n332                                      Traffic\n333                     Traffic Signal Condition\n335            Transportation Provider Complaint\n336                             Tunnel Condition\n337                         UNSANITARY CONDITION\n338                                Unleashed Dog\n339                               Unlicensed Dog\n340                   Unsanitary Animal Facility\n341               Unsanitary Animal Pvt Property\n342                         Unsanitary Condition\n343                  Unsanitary Pigeon Condition\n344                          Urinating in Public\n345                                   Vacant Lot\n346                                      Vending\n347                      Violation of Park Rules\n348                                   WATER LEAK\n349                           Water Conservation\n351                                Water Quality\n352                                 Water System\n353                                 Window Guard\n354                      X-Ray Machine/Equipment\nName: Complaint Type, dtype: object"
     },
     "metadata": {},
     "execution_count": 48
    }
   ],
   "source": [
    "valid_complaint_types = counts['Complaint Type'][counts['count'] > 4]\n",
    "valid_complaint_types"
   ]
  },
  {
   "cell_type": "code",
   "execution_count": 49,
   "metadata": {},
   "outputs": [],
   "source": [
    "# go back to only displaying some\n",
    "pd.reset_option(\"display.max_rows\")"
   ]
  },
  {
   "cell_type": "markdown",
   "metadata": {
    "colab_type": "text",
    "id": "5AHFe3Nhp1gz"
   },
   "source": [
    "Filter our `df` dataframe to only keep the rows where the `Complaint Type` value is in the `valid_complaint_types` series we created in the previous step. Save the result in a new dataframe."
   ]
  },
  {
   "cell_type": "code",
   "execution_count": 37,
   "metadata": {
    "colab": {
     "base_uri": "https://localhost:8080/",
     "height": 52
    },
    "colab_type": "code",
    "id": "PII26jb0g8Eg",
    "outputId": "8c839d5d-da47-4576-b1cb-86a147ec52e7"
   },
   "outputs": [],
   "source": [
    "df_cleaned = df[df['Complaint Type'].isin(valid_complaint_types)]"
   ]
  },
  {
   "cell_type": "markdown",
   "metadata": {},
   "source": [
    "How can we make sure this worked? Let's check how many records there were originally in `df` vs how many are in `df_cleaned`.\n",
    "\n",
    "Before:"
   ]
  },
  {
   "cell_type": "code",
   "execution_count": 38,
   "metadata": {},
   "outputs": [
    {
     "output_type": "execute_result",
     "data": {
      "text/plain": "2859200"
     },
     "metadata": {},
     "execution_count": 38
    }
   ],
   "source": [
    "df['Unique Key'].size"
   ]
  },
  {
   "cell_type": "markdown",
   "metadata": {},
   "source": [
    "After:"
   ]
  },
  {
   "cell_type": "code",
   "execution_count": 39,
   "metadata": {},
   "outputs": [
    {
     "output_type": "execute_result",
     "data": {
      "text/plain": "2859011"
     },
     "metadata": {},
     "execution_count": 39
    }
   ],
   "source": [
    "df_cleaned['Unique Key'].size"
   ]
  },
  {
   "cell_type": "markdown",
   "metadata": {},
   "source": [
    "We can also print the set of complaint_type values from our cleaned dataframe to make sure they look correct."
   ]
  },
  {
   "cell_type": "code",
   "execution_count": 40,
   "metadata": {},
   "outputs": [
    {
     "output_type": "execute_result",
     "data": {
      "text/plain": "2139256                Noise - Commercial\n1636808                  Blocked Driveway\n2672790                             Noise\n330863                       Damaged Tree\n1014364                    HEAT/HOT WATER\n450993                               Lead\n1492841    DOF Property - Reduction Issue\n45492                        Water System\n561958                           ELECTRIC\n2102934                    HEAT/HOT WATER\nName: Complaint Type, dtype: object"
     },
     "metadata": {},
     "execution_count": 40
    }
   ],
   "source": [
    "df_cleaned['Complaint Type'].sample(10)"
   ]
  },
  {
   "cell_type": "markdown",
   "metadata": {
    "colab_type": "text",
    "id": "hNv98pVghJ1J"
   },
   "source": [
    "Great, now those invalid records will be excluded from our analysis!\n",
    "\n",
    "Another approach to excluding those invalid records would be to use [\"regex\" (regular expressions)](https://www.w3schools.com/python/python_regex.asp) to find records with weird characters."
   ]
  },
  {
   "cell_type": "markdown",
   "metadata": {
    "colab_type": "text",
    "id": "SLUy01x4h_I3"
   },
   "source": [
    "## Done with clean up! Time for the actual analysis: \n",
    "### Which 311 complaints are most common and which agencies are responsible for handling them?"
   ]
  },
  {
   "cell_type": "markdown",
   "metadata": {
    "colab_type": "text",
    "id": "HkmnJPxfiJrY"
   },
   "source": [
    "Which complaints are the most common?"
   ]
  },
  {
   "cell_type": "code",
   "execution_count": 50,
   "metadata": {
    "colab": {
     "base_uri": "https://localhost:8080/",
     "height": 514
    },
    "colab_type": "code",
    "id": "S90gXzXAiFoC",
    "outputId": "7fb263d5-a01c-42ca-ee21-267a0c0c18bf"
   },
   "outputs": [
    {
     "output_type": "execute_result",
     "data": {
      "text/plain": "                         Complaint Type   count\n0                   Noise - Residential  236350\n1                        HEAT/HOT WATER  222722\n2                       Illegal Parking  195159\n3   Request Large Bulky Item Collection  177175\n4                      Blocked Driveway  145446\n5                      Street Condition   97178\n6               Noise - Street/Sidewalk   95977\n7                  UNSANITARY CONDITION   85904\n8                Street Light Condition   77755\n9                          Water System   74139\n10                                Noise   62878\n11                        PAINT/PLASTER   56378\n12        General Construction/Plumbing   54939\n13                             PLUMBING   51552\n14    Missed Collection (All Materials)   47293",
      "text/html": "<div>\n<style scoped>\n    .dataframe tbody tr th:only-of-type {\n        vertical-align: middle;\n    }\n\n    .dataframe tbody tr th {\n        vertical-align: top;\n    }\n\n    .dataframe thead th {\n        text-align: right;\n    }\n</style>\n<table border=\"1\" class=\"dataframe\">\n  <thead>\n    <tr style=\"text-align: right;\">\n      <th></th>\n      <th>Complaint Type</th>\n      <th>count</th>\n    </tr>\n  </thead>\n  <tbody>\n    <tr>\n      <th>0</th>\n      <td>Noise - Residential</td>\n      <td>236350</td>\n    </tr>\n    <tr>\n      <th>1</th>\n      <td>HEAT/HOT WATER</td>\n      <td>222722</td>\n    </tr>\n    <tr>\n      <th>2</th>\n      <td>Illegal Parking</td>\n      <td>195159</td>\n    </tr>\n    <tr>\n      <th>3</th>\n      <td>Request Large Bulky Item Collection</td>\n      <td>177175</td>\n    </tr>\n    <tr>\n      <th>4</th>\n      <td>Blocked Driveway</td>\n      <td>145446</td>\n    </tr>\n    <tr>\n      <th>5</th>\n      <td>Street Condition</td>\n      <td>97178</td>\n    </tr>\n    <tr>\n      <th>6</th>\n      <td>Noise - Street/Sidewalk</td>\n      <td>95977</td>\n    </tr>\n    <tr>\n      <th>7</th>\n      <td>UNSANITARY CONDITION</td>\n      <td>85904</td>\n    </tr>\n    <tr>\n      <th>8</th>\n      <td>Street Light Condition</td>\n      <td>77755</td>\n    </tr>\n    <tr>\n      <th>9</th>\n      <td>Water System</td>\n      <td>74139</td>\n    </tr>\n    <tr>\n      <th>10</th>\n      <td>Noise</td>\n      <td>62878</td>\n    </tr>\n    <tr>\n      <th>11</th>\n      <td>PAINT/PLASTER</td>\n      <td>56378</td>\n    </tr>\n    <tr>\n      <th>12</th>\n      <td>General Construction/Plumbing</td>\n      <td>54939</td>\n    </tr>\n    <tr>\n      <th>13</th>\n      <td>PLUMBING</td>\n      <td>51552</td>\n    </tr>\n    <tr>\n      <th>14</th>\n      <td>Missed Collection (All Materials)</td>\n      <td>47293</td>\n    </tr>\n  </tbody>\n</table>\n</div>"
     },
     "metadata": {},
     "execution_count": 50
    }
   ],
   "source": [
    "df_cleaned.groupby('Complaint Type').size().nlargest(15).reset_index(name='count')\n",
    "\n",
    "# .reset_index(name='count') isn't necessary but it's helpful to include because it allows us to name the new column that contains the count of rows"
   ]
  },
  {
   "cell_type": "markdown",
   "metadata": {
    "colab_type": "text",
    "id": "J8kKgIZdiOom"
   },
   "source": [
    "Which agencies are responsible for handling these complaint categories?"
   ]
  },
  {
   "cell_type": "code",
   "execution_count": 51,
   "metadata": {
    "colab": {
     "base_uri": "https://localhost:8080/",
     "height": 514
    },
    "colab_type": "code",
    "id": "UVRyyXt8iUgF",
    "outputId": "b570ace6-1864-48b3-8ff7-17d5a8b1e024"
   },
   "outputs": [
    {
     "output_type": "execute_result",
     "data": {
      "text/plain": "   Agency                       Complaint Type   count\n0    NYPD                  Noise - Residential  236350\n1     HPD                       HEAT/HOT WATER  222722\n2    NYPD                      Illegal Parking  195159\n3    DSNY  Request Large Bulky Item Collection  177175\n4    NYPD                     Blocked Driveway  145446\n5     DOT                     Street Condition   97178\n6    NYPD              Noise - Street/Sidewalk   95977\n7     HPD                 UNSANITARY CONDITION   85904\n8     DOT               Street Light Condition   77755\n9     DEP                         Water System   74139\n10    DEP                                Noise   62878\n11    HPD                        PAINT/PLASTER   56378\n12    DOB        General Construction/Plumbing   54939\n13    HPD                             PLUMBING   51552\n14   DSNY    Missed Collection (All Materials)   47293",
      "text/html": "<div>\n<style scoped>\n    .dataframe tbody tr th:only-of-type {\n        vertical-align: middle;\n    }\n\n    .dataframe tbody tr th {\n        vertical-align: top;\n    }\n\n    .dataframe thead th {\n        text-align: right;\n    }\n</style>\n<table border=\"1\" class=\"dataframe\">\n  <thead>\n    <tr style=\"text-align: right;\">\n      <th></th>\n      <th>Agency</th>\n      <th>Complaint Type</th>\n      <th>count</th>\n    </tr>\n  </thead>\n  <tbody>\n    <tr>\n      <th>0</th>\n      <td>NYPD</td>\n      <td>Noise - Residential</td>\n      <td>236350</td>\n    </tr>\n    <tr>\n      <th>1</th>\n      <td>HPD</td>\n      <td>HEAT/HOT WATER</td>\n      <td>222722</td>\n    </tr>\n    <tr>\n      <th>2</th>\n      <td>NYPD</td>\n      <td>Illegal Parking</td>\n      <td>195159</td>\n    </tr>\n    <tr>\n      <th>3</th>\n      <td>DSNY</td>\n      <td>Request Large Bulky Item Collection</td>\n      <td>177175</td>\n    </tr>\n    <tr>\n      <th>4</th>\n      <td>NYPD</td>\n      <td>Blocked Driveway</td>\n      <td>145446</td>\n    </tr>\n    <tr>\n      <th>5</th>\n      <td>DOT</td>\n      <td>Street Condition</td>\n      <td>97178</td>\n    </tr>\n    <tr>\n      <th>6</th>\n      <td>NYPD</td>\n      <td>Noise - Street/Sidewalk</td>\n      <td>95977</td>\n    </tr>\n    <tr>\n      <th>7</th>\n      <td>HPD</td>\n      <td>UNSANITARY CONDITION</td>\n      <td>85904</td>\n    </tr>\n    <tr>\n      <th>8</th>\n      <td>DOT</td>\n      <td>Street Light Condition</td>\n      <td>77755</td>\n    </tr>\n    <tr>\n      <th>9</th>\n      <td>DEP</td>\n      <td>Water System</td>\n      <td>74139</td>\n    </tr>\n    <tr>\n      <th>10</th>\n      <td>DEP</td>\n      <td>Noise</td>\n      <td>62878</td>\n    </tr>\n    <tr>\n      <th>11</th>\n      <td>HPD</td>\n      <td>PAINT/PLASTER</td>\n      <td>56378</td>\n    </tr>\n    <tr>\n      <th>12</th>\n      <td>DOB</td>\n      <td>General Construction/Plumbing</td>\n      <td>54939</td>\n    </tr>\n    <tr>\n      <th>13</th>\n      <td>HPD</td>\n      <td>PLUMBING</td>\n      <td>51552</td>\n    </tr>\n    <tr>\n      <th>14</th>\n      <td>DSNY</td>\n      <td>Missed Collection (All Materials)</td>\n      <td>47293</td>\n    </tr>\n  </tbody>\n</table>\n</div>"
     },
     "metadata": {},
     "execution_count": 51
    }
   ],
   "source": [
    "df_cleaned.groupby(['Agency', 'Complaint Type']).size().nlargest(15).reset_index(name='count')"
   ]
  },
  {
   "cell_type": "markdown",
   "metadata": {
    "colab_type": "text",
    "id": "hwUfwRFIianT"
   },
   "source": [
    "Which agencies receive the most total 311 requests?"
   ]
  },
  {
   "cell_type": "code",
   "execution_count": 52,
   "metadata": {
    "colab": {
     "base_uri": "https://localhost:8080/",
     "height": 514
    },
    "colab_type": "code",
    "id": "c8go2qe9iZiE",
    "outputId": "21a6f3b2-da1e-4dd3-c68f-ba1f03f2b66d"
   },
   "outputs": [
    {
     "output_type": "execute_result",
     "data": {
      "text/plain": "   Agency   count\n0    NYPD  850077\n1     HPD  603043\n2    DSNY  420165\n3     DOT  298879\n4     DEP  207280\n5     DOB  149656\n6     DPR  119970\n7   DOHMH   72253\n8     DOF   41436\n9     TLC   35730\n10    DHS   20991\n11    DCA   17437\n12    HRA    9189\n13   DFTA    6681\n14    DOE    2372",
      "text/html": "<div>\n<style scoped>\n    .dataframe tbody tr th:only-of-type {\n        vertical-align: middle;\n    }\n\n    .dataframe tbody tr th {\n        vertical-align: top;\n    }\n\n    .dataframe thead th {\n        text-align: right;\n    }\n</style>\n<table border=\"1\" class=\"dataframe\">\n  <thead>\n    <tr style=\"text-align: right;\">\n      <th></th>\n      <th>Agency</th>\n      <th>count</th>\n    </tr>\n  </thead>\n  <tbody>\n    <tr>\n      <th>0</th>\n      <td>NYPD</td>\n      <td>850077</td>\n    </tr>\n    <tr>\n      <th>1</th>\n      <td>HPD</td>\n      <td>603043</td>\n    </tr>\n    <tr>\n      <th>2</th>\n      <td>DSNY</td>\n      <td>420165</td>\n    </tr>\n    <tr>\n      <th>3</th>\n      <td>DOT</td>\n      <td>298879</td>\n    </tr>\n    <tr>\n      <th>4</th>\n      <td>DEP</td>\n      <td>207280</td>\n    </tr>\n    <tr>\n      <th>5</th>\n      <td>DOB</td>\n      <td>149656</td>\n    </tr>\n    <tr>\n      <th>6</th>\n      <td>DPR</td>\n      <td>119970</td>\n    </tr>\n    <tr>\n      <th>7</th>\n      <td>DOHMH</td>\n      <td>72253</td>\n    </tr>\n    <tr>\n      <th>8</th>\n      <td>DOF</td>\n      <td>41436</td>\n    </tr>\n    <tr>\n      <th>9</th>\n      <td>TLC</td>\n      <td>35730</td>\n    </tr>\n    <tr>\n      <th>10</th>\n      <td>DHS</td>\n      <td>20991</td>\n    </tr>\n    <tr>\n      <th>11</th>\n      <td>DCA</td>\n      <td>17437</td>\n    </tr>\n    <tr>\n      <th>12</th>\n      <td>HRA</td>\n      <td>9189</td>\n    </tr>\n    <tr>\n      <th>13</th>\n      <td>DFTA</td>\n      <td>6681</td>\n    </tr>\n    <tr>\n      <th>14</th>\n      <td>DOE</td>\n      <td>2372</td>\n    </tr>\n  </tbody>\n</table>\n</div>"
     },
     "metadata": {},
     "execution_count": 52
    }
   ],
   "source": [
    "df_cleaned.groupby('Agency').size().nlargest(15).reset_index(name='count')"
   ]
  },
  {
   "cell_type": "markdown",
   "metadata": {
    "colab_type": "text",
    "id": "S6ERw200iseN"
   },
   "source": [
    "What is the most frequent request per agency?"
   ]
  },
  {
   "cell_type": "code",
   "execution_count": 54,
   "metadata": {
    "colab": {
     "base_uri": "https://localhost:8080/",
     "height": 855
    },
    "colab_type": "code",
    "id": "_3o0pW8Xixt0",
    "outputId": "d6e82795-7abb-4c71-b712-58b26adb55dd"
   },
   "outputs": [
    {
     "output_type": "execute_result",
     "data": {
      "text/plain": "    Agency                       Complaint Type  count\n0      ACS                                Forms    364\n1     COIB                                Forms      7\n2      DCA                   Consumer Complaint  16385\n4     DCAS                             Comments     68\n6      DCP                   Research Questions     22\n18     DEP                         Water System  74139\n26    DFTA          Housing - Low Income Senior   4375\n30     DHS           Homeless Person Assistance  20991\n45     DOB  Investigations and Discipline (IAD)    841\n55     DOE                   School Maintenance   2372\n78     DOF            Taxpayer Advocate Inquiry    140\n103  DOHMH                               Rodent  35460\n114  DOITT                              LinkNYC    207\n130    DOT           Municipal Parking Facility     52\n150    DPR              Violation of Park Rules   2876\n172   DSNY                           Vacant Lot   1870\n173    DVS                                Forms      2\n174    EDC                   Noise - Helicopter   1634\n177   FDNY                            Rangehood      5\n189    HPD                     Outside Building      6\n198    HRA             Benefit Card Replacement   9189\n199  NYCEM               OEM Literature Request    131\n215   NYPD                         Noise - Park   4651\n225    TAT                             Question      6\n227    TAX                             Question    213\n228    TLC            Dispatched Taxi Complaint     18",
      "text/html": "<div>\n<style scoped>\n    .dataframe tbody tr th:only-of-type {\n        vertical-align: middle;\n    }\n\n    .dataframe tbody tr th {\n        vertical-align: top;\n    }\n\n    .dataframe thead th {\n        text-align: right;\n    }\n</style>\n<table border=\"1\" class=\"dataframe\">\n  <thead>\n    <tr style=\"text-align: right;\">\n      <th></th>\n      <th>Agency</th>\n      <th>Complaint Type</th>\n      <th>count</th>\n    </tr>\n  </thead>\n  <tbody>\n    <tr>\n      <th>0</th>\n      <td>ACS</td>\n      <td>Forms</td>\n      <td>364</td>\n    </tr>\n    <tr>\n      <th>1</th>\n      <td>COIB</td>\n      <td>Forms</td>\n      <td>7</td>\n    </tr>\n    <tr>\n      <th>2</th>\n      <td>DCA</td>\n      <td>Consumer Complaint</td>\n      <td>16385</td>\n    </tr>\n    <tr>\n      <th>4</th>\n      <td>DCAS</td>\n      <td>Comments</td>\n      <td>68</td>\n    </tr>\n    <tr>\n      <th>6</th>\n      <td>DCP</td>\n      <td>Research Questions</td>\n      <td>22</td>\n    </tr>\n    <tr>\n      <th>18</th>\n      <td>DEP</td>\n      <td>Water System</td>\n      <td>74139</td>\n    </tr>\n    <tr>\n      <th>26</th>\n      <td>DFTA</td>\n      <td>Housing - Low Income Senior</td>\n      <td>4375</td>\n    </tr>\n    <tr>\n      <th>30</th>\n      <td>DHS</td>\n      <td>Homeless Person Assistance</td>\n      <td>20991</td>\n    </tr>\n    <tr>\n      <th>45</th>\n      <td>DOB</td>\n      <td>Investigations and Discipline (IAD)</td>\n      <td>841</td>\n    </tr>\n    <tr>\n      <th>55</th>\n      <td>DOE</td>\n      <td>School Maintenance</td>\n      <td>2372</td>\n    </tr>\n    <tr>\n      <th>78</th>\n      <td>DOF</td>\n      <td>Taxpayer Advocate Inquiry</td>\n      <td>140</td>\n    </tr>\n    <tr>\n      <th>103</th>\n      <td>DOHMH</td>\n      <td>Rodent</td>\n      <td>35460</td>\n    </tr>\n    <tr>\n      <th>114</th>\n      <td>DOITT</td>\n      <td>LinkNYC</td>\n      <td>207</td>\n    </tr>\n    <tr>\n      <th>130</th>\n      <td>DOT</td>\n      <td>Municipal Parking Facility</td>\n      <td>52</td>\n    </tr>\n    <tr>\n      <th>150</th>\n      <td>DPR</td>\n      <td>Violation of Park Rules</td>\n      <td>2876</td>\n    </tr>\n    <tr>\n      <th>172</th>\n      <td>DSNY</td>\n      <td>Vacant Lot</td>\n      <td>1870</td>\n    </tr>\n    <tr>\n      <th>173</th>\n      <td>DVS</td>\n      <td>Forms</td>\n      <td>2</td>\n    </tr>\n    <tr>\n      <th>174</th>\n      <td>EDC</td>\n      <td>Noise - Helicopter</td>\n      <td>1634</td>\n    </tr>\n    <tr>\n      <th>177</th>\n      <td>FDNY</td>\n      <td>Rangehood</td>\n      <td>5</td>\n    </tr>\n    <tr>\n      <th>189</th>\n      <td>HPD</td>\n      <td>Outside Building</td>\n      <td>6</td>\n    </tr>\n    <tr>\n      <th>198</th>\n      <td>HRA</td>\n      <td>Benefit Card Replacement</td>\n      <td>9189</td>\n    </tr>\n    <tr>\n      <th>199</th>\n      <td>NYCEM</td>\n      <td>OEM Literature Request</td>\n      <td>131</td>\n    </tr>\n    <tr>\n      <th>215</th>\n      <td>NYPD</td>\n      <td>Noise - Park</td>\n      <td>4651</td>\n    </tr>\n    <tr>\n      <th>225</th>\n      <td>TAT</td>\n      <td>Question</td>\n      <td>6</td>\n    </tr>\n    <tr>\n      <th>227</th>\n      <td>TAX</td>\n      <td>Question</td>\n      <td>213</td>\n    </tr>\n    <tr>\n      <th>228</th>\n      <td>TLC</td>\n      <td>Dispatched Taxi Complaint</td>\n      <td>18</td>\n    </tr>\n  </tbody>\n</table>\n</div>"
     },
     "metadata": {},
     "execution_count": 54
    }
   ],
   "source": [
    "# first create a dataframe that contains the count of complaints per agency per comaplaint typw\n",
    "agency_counts = df_cleaned.groupby(['Agency', 'Complaint Type']).size().reset_index(name='count')\n",
    "\n",
    "# use \"drop_duplicates\" function to keep the row with the highest value per agency\n",
    "agency_counts.sort_values('Agency').drop_duplicates('Agency')"
   ]
  },
  {
   "cell_type": "markdown",
   "metadata": {
    "colab_type": "text",
    "id": "GRbM6IrdFG2z"
   },
   "source": [
    "## Saving our cleaned dataframe as a csv"
   ]
  },
  {
   "cell_type": "code",
   "execution_count": 45,
   "metadata": {
    "colab": {},
    "colab_type": "code",
    "id": "lGNpmZ-JFLXe"
   },
   "outputs": [],
   "source": [
    "df_cleaned.to_csv('cleaned_311_data.csv')"
   ]
  },
  {
   "cell_type": "markdown",
   "metadata": {
    "colab_type": "text",
    "id": "ddj8VVZRixCn"
   },
   "source": [
    "# HOMEWORK 1\n",
    "\n",
    "[View](https://colab.research.google.com/github/afeld/python-public-policy/blob/master/hw_1.ipynb)"
   ]
  }
 ],
 "metadata": {
  "colab": {
   "collapsed_sections": [
    "SA9q8DQPL6oZ",
    "CRAqTQ2rbXAA"
   ],
   "include_colab_link": true,
   "name": "lecture_1.ipynb",
   "provenance": []
  },
  "kernelspec": {
   "display_name": "Python 3",
   "language": "python",
   "name": "python3"
  },
  "language_info": {
   "codemirror_mode": {
    "name": "ipython",
    "version": 3
   },
   "file_extension": ".py",
   "mimetype": "text/x-python",
   "name": "python",
   "nbconvert_exporter": "python",
   "pygments_lexer": "ipython3",
   "version": "3.8.0-final"
  }
 },
 "nbformat": 4,
 "nbformat_minor": 4
}