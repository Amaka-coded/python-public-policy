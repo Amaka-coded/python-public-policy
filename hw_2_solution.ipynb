{
 "cells": [
  {
   "cell_type": "markdown",
   "metadata": {
    "colab_type": "text",
    "id": "view-in-github"
   },
   "source": [
    "<a href=\"https://colab.research.google.com/github/afeld/nyu-python-public-policy/blob/master/hw_2_solution.ipynb\" target=\"_parent\"><img src=\"https://colab.research.google.com/assets/colab-badge.svg\" alt=\"Open In Colab\"/></a>"
   ]
  },
  {
   "cell_type": "markdown",
   "metadata": {
    "colab_type": "text",
    "id": "Omm4n3FmPHlF"
   },
   "source": [
    "# **NYU Wagner - Python Coding for Public Policy**\n",
    "# Solutions to HW 3: Using keywords to categorize 311 requests"
   ]
  },
  {
   "cell_type": "markdown",
   "metadata": {
    "colab_type": "text",
    "id": "9rvnMzjSMK36"
   },
   "source": [
    "## Start by importing necessary packages"
   ]
  },
  {
   "cell_type": "code",
   "execution_count": null,
   "metadata": {
    "colab": {},
    "colab_type": "code",
    "id": "Q4l2QosJLzP6"
   },
   "outputs": [],
   "source": [
    "import pandas as pd\n",
    "from google.colab import drive"
   ]
  },
  {
   "cell_type": "code",
   "execution_count": null,
   "metadata": {
    "colab": {},
    "colab_type": "code",
    "id": "R4rtHV4Yu4jW"
   },
   "outputs": [],
   "source": [
    "# You can use pd.set_option() to make sure you see all the rows and columns in your dataframe\n",
    "pd.set_option('display.max_columns', None)  # or 1000\n",
    "pd.set_option('display.max_rows', None)  # or 1000"
   ]
  },
  {
   "cell_type": "markdown",
   "metadata": {
    "colab_type": "text",
    "id": "R1G04BmMMFJb"
   },
   "source": [
    "## Read and save our cleaned 311 Service Requests dataset as a pandas dataframe named \"df\""
   ]
  },
  {
   "cell_type": "code",
   "execution_count": null,
   "metadata": {
    "colab": {
     "base_uri": "https://localhost:8080/",
     "height": 122
    },
    "colab_type": "code",
    "id": "hZ1TxGrKMXtX",
    "outputId": "b47a7199-d4d2-45b6-9032-0983cc3f33cf"
   },
   "outputs": [
    {
     "name": "stdout",
     "output_type": "stream",
     "text": [
      "Go to this URL in a browser: https://accounts.google.com/o/oauth2/auth?client_id=947318989803-6bn6qk8qdgf4n4g3pfee6491hc0brc4i.apps.googleusercontent.com&redirect_uri=urn%3aietf%3awg%3aoauth%3a2.0%3aoob&response_type=code&scope=email%20https%3a%2f%2fwww.googleapis.com%2fauth%2fdocs.test%20https%3a%2f%2fwww.googleapis.com%2fauth%2fdrive%20https%3a%2f%2fwww.googleapis.com%2fauth%2fdrive.photos.readonly%20https%3a%2f%2fwww.googleapis.com%2fauth%2fpeopleapi.readonly\n",
      "\n",
      "Enter your authorization code:\n",
      "··········\n",
      "Mounted at /content/drive\n"
     ]
    }
   ],
   "source": [
    "drive.mount('/content/drive')\n",
    "# follow the link it generates, choose your account, and then paste in the authorization code it provides"
   ]
  },
  {
   "cell_type": "code",
   "execution_count": null,
   "metadata": {
    "colab": {},
    "colab_type": "code",
    "id": "iQgE8qFAMbiF"
   },
   "outputs": [],
   "source": [
    "df = pd.read_csv('/content/drive/My Drive/Data for Python/cleaned_311_data_hw2.csv')"
   ]
  },
  {
   "cell_type": "markdown",
   "metadata": {
    "colab_type": "text",
    "id": "LvGH8N9CLcj4"
   },
   "source": [
    "## **Problem Statement:** \n",
    "When you read through the `descriptor` column in the 311 data, you will see that complaints related to graffiti are actually scattered throughout multiple `complaint_type` categories. We want to identify all complaints related to graffiti and see which community districts have the most instances of graffiti."
   ]
  },
  {
   "cell_type": "markdown",
   "metadata": {
    "colab_type": "text",
    "id": "4F_eun4oYohz"
   },
   "source": [
    "**Step 1**. Create a function that checks each row in the 311 dataframe to see if the word \"graffiti\" is present in either the `complaint_type` value or `descriptor` value. Both columns may contain the word, so you should check both. If the word \"graffiti\" is found, the function should return the boolean value True. If \"graffiti\" is not found, the function should return the boolean value False."
   ]
  },
  {
   "cell_type": "code",
   "execution_count": null,
   "metadata": {
    "colab": {},
    "colab_type": "code",
    "id": "iojpAbiZXOwI"
   },
   "outputs": [],
   "source": [
    "def flag_graffiti(row):\n",
    "  if 'graffiti' in row.complaint_type.lower():\n",
    "    return True\n",
    "  elif pd.notnull(row.descriptor):\n",
    "    if 'graffiti' in row.descriptor.lower():\n",
    "      return True\n",
    "    else:\n",
    "      return False\n",
    "  else:\n",
    "    return False"
   ]
  },
  {
   "cell_type": "markdown",
   "metadata": {
    "colab_type": "text",
    "id": "RQaRq__M-tR9"
   },
   "source": [
    "**Step 2**. Apply the function to the 311 dataframe and create a new column called `graffiti_flag` that captures the output from the function."
   ]
  },
  {
   "cell_type": "code",
   "execution_count": null,
   "metadata": {
    "colab": {},
    "colab_type": "code",
    "id": "Z3uJFYQqVsR2"
   },
   "outputs": [],
   "source": [
    "df['graffiti_flag'] = df.apply(flag_graffiti, axis=1)"
   ]
  },
  {
   "cell_type": "code",
   "execution_count": null,
   "metadata": {
    "colab": {
     "base_uri": "https://localhost:8080/",
     "height": 411
    },
    "colab_type": "code",
    "id": "kkjJfTsa_oSA",
    "outputId": "ff4fd92a-3793-42ca-c131-173e5c7f3030"
   },
   "outputs": [
    {
     "data": {
      "text/html": [
       "<div>\n",
       "<style scoped>\n",
       "    .dataframe tbody tr th:only-of-type {\n",
       "        vertical-align: middle;\n",
       "    }\n",
       "\n",
       "    .dataframe tbody tr th {\n",
       "        vertical-align: top;\n",
       "    }\n",
       "\n",
       "    .dataframe thead th {\n",
       "        text-align: right;\n",
       "    }\n",
       "</style>\n",
       "<table border=\"1\" class=\"dataframe\">\n",
       "  <thead>\n",
       "    <tr style=\"text-align: right;\">\n",
       "      <th></th>\n",
       "      <th>Unnamed: 0</th>\n",
       "      <th>Unnamed: 0.1</th>\n",
       "      <th>unique_key</th>\n",
       "      <th>created_date</th>\n",
       "      <th>closed_date</th>\n",
       "      <th>agency</th>\n",
       "      <th>agency_name</th>\n",
       "      <th>complaint_type</th>\n",
       "      <th>descriptor</th>\n",
       "      <th>location_type</th>\n",
       "      <th>incident_zip</th>\n",
       "      <th>incident_address</th>\n",
       "      <th>street_name</th>\n",
       "      <th>cross_street_1</th>\n",
       "      <th>cross_street_2</th>\n",
       "      <th>intersection_street_1</th>\n",
       "      <th>intersection_street_2</th>\n",
       "      <th>address_type</th>\n",
       "      <th>city</th>\n",
       "      <th>landmark</th>\n",
       "      <th>facility_type</th>\n",
       "      <th>status</th>\n",
       "      <th>due_date</th>\n",
       "      <th>resolution_description</th>\n",
       "      <th>resolution_action_updated_date</th>\n",
       "      <th>community_board</th>\n",
       "      <th>bbl</th>\n",
       "      <th>borough</th>\n",
       "      <th>x_coordinate_(state_plane)</th>\n",
       "      <th>y_coordinate_(state_plane)</th>\n",
       "      <th>open_data_channel_type</th>\n",
       "      <th>park_facility_name</th>\n",
       "      <th>park_borough</th>\n",
       "      <th>vehicle_type</th>\n",
       "      <th>taxi_company_borough</th>\n",
       "      <th>taxi_pick_up_location</th>\n",
       "      <th>bridge_highway_name</th>\n",
       "      <th>bridge_highway_direction</th>\n",
       "      <th>road_ramp</th>\n",
       "      <th>bridge_highway_segment</th>\n",
       "      <th>latitude</th>\n",
       "      <th>longitude</th>\n",
       "      <th>location</th>\n",
       "      <th>grafitti_flag</th>\n",
       "      <th>graffiti_flag</th>\n",
       "    </tr>\n",
       "  </thead>\n",
       "  <tbody>\n",
       "    <tr>\n",
       "      <th>0</th>\n",
       "      <td>238</td>\n",
       "      <td>238</td>\n",
       "      <td>39887282</td>\n",
       "      <td>08/01/2018 01:42:01 AM</td>\n",
       "      <td>08/14/2018 02:42:12 PM</td>\n",
       "      <td>DPR</td>\n",
       "      <td>Department of Parks and Recreation</td>\n",
       "      <td>Maintenance or Facility</td>\n",
       "      <td>Structure - Outdoors</td>\n",
       "      <td>Park</td>\n",
       "      <td>10003.0</td>\n",
       "      <td>NaN</td>\n",
       "      <td>NaN</td>\n",
       "      <td>NaN</td>\n",
       "      <td>NaN</td>\n",
       "      <td>NaN</td>\n",
       "      <td>NaN</td>\n",
       "      <td>NaN</td>\n",
       "      <td>NEW YORK</td>\n",
       "      <td>NaN</td>\n",
       "      <td>NaN</td>\n",
       "      <td>Closed</td>\n",
       "      <td>08/15/2018 01:42:01 AM</td>\n",
       "      <td>The Department of Parks and Recreation has com...</td>\n",
       "      <td>08/14/2018 02:42:12 PM</td>\n",
       "      <td>0 Unspecified</td>\n",
       "      <td>NaN</td>\n",
       "      <td>Unspecified</td>\n",
       "      <td>NaN</td>\n",
       "      <td>NaN</td>\n",
       "      <td>PHONE</td>\n",
       "      <td>First Park</td>\n",
       "      <td>Unspecified</td>\n",
       "      <td>NaN</td>\n",
       "      <td>NaN</td>\n",
       "      <td>NaN</td>\n",
       "      <td>NaN</td>\n",
       "      <td>NaN</td>\n",
       "      <td>NaN</td>\n",
       "      <td>NaN</td>\n",
       "      <td>NaN</td>\n",
       "      <td>NaN</td>\n",
       "      <td>NaN</td>\n",
       "      <td>False</td>\n",
       "      <td>False</td>\n",
       "    </tr>\n",
       "    <tr>\n",
       "      <th>1</th>\n",
       "      <td>353</td>\n",
       "      <td>353</td>\n",
       "      <td>39889407</td>\n",
       "      <td>08/01/2018 03:20:07 AM</td>\n",
       "      <td>08/23/2018 11:15:00 AM</td>\n",
       "      <td>DPR</td>\n",
       "      <td>Department of Parks and Recreation</td>\n",
       "      <td>Maintenance or Facility</td>\n",
       "      <td>Garbage or Litter</td>\n",
       "      <td>Park</td>\n",
       "      <td>11434.0</td>\n",
       "      <td>NaN</td>\n",
       "      <td>NaN</td>\n",
       "      <td>NaN</td>\n",
       "      <td>NaN</td>\n",
       "      <td>BAISLEY BOULEVARD</td>\n",
       "      <td>MERRICK BOULEVARD</td>\n",
       "      <td>INTERSECTION</td>\n",
       "      <td>JAMAICA</td>\n",
       "      <td>NaN</td>\n",
       "      <td>NaN</td>\n",
       "      <td>Closed</td>\n",
       "      <td>08/04/2018 03:20:07 AM</td>\n",
       "      <td>The Service Request submitted did not have suf...</td>\n",
       "      <td>08/23/2018 11:15:00 AM</td>\n",
       "      <td>12 QUEENS</td>\n",
       "      <td>NaN</td>\n",
       "      <td>QUEENS</td>\n",
       "      <td>1048111.0</td>\n",
       "      <td>188479.0</td>\n",
       "      <td>PHONE</td>\n",
       "      <td>Unspecified</td>\n",
       "      <td>QUEENS</td>\n",
       "      <td>NaN</td>\n",
       "      <td>NaN</td>\n",
       "      <td>NaN</td>\n",
       "      <td>NaN</td>\n",
       "      <td>NaN</td>\n",
       "      <td>NaN</td>\n",
       "      <td>NaN</td>\n",
       "      <td>40.683778</td>\n",
       "      <td>-73.769744</td>\n",
       "      <td>(40.68377771085733, -73.76974413109498)</td>\n",
       "      <td>False</td>\n",
       "      <td>False</td>\n",
       "    </tr>\n",
       "    <tr>\n",
       "      <th>2</th>\n",
       "      <td>403</td>\n",
       "      <td>403</td>\n",
       "      <td>39893067</td>\n",
       "      <td>08/01/2018 04:19:15 AM</td>\n",
       "      <td>08/02/2018 08:19:55 AM</td>\n",
       "      <td>DPR</td>\n",
       "      <td>Department of Parks and Recreation</td>\n",
       "      <td>Maintenance or Facility</td>\n",
       "      <td>Hours of Operation</td>\n",
       "      <td>Park</td>\n",
       "      <td>11206.0</td>\n",
       "      <td>NaN</td>\n",
       "      <td>NaN</td>\n",
       "      <td>NaN</td>\n",
       "      <td>NaN</td>\n",
       "      <td>NaN</td>\n",
       "      <td>NaN</td>\n",
       "      <td>NaN</td>\n",
       "      <td>BROOKLYN</td>\n",
       "      <td>NaN</td>\n",
       "      <td>NaN</td>\n",
       "      <td>Closed</td>\n",
       "      <td>08/04/2018 04:19:15 AM</td>\n",
       "      <td>The Department of Parks and Recreation has com...</td>\n",
       "      <td>08/02/2018 08:19:55 AM</td>\n",
       "      <td>01 BROOKLYN</td>\n",
       "      <td>NaN</td>\n",
       "      <td>BROOKLYN</td>\n",
       "      <td>NaN</td>\n",
       "      <td>NaN</td>\n",
       "      <td>MOBILE</td>\n",
       "      <td>Ten Eyck Plaza</td>\n",
       "      <td>BROOKLYN</td>\n",
       "      <td>NaN</td>\n",
       "      <td>NaN</td>\n",
       "      <td>NaN</td>\n",
       "      <td>NaN</td>\n",
       "      <td>NaN</td>\n",
       "      <td>NaN</td>\n",
       "      <td>NaN</td>\n",
       "      <td>NaN</td>\n",
       "      <td>NaN</td>\n",
       "      <td>NaN</td>\n",
       "      <td>False</td>\n",
       "      <td>False</td>\n",
       "    </tr>\n",
       "    <tr>\n",
       "      <th>3</th>\n",
       "      <td>655</td>\n",
       "      <td>655</td>\n",
       "      <td>39890578</td>\n",
       "      <td>08/01/2018 07:32:33 AM</td>\n",
       "      <td>08/16/2018 10:28:38 AM</td>\n",
       "      <td>DPR</td>\n",
       "      <td>Department of Parks and Recreation</td>\n",
       "      <td>Maintenance or Facility</td>\n",
       "      <td>Garbage or Litter</td>\n",
       "      <td>Park</td>\n",
       "      <td>11691.0</td>\n",
       "      <td>NaN</td>\n",
       "      <td>NaN</td>\n",
       "      <td>NaN</td>\n",
       "      <td>NaN</td>\n",
       "      <td>NaN</td>\n",
       "      <td>NaN</td>\n",
       "      <td>NaN</td>\n",
       "      <td>FAR ROCKAWAY</td>\n",
       "      <td>NaN</td>\n",
       "      <td>NaN</td>\n",
       "      <td>Closed</td>\n",
       "      <td>08/04/2018 07:32:33 AM</td>\n",
       "      <td>The Department of Parks and Recreation has com...</td>\n",
       "      <td>08/16/2018 10:28:38 AM</td>\n",
       "      <td>14 QUEENS</td>\n",
       "      <td>NaN</td>\n",
       "      <td>QUEENS</td>\n",
       "      <td>NaN</td>\n",
       "      <td>NaN</td>\n",
       "      <td>PHONE</td>\n",
       "      <td>Westbourne Playground</td>\n",
       "      <td>QUEENS</td>\n",
       "      <td>NaN</td>\n",
       "      <td>NaN</td>\n",
       "      <td>NaN</td>\n",
       "      <td>NaN</td>\n",
       "      <td>NaN</td>\n",
       "      <td>NaN</td>\n",
       "      <td>NaN</td>\n",
       "      <td>NaN</td>\n",
       "      <td>NaN</td>\n",
       "      <td>NaN</td>\n",
       "      <td>False</td>\n",
       "      <td>False</td>\n",
       "    </tr>\n",
       "    <tr>\n",
       "      <th>4</th>\n",
       "      <td>658</td>\n",
       "      <td>658</td>\n",
       "      <td>39896325</td>\n",
       "      <td>08/01/2018 07:33:12 AM</td>\n",
       "      <td>09/04/2018 05:38:02 PM</td>\n",
       "      <td>DPR</td>\n",
       "      <td>Department of Parks and Recreation</td>\n",
       "      <td>Maintenance or Facility</td>\n",
       "      <td>Garbage or Litter</td>\n",
       "      <td>Park</td>\n",
       "      <td>11355.0</td>\n",
       "      <td>NaN</td>\n",
       "      <td>NaN</td>\n",
       "      <td>NaN</td>\n",
       "      <td>NaN</td>\n",
       "      <td>NaN</td>\n",
       "      <td>NaN</td>\n",
       "      <td>NaN</td>\n",
       "      <td>FLUSHING</td>\n",
       "      <td>NaN</td>\n",
       "      <td>NaN</td>\n",
       "      <td>Closed</td>\n",
       "      <td>08/04/2018 07:33:12 AM</td>\n",
       "      <td>The condition was inspected and it was determi...</td>\n",
       "      <td>09/04/2018 05:38:02 PM</td>\n",
       "      <td>07 QUEENS</td>\n",
       "      <td>NaN</td>\n",
       "      <td>QUEENS</td>\n",
       "      <td>NaN</td>\n",
       "      <td>NaN</td>\n",
       "      <td>MOBILE</td>\n",
       "      <td>Maple Playground</td>\n",
       "      <td>QUEENS</td>\n",
       "      <td>NaN</td>\n",
       "      <td>NaN</td>\n",
       "      <td>NaN</td>\n",
       "      <td>NaN</td>\n",
       "      <td>NaN</td>\n",
       "      <td>NaN</td>\n",
       "      <td>NaN</td>\n",
       "      <td>NaN</td>\n",
       "      <td>NaN</td>\n",
       "      <td>NaN</td>\n",
       "      <td>False</td>\n",
       "      <td>False</td>\n",
       "    </tr>\n",
       "  </tbody>\n",
       "</table>\n",
       "</div>"
      ],
      "text/plain": [
       "   Unnamed: 0  Unnamed: 0.1  unique_key            created_date  \\\n",
       "0         238           238    39887282  08/01/2018 01:42:01 AM   \n",
       "1         353           353    39889407  08/01/2018 03:20:07 AM   \n",
       "2         403           403    39893067  08/01/2018 04:19:15 AM   \n",
       "3         655           655    39890578  08/01/2018 07:32:33 AM   \n",
       "4         658           658    39896325  08/01/2018 07:33:12 AM   \n",
       "\n",
       "              closed_date agency                         agency_name  \\\n",
       "0  08/14/2018 02:42:12 PM    DPR  Department of Parks and Recreation   \n",
       "1  08/23/2018 11:15:00 AM    DPR  Department of Parks and Recreation   \n",
       "2  08/02/2018 08:19:55 AM    DPR  Department of Parks and Recreation   \n",
       "3  08/16/2018 10:28:38 AM    DPR  Department of Parks and Recreation   \n",
       "4  09/04/2018 05:38:02 PM    DPR  Department of Parks and Recreation   \n",
       "\n",
       "            complaint_type            descriptor location_type  incident_zip  \\\n",
       "0  Maintenance or Facility  Structure - Outdoors          Park       10003.0   \n",
       "1  Maintenance or Facility     Garbage or Litter          Park       11434.0   \n",
       "2  Maintenance or Facility    Hours of Operation          Park       11206.0   \n",
       "3  Maintenance or Facility     Garbage or Litter          Park       11691.0   \n",
       "4  Maintenance or Facility     Garbage or Litter          Park       11355.0   \n",
       "\n",
       "  incident_address street_name cross_street_1 cross_street_2  \\\n",
       "0              NaN         NaN            NaN            NaN   \n",
       "1              NaN         NaN            NaN            NaN   \n",
       "2              NaN         NaN            NaN            NaN   \n",
       "3              NaN         NaN            NaN            NaN   \n",
       "4              NaN         NaN            NaN            NaN   \n",
       "\n",
       "  intersection_street_1 intersection_street_2  address_type          city  \\\n",
       "0                   NaN                   NaN           NaN      NEW YORK   \n",
       "1     BAISLEY BOULEVARD     MERRICK BOULEVARD  INTERSECTION       JAMAICA   \n",
       "2                   NaN                   NaN           NaN      BROOKLYN   \n",
       "3                   NaN                   NaN           NaN  FAR ROCKAWAY   \n",
       "4                   NaN                   NaN           NaN      FLUSHING   \n",
       "\n",
       "  landmark facility_type  status                due_date  \\\n",
       "0      NaN           NaN  Closed  08/15/2018 01:42:01 AM   \n",
       "1      NaN           NaN  Closed  08/04/2018 03:20:07 AM   \n",
       "2      NaN           NaN  Closed  08/04/2018 04:19:15 AM   \n",
       "3      NaN           NaN  Closed  08/04/2018 07:32:33 AM   \n",
       "4      NaN           NaN  Closed  08/04/2018 07:33:12 AM   \n",
       "\n",
       "                              resolution_description  \\\n",
       "0  The Department of Parks and Recreation has com...   \n",
       "1  The Service Request submitted did not have suf...   \n",
       "2  The Department of Parks and Recreation has com...   \n",
       "3  The Department of Parks and Recreation has com...   \n",
       "4  The condition was inspected and it was determi...   \n",
       "\n",
       "  resolution_action_updated_date community_board  bbl      borough  \\\n",
       "0         08/14/2018 02:42:12 PM   0 Unspecified  NaN  Unspecified   \n",
       "1         08/23/2018 11:15:00 AM       12 QUEENS  NaN       QUEENS   \n",
       "2         08/02/2018 08:19:55 AM     01 BROOKLYN  NaN     BROOKLYN   \n",
       "3         08/16/2018 10:28:38 AM       14 QUEENS  NaN       QUEENS   \n",
       "4         09/04/2018 05:38:02 PM       07 QUEENS  NaN       QUEENS   \n",
       "\n",
       "   x_coordinate_(state_plane)  y_coordinate_(state_plane)  \\\n",
       "0                         NaN                         NaN   \n",
       "1                   1048111.0                    188479.0   \n",
       "2                         NaN                         NaN   \n",
       "3                         NaN                         NaN   \n",
       "4                         NaN                         NaN   \n",
       "\n",
       "  open_data_channel_type     park_facility_name park_borough  vehicle_type  \\\n",
       "0                  PHONE             First Park  Unspecified           NaN   \n",
       "1                  PHONE            Unspecified       QUEENS           NaN   \n",
       "2                 MOBILE         Ten Eyck Plaza     BROOKLYN           NaN   \n",
       "3                  PHONE  Westbourne Playground       QUEENS           NaN   \n",
       "4                 MOBILE       Maple Playground       QUEENS           NaN   \n",
       "\n",
       "   taxi_company_borough  taxi_pick_up_location bridge_highway_name  \\\n",
       "0                   NaN                    NaN                 NaN   \n",
       "1                   NaN                    NaN                 NaN   \n",
       "2                   NaN                    NaN                 NaN   \n",
       "3                   NaN                    NaN                 NaN   \n",
       "4                   NaN                    NaN                 NaN   \n",
       "\n",
       "  bridge_highway_direction road_ramp bridge_highway_segment   latitude  \\\n",
       "0                      NaN       NaN                    NaN        NaN   \n",
       "1                      NaN       NaN                    NaN  40.683778   \n",
       "2                      NaN       NaN                    NaN        NaN   \n",
       "3                      NaN       NaN                    NaN        NaN   \n",
       "4                      NaN       NaN                    NaN        NaN   \n",
       "\n",
       "   longitude                                 location  grafitti_flag  \\\n",
       "0        NaN                                      NaN          False   \n",
       "1 -73.769744  (40.68377771085733, -73.76974413109498)          False   \n",
       "2        NaN                                      NaN          False   \n",
       "3        NaN                                      NaN          False   \n",
       "4        NaN                                      NaN          False   \n",
       "\n",
       "   graffiti_flag  \n",
       "0          False  \n",
       "1          False  \n",
       "2          False  \n",
       "3          False  \n",
       "4          False  "
      ]
     },
     "execution_count": 28,
     "metadata": {
      "tags": []
     },
     "output_type": "execute_result"
    }
   ],
   "source": [
    "df.head()"
   ]
  },
  {
   "cell_type": "code",
   "execution_count": null,
   "metadata": {
    "colab": {
     "base_uri": "https://localhost:8080/",
     "height": 85
    },
    "colab_type": "code",
    "id": "ep5BsO7Sp9jq",
    "outputId": "17115578-6672-48fb-f103-9d2f0386710a"
   },
   "outputs": [
    {
     "data": {
      "text/plain": [
       "graffiti_flag\n",
       "False    38206\n",
       "True     26371\n",
       "dtype: int64"
      ]
     },
     "execution_count": 29,
     "metadata": {
      "tags": []
     },
     "output_type": "execute_result"
    }
   ],
   "source": [
    "df.groupby('graffiti_flag').size()"
   ]
  },
  {
   "cell_type": "code",
   "execution_count": null,
   "metadata": {
    "colab": {
     "base_uri": "https://localhost:8080/",
     "height": 204
    },
    "colab_type": "code",
    "id": "0Py-Bg5csiYO",
    "outputId": "f33c5aec-ec92-4849-a421-cec489a10601"
   },
   "outputs": [
    {
     "data": {
      "text/plain": [
       "complaint_type\n",
       "Bridge Condition                392\n",
       "Broken Parking Meter          14210\n",
       "Bus Stop Shelter Complaint      990\n",
       "Graffiti                      24986\n",
       "Highway Condition              3543\n",
       "Maintenance or Facility       17665\n",
       "Public Payphone Complaint       378\n",
       "Public Toilet                    41\n",
       "School Maintenance             2372\n",
       "dtype: int64"
      ]
     },
     "execution_count": 38,
     "metadata": {
      "tags": []
     },
     "output_type": "execute_result"
    }
   ],
   "source": [
    "df.groupby('complaint_type').size()"
   ]
  },
  {
   "cell_type": "markdown",
   "metadata": {
    "colab_type": "text",
    "id": "Uelo3C7t6olF"
   },
   "source": [
    "**Step 3**. Create another dataframe `df_graffiti` that only contains records where `graffiti_flag` is True"
   ]
  },
  {
   "cell_type": "code",
   "execution_count": null,
   "metadata": {
    "colab": {},
    "colab_type": "code",
    "id": "ICJgM1vYHazi"
   },
   "outputs": [],
   "source": [
    "df_graffiti = df[df['graffiti_flag']]"
   ]
  },
  {
   "cell_type": "code",
   "execution_count": null,
   "metadata": {
    "colab": {
     "base_uri": "https://localhost:8080/",
     "height": 34
    },
    "colab_type": "code",
    "id": "F0xxS_2w_TQS",
    "outputId": "e398cb09-38c5-4cf0-83e4-10bda8b61b3f"
   },
   "outputs": [
    {
     "data": {
      "text/plain": [
       "26371"
      ]
     },
     "execution_count": 36,
     "metadata": {
      "tags": []
     },
     "output_type": "execute_result"
    }
   ],
   "source": [
    "len(df_graffiti)"
   ]
  },
  {
   "cell_type": "markdown",
   "metadata": {
    "colab_type": "text",
    "id": "gYgNn5sf7gg_"
   },
   "source": [
    "**Step 4**. Group your dataframe `df_graffiti` to get the count of requests per `community_board`. Use `.nlargest()` to identify which Community District has the highest count."
   ]
  },
  {
   "cell_type": "code",
   "execution_count": null,
   "metadata": {
    "colab": {
     "base_uri": "https://localhost:8080/",
     "height": 306
    },
    "colab_type": "code",
    "id": "l7naI7WlL06l",
    "outputId": "225ee48f-1b29-4c4d-883c-42601a9c5ad9"
   },
   "outputs": [
    {
     "data": {
      "text/plain": [
       "community_board\n",
       "01 BROOKLYN             1797\n",
       "03 MANHATTAN            1593\n",
       "04 BROOKLYN             1429\n",
       "03 BROOKLYN             1252\n",
       "05 BROOKLYN              962\n",
       "07 BROOKLYN              779\n",
       "Unspecified BRONX        615\n",
       "02 MANHATTAN             598\n",
       "Unspecified BROOKLYN     591\n",
       "01 QUEENS                572\n",
       "0 Unspecified            540\n",
       "12 QUEENS                539\n",
       "12 BROOKLYN              532\n",
       "14 BROOKLYN              532\n",
       "08 BROOKLYN              505\n",
       "dtype: int64"
      ]
     },
     "execution_count": 37,
     "metadata": {
      "tags": []
     },
     "output_type": "execute_result"
    }
   ],
   "source": [
    "df_graffiti.groupby('community_board').size().nlargest(15)"
   ]
  },
  {
   "cell_type": "markdown",
   "metadata": {
    "colab_type": "text",
    "id": "oGbukqi05qrE"
   },
   "source": [
    "Brooklyn 1 has the highest count of graffiti complaints, followed by Manhattan 3."
   ]
  }
 ],
 "metadata": {
  "colab": {
   "collapsed_sections": [],
   "include_colab_link": true,
   "name": "hw_2_solution.ipynb",
   "provenance": []
  },
  "kernelspec": {
   "display_name": "Python 3",
   "language": "python",
   "name": "python3"
  },
  "language_info": {
   "codemirror_mode": {
    "name": "ipython",
    "version": 3
   },
   "file_extension": ".py",
   "mimetype": "text/x-python",
   "name": "python",
   "nbconvert_exporter": "python",
   "pygments_lexer": "ipython3",
   "version": "3.8.0"
  }
 },
 "nbformat": 4,
 "nbformat_minor": 4
}
