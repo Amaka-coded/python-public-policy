{
 "cells": [
  {
   "cell_type": "markdown",
   "metadata": {
    "slideshow": {
     "slide_type": "skip"
    }
   },
   "source": [
    "<a href=\"https://colab.research.google.com/github/afeld/nyu-python-public-policy/blob/master/lecture_0_new.ipynb\" target=\"_parent\"><img src=\"https://colab.research.google.com/assets/colab-badge.svg\" alt=\"Open In Colab\"/></a>\n",
    "\n",
    "To show as slides:\n",
    "\n",
    "```sh\n",
    "jupyter nbconvert lecture_0_new.ipynb --to slides --post serve\n",
    "```"
   ]
  },
  {
   "cell_type": "markdown",
   "metadata": {
    "slideshow": {
     "slide_type": "slide"
    }
   },
   "source": [
    "# **NYU Wagner - Python Coding for Public Policy**\n",
    "\n",
    "Aidan Feldman"
   ]
  },
  {
   "cell_type": "markdown",
   "metadata": {
    "slideshow": {
     "slide_type": "slide"
    }
   },
   "source": [
    "# Class 0: Intro to coding\n",
    "\n",
    "## Welcome!\n",
    "\n",
    "![Elmo waving](https://media.giphy.com/media/LPgFwCQg4HQBvPihcn/source.gif)"
   ]
  },
  {
   "cell_type": "markdown",
   "metadata": {
    "slideshow": {
     "slide_type": "subslide"
    }
   },
   "source": [
    "### Introductions\n",
    "\n",
    "In the Zoom meeting chat, share the following:\n",
    "\n",
    "- Name (what you go by)\n",
    "- What you're studying\n",
    "- Go-to quarantine snack"
   ]
  },
  {
   "cell_type": "markdown",
   "metadata": {
    "slideshow": {
     "slide_type": "subslide"
    }
   },
   "source": [
    "### A bit more about me\n",
    "\n",
    "- Coding since 2005 🖥\n",
    "- Government since 2014 🦅\n",
    "- Also a modern dancer 💃 cyclist 🚲 and baker 🍞\n",
    "- Passionate about open source\n",
    "- Run a meetup called [Hacker Hours](https://hackerhours.org/) for people learning to code"
   ]
  },
  {
   "cell_type": "markdown",
   "metadata": {
    "slideshow": {
     "slide_type": "subslide"
    }
   },
   "source": [
    "### Day jobs\n",
    "\n",
    "- **Current:** Technology Director at [TTS](https://www.gsa.gov/about-us/organization/federal-acquisition-service/technology-transformation-services)\n",
    "- **Past** include:\n",
    "  - [Census xD](https://www.xd.gov/)\n",
    "  - [NYC Planning Labs](https://labs.planning.nyc.gov/)\n",
    "  - GitHub\n",
    "  - [18F](https://18f.gsa.gov)"
   ]
  },
  {
   "cell_type": "markdown",
   "metadata": {
    "slideshow": {
     "slide_type": "slide"
    }
   },
   "source": [
    "### Repository walkthrough\n",
    "\n",
    "- [Homepage](https://github.com/afeld/nyu-python-public-policy)\n",
    "- [Syllabus](https://github.com/afeld/nyu-python-public-policy/blob/master/syllabus.md#readme)"
   ]
  },
  {
   "cell_type": "markdown",
   "metadata": {
    "slideshow": {
     "slide_type": "slide"
    }
   },
   "source": [
    "### Disclaimers\n",
    "\n",
    "- You are not going to be good at coding by the end of this class\n",
    "- I am here to teach you to:\n",
    "  - Understand the power of code\n",
    "  - Not be afraid of code\n",
    "  - Troubleshoot\n",
    "  - Google stuff\n",
    "- Not a statistician\n",
    "- This class came together in two weeks\n",
    "  - Rough around the edges\n",
    "  - Subject to change\n",
    "  - Ask for your patience"
   ]
  },
  {
   "cell_type": "markdown",
   "metadata": {
    "slideshow": {
     "slide_type": "slide"
    }
   },
   "source": [
    "## Spreadsheets vs. programming languages"
   ]
  },
  {
   "cell_type": "markdown",
   "metadata": {
    "slideshow": {
     "slide_type": "subslide"
    }
   },
   "source": [
    "### Why spreadsheets\n",
    "\n",
    "- The easy stuff is easy\n",
    "- Lots of people know how to use them\n",
    "- Mostly just have to point, click, and scroll\n",
    "- Data and logic live together as one"
   ]
  },
  {
   "cell_type": "markdown",
   "metadata": {
    "slideshow": {
     "slide_type": "subslide"
    }
   },
   "source": [
    "### Why programming languages\n",
    "\n",
    "- Data and logic _don't_ live together\n",
    "  - Why might this matter?\n",
    "- More powerful, flexible, and expressive than spreadsheet formulas\n",
    "\n",
    "  - Don't have to cram into a single line\n",
    "\n",
    "    ```\n",
    "    =SUM(INDEX(C3:E9,MATCH(B13,C3:C9,0),MATCH(B14,C3:E3,0)))\n",
    "    ```\n",
    "\n",
    "  - Can have more descriptive data references than `Sheet1!A:A`\n",
    "\n",
    "- Better at working with large data\n",
    "  - Google Sheets and Excel have hard limits at 1-5 million rows, but get slow long before that\n",
    "- Reusable code (packages)\n",
    "- Automation"
   ]
  },
  {
   "cell_type": "markdown",
   "metadata": {
    "slideshow": {
     "slide_type": "subslide"
    }
   },
   "source": [
    "### Side-by-side\\*\n",
    "\n",
    "|                       Task |  Spreadsheets  | Programming languages |\n",
    "| -------------------------: | :------------: | :-------------------: |\n",
    "|           **Loading data** |      Easy      |        Medium         |\n",
    "|           **Viewing data** |      Easy      |        Medium         |\n",
    "|         **Filtering data** |      Easy      |        Medium         |\n",
    "|      **Manipulating data** |     Medium     |        Medium         |\n",
    "|           **Joining data** |      Hard      |        Medium         |\n",
    "| **Complicated transforms** | Impossible\\*\\* |        Medium         |\n",
    "|             **Automation** | Impossible\\*\\* |        Medium         |\n",
    "|        **Making reusable** | Impossible\\*\\* |        Medium         |\n",
    "|         **Large datasets** |   Impossible   |         Hard          |\n",
    "\n",
    "_\\*Ratings are obviously somewhat subjective._\n",
    "\n",
    "_\\*\\*Not including scripting._"
   ]
  },
  {
   "cell_type": "markdown",
   "metadata": {
    "slideshow": {
     "slide_type": "subslide"
    }
   },
   "source": [
    "## Python vs. other languages\n",
    "\n",
    "- Good for general-purpose _and_ data stuff\n",
    "- Widely used in both industry and academia\n",
    "- Relatively easy to learn\n",
    "- Open source\n",
    "\n",
    "![Python logo](https://upload.wikimedia.org/wikipedia/commons/thumb/c/c3/Python-logo-notext.svg/110px-Python-logo-notext.svg.png)"
   ]
  }
 ],
 "metadata": {
  "celltoolbar": "Slideshow",
  "file_extension": ".py",
  "kernelspec": {
   "display_name": "Python 3.8.0 64-bit",
   "language": "python",
   "name": "python38064bite2b734199e274226979ef410f6f20e23"
  },
  "language_info": {
   "codemirror_mode": {
    "name": "ipython",
    "version": 3
   },
   "file_extension": ".py",
   "mimetype": "text/x-python",
   "name": "python",
   "nbconvert_exporter": "python",
   "pygments_lexer": "ipython3",
   "version": "3.8.0"
  },
  "mimetype": "text/x-python",
  "name": "python",
  "npconvert_exporter": "python",
  "pygments_lexer": "ipython3",
  "version": 3
 },
 "nbformat": 4,
 "nbformat_minor": 4
}
