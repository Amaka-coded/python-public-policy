{
 "cells": [
  {
   "cell_type": "markdown",
   "metadata": {
    "colab_type": "text",
    "id": "view-in-github"
   },
   "source": [
    "<a href=\"https://colab.research.google.com/github/afeld/nyu-python-public-policy/blob/master/lecture_4.ipynb\" target=\"_parent\"><img src=\"https://colab.research.google.com/assets/colab-badge.svg\" alt=\"Open In Colab\"/></a>"
   ]
  },
  {
   "cell_type": "markdown",
   "metadata": {
    "colab_type": "text",
    "id": "Omm4n3FmPHlF"
   },
   "source": [
    "# **NYU Wagner - Python Coding for Public Policy**\n",
    "# Class 4: Linear regression and correlation analysis"
   ]
  },
  {
   "cell_type": "markdown",
   "metadata": {
    "colab_type": "text",
    "id": "F5DsWafyMCfG"
   },
   "source": [
    "# LECTURE"
   ]
  },
  {
   "cell_type": "markdown",
   "metadata": {
    "colab_type": "text",
    "id": "9rvnMzjSMK36"
   },
   "source": [
    "## Importing necessary packages"
   ]
  },
  {
   "cell_type": "code",
   "execution_count": null,
   "metadata": {
    "colab": {},
    "colab_type": "code",
    "id": "Q4l2QosJLzP6"
   },
   "outputs": [],
   "source": [
    "import pandas as pd\n",
    "from google.colab import drive\n",
    "import matplotlib.pyplot as plt \n",
    "import numpy as np\n",
    "import statsmodels.api as sm # package for doing statistics"
   ]
  },
  {
   "cell_type": "code",
   "execution_count": null,
   "metadata": {
    "colab": {},
    "colab_type": "code",
    "id": "R4rtHV4Yu4jW"
   },
   "outputs": [],
   "source": [
    "# You can use pd.set_option() to make sure you see all the rows and columns in your dataframe\n",
    "pd.set_option('display.max_columns', None)\n",
    "pd.set_option('display.max_rows', None)"
   ]
  },
  {
   "cell_type": "code",
   "execution_count": null,
   "metadata": {
    "colab": {
     "base_uri": "https://localhost:8080/",
     "height": 122
    },
    "colab_type": "code",
    "id": "hZ1TxGrKMXtX",
    "outputId": "48561d7c-d9b6-4cba-c74e-48beecaff47b"
   },
   "outputs": [
    {
     "name": "stdout",
     "output_type": "stream",
     "text": [
      "Go to this URL in a browser: https://accounts.google.com/o/oauth2/auth?client_id=947318989803-6bn6qk8qdgf4n4g3pfee6491hc0brc4i.apps.googleusercontent.com&redirect_uri=urn%3aietf%3awg%3aoauth%3a2.0%3aoob&response_type=code&scope=email%20https%3a%2f%2fwww.googleapis.com%2fauth%2fdocs.test%20https%3a%2f%2fwww.googleapis.com%2fauth%2fdrive%20https%3a%2f%2fwww.googleapis.com%2fauth%2fdrive.photos.readonly%20https%3a%2f%2fwww.googleapis.com%2fauth%2fpeopleapi.readonly\n",
      "\n",
      "Enter your authorization code:\n",
      "··········\n",
      "Mounted at /content/drive\n"
     ]
    }
   ],
   "source": [
    "drive.mount('/content/drive')\n",
    "# follow the link it generates, choose your account, and then paste in the authorization code it provides"
   ]
  },
  {
   "cell_type": "markdown",
   "metadata": {
    "colab_type": "text",
    "id": "QPRlV8xwtEx1"
   },
   "source": [
    "## Data preparation"
   ]
  },
  {
   "cell_type": "markdown",
   "metadata": {
    "colab_type": "text",
    "id": "239zBVSZLFLW"
   },
   "source": [
    "### Load datasets we'll use:\n",
    "- 311 requests\n",
    "- community district population"
   ]
  },
  {
   "cell_type": "code",
   "execution_count": null,
   "metadata": {
    "colab": {
     "base_uri": "https://localhost:8080/",
     "height": 71
    },
    "colab_type": "code",
    "id": "iQgE8qFAMbiF",
    "outputId": "3f41a68a-1763-4b26-e177-c5f5d0485d8e"
   },
   "outputs": [
    {
     "name": "stderr",
     "output_type": "stream",
     "text": [
      "/usr/local/lib/python3.6/dist-packages/IPython/core/interactiveshell.py:2718: DtypeWarning: Columns (10,19,20,22,33,36,37,38,39) have mixed types. Specify dtype option on import or set low_memory=False.\n",
      "  interactivity=interactivity, compiler=compiler, result=result)\n"
     ]
    }
   ],
   "source": [
    "df = pd.read_csv('/content/drive/My Drive/Data for Python/cleaned_311_data_revised.csv')"
   ]
  },
  {
   "cell_type": "code",
   "execution_count": null,
   "metadata": {
    "colab": {},
    "colab_type": "code",
    "id": "p-ueJKTaLxA4"
   },
   "outputs": [],
   "source": [
    "# Data source for population by Community District: https://data.cityofnewyork.us/City-Government/New-York-City-Population-By-Community-Districts/xi7c-iiu2/data\n",
    "# This time we'll load it directly from NYC Open Data instead of from Google Drive\n",
    "population = pd.read_csv('https://data.cityofnewyork.us/api/views/xi7c-iiu2/rows.csv?accessType=DOWNLOAD')"
   ]
  },
  {
   "cell_type": "markdown",
   "metadata": {
    "colab_type": "text",
    "id": "lsk_mVJBoNtc"
   },
   "source": [
    "### Add borocd column to all 311 requests in the full 311 requests dataset, using an improved function"
   ]
  },
  {
   "cell_type": "code",
   "execution_count": null,
   "metadata": {
    "colab": {},
    "colab_type": "code",
    "id": "iojpAbiZXOwI"
   },
   "outputs": [],
   "source": [
    "# this function will recode the community_board value into borocd in a new column\n",
    "# i've added logic to it that now also checks if the CD number is valid\n",
    "\n",
    "def recode_borocd(row):\n",
    "\n",
    "  text = row.community_board\n",
    "  first2chars = row.community_board[0:2]\n",
    "\n",
    "  if row.community_board[0] != 'U':\n",
    "    if ('MANHATTAN' in text) and (int(first2chars) <= 12):\n",
    "      return '1' + first2chars\n",
    "    elif ('BRONX' in text) and (int(first2chars) <= 12):\n",
    "      return '2' + first2chars\n",
    "    elif ('BROOKLYN' in text) and (int(first2chars) <= 18):\n",
    "      return '3' + first2chars\n",
    "    elif ('QUEENS' in text) and (int(first2chars) <= 14):\n",
    "      return '4' + first2chars\n",
    "    elif ('STATEN ISLAND' in text) and (int(first2chars) <= 3):\n",
    "      return '5' + first2chars\n",
    "  else:\n",
    "    return 'Invalid borocd'\n",
    "\n",
    "df['borocd'] = df.apply(recode_borocd, axis=1)"
   ]
  },
  {
   "cell_type": "code",
   "execution_count": null,
   "metadata": {
    "colab": {},
    "colab_type": "code",
    "id": "VqINJKC8qVHk"
   },
   "outputs": [],
   "source": [
    "# let's only keep complaint records with valid borocds\n",
    "\n",
    "df = df[df.borocd != 'Invalid borocd']"
   ]
  },
  {
   "cell_type": "code",
   "execution_count": null,
   "metadata": {
    "colab": {},
    "colab_type": "code",
    "id": "EuaCyRK1iILE"
   },
   "outputs": [],
   "source": [
    "# saving to google drive so everyone can use this cleaned version\n",
    "\n",
    "df.to_csv('cleaned_311_data_revised.csv')\n",
    "!cp cleaned_311_data_revised.csv drive/My\\ Drive/"
   ]
  },
  {
   "cell_type": "markdown",
   "metadata": {
    "colab_type": "text",
    "id": "Q1sth10Pudv1"
   },
   "source": [
    "Note: you can define an object inside a function that will only exist inside that function"
   ]
  },
  {
   "cell_type": "code",
   "execution_count": null,
   "metadata": {
    "colab": {},
    "colab_type": "code",
    "id": "VWtlrOICtfGc"
   },
   "outputs": [],
   "source": [
    "test_string = 'original text'\n",
    "print(test_string)\n",
    "\n",
    "def test_function():\n",
    "  test_string = 'new test_string created inside the function'\n",
    "  print(test_string)\n",
    "\n",
    "test_function()\n",
    "\n",
    "print(test_string)"
   ]
  },
  {
   "cell_type": "markdown",
   "metadata": {
    "colab_type": "text",
    "id": "lEoPetIGbg7k"
   },
   "source": [
    "### Create borocd column in community district population dataset"
   ]
  },
  {
   "cell_type": "code",
   "execution_count": null,
   "metadata": {
    "colab": {},
    "colab_type": "code",
    "id": "f7_GEo70M-z1"
   },
   "outputs": [],
   "source": [
    "# Create a function recode_borocd_pop that combines and recodes the Borough and CD Number values to create a borocd unique ID\n",
    "\n",
    "def recode_borocd_pop(row):\n",
    "  if row.Borough == 'Manhattan':\n",
    "    return 100 + row['CD Number']\n",
    "  elif row.Borough == 'Bronx':\n",
    "    return 200 + row['CD Number']\n",
    "  elif row.Borough == 'Brooklyn':\n",
    "    return 300 + row['CD Number']\n",
    "  elif row.Borough == 'Queens':\n",
    "    return 400 + row['CD Number']\n",
    "  elif row.Borough == 'Staten Island':\n",
    "    return 500 + row['CD Number']\n",
    "  else:\n",
    "    return 'Invalid borocd'\n",
    "\n",
    "population['borocd'] = population.apply(recode_borocd_pop, axis=1)"
   ]
  },
  {
   "cell_type": "markdown",
   "metadata": {
    "colab_type": "text",
    "id": "uSmU_7UdU_v0"
   },
   "source": [
    "### Join the population data onto the counts data after creating shared `borocd` unique ID"
   ]
  },
  {
   "cell_type": "code",
   "execution_count": null,
   "metadata": {
    "colab": {},
    "colab_type": "code",
    "id": "txl0wcl_VKp8"
   },
   "outputs": [],
   "source": [
    "cd_counts = df.groupby('borocd').size().reset_index(name='count_of_311_requests')"
   ]
  },
  {
   "cell_type": "code",
   "execution_count": null,
   "metadata": {
    "colab": {},
    "colab_type": "code",
    "id": "gUydiMx4cxe_"
   },
   "outputs": [],
   "source": [
    "# now lets join this population data onto our CD dataset\n",
    "# the default setting for merge is an inner join\n",
    "\n",
    "cd_data = pd.merge(left=cd_counts, right=population, left_on='borocd', right_on='borocd')"
   ]
  },
  {
   "cell_type": "code",
   "execution_count": null,
   "metadata": {
    "colab": {
     "base_uri": "https://localhost:8080/",
     "height": 204
    },
    "colab_type": "code",
    "id": "DA1mRjnWexhr",
    "outputId": "c8ca949a-3ed9-43bd-a2bf-2206925a6ace"
   },
   "outputs": [
    {
     "data": {
      "text/html": [
       "<div>\n",
       "<style scoped>\n",
       "    .dataframe tbody tr th:only-of-type {\n",
       "        vertical-align: middle;\n",
       "    }\n",
       "\n",
       "    .dataframe tbody tr th {\n",
       "        vertical-align: top;\n",
       "    }\n",
       "\n",
       "    .dataframe thead th {\n",
       "        text-align: right;\n",
       "    }\n",
       "</style>\n",
       "<table border=\"1\" class=\"dataframe\">\n",
       "  <thead>\n",
       "    <tr style=\"text-align: right;\">\n",
       "      <th></th>\n",
       "      <th>borocd</th>\n",
       "      <th>Borough</th>\n",
       "      <th>CD Name</th>\n",
       "      <th>2010 Population</th>\n",
       "      <th>count_of_311_requests</th>\n",
       "    </tr>\n",
       "  </thead>\n",
       "  <tbody>\n",
       "    <tr>\n",
       "      <th>0</th>\n",
       "      <td>101.0</td>\n",
       "      <td>Manhattan</td>\n",
       "      <td>Battery Park City, Tribeca</td>\n",
       "      <td>60978</td>\n",
       "      <td>21259</td>\n",
       "    </tr>\n",
       "    <tr>\n",
       "      <th>1</th>\n",
       "      <td>102.0</td>\n",
       "      <td>Manhattan</td>\n",
       "      <td>Greenwich Village, Soho</td>\n",
       "      <td>90016</td>\n",
       "      <td>36688</td>\n",
       "    </tr>\n",
       "    <tr>\n",
       "      <th>2</th>\n",
       "      <td>103.0</td>\n",
       "      <td>Manhattan</td>\n",
       "      <td>Lower East Side, Chinatown</td>\n",
       "      <td>163277</td>\n",
       "      <td>51399</td>\n",
       "    </tr>\n",
       "    <tr>\n",
       "      <th>3</th>\n",
       "      <td>104.0</td>\n",
       "      <td>Manhattan</td>\n",
       "      <td>Chelsea, Clinton</td>\n",
       "      <td>103245</td>\n",
       "      <td>38819</td>\n",
       "    </tr>\n",
       "    <tr>\n",
       "      <th>4</th>\n",
       "      <td>105.0</td>\n",
       "      <td>Manhattan</td>\n",
       "      <td>Midtown Business District</td>\n",
       "      <td>51673</td>\n",
       "      <td>37466</td>\n",
       "    </tr>\n",
       "  </tbody>\n",
       "</table>\n",
       "</div>"
      ],
      "text/plain": [
       "   borocd    Borough                     CD Name  2010 Population  \\\n",
       "0   101.0  Manhattan  Battery Park City, Tribeca            60978   \n",
       "1   102.0  Manhattan     Greenwich Village, Soho            90016   \n",
       "2   103.0  Manhattan  Lower East Side, Chinatown           163277   \n",
       "3   104.0  Manhattan            Chelsea, Clinton           103245   \n",
       "4   105.0  Manhattan   Midtown Business District            51673   \n",
       "\n",
       "   count_of_311_requests  \n",
       "0                  21259  \n",
       "1                  36688  \n",
       "2                  51399  \n",
       "3                  38819  \n",
       "4                  37466  "
      ]
     },
     "execution_count": 15,
     "metadata": {
      "tags": []
     },
     "output_type": "execute_result"
    }
   ],
   "source": [
    "# let's create a simplified new dataframe that only include the columns we care about and in a better order\n",
    "\n",
    "cd_data = cd_data[['borocd', 'Borough', 'CD Name', '2010 Population', 'count_of_311_requests']]\n",
    "cd_data.head()"
   ]
  },
  {
   "cell_type": "markdown",
   "metadata": {
    "colab_type": "text",
    "id": "L1smfBSEc5x9"
   },
   "source": [
    "## Make a scatterplot of count of 311 requests per CD against CD population"
   ]
  },
  {
   "cell_type": "code",
   "execution_count": null,
   "metadata": {
    "colab": {
     "base_uri": "https://localhost:8080/",
     "height": 404
    },
    "colab_type": "code",
    "id": "iLqlusZWh1F8",
    "outputId": "09b24825-195c-4f6f-e1fa-524c1cb38123"
   },
   "outputs": [
    {
     "data": {
      "image/png": "[encoded data removed]",
      "text/plain": [
       "<Figure size 1080x432 with 1 Axes>"
      ]
     },
     "metadata": {
      "tags": []
     },
     "output_type": "display_data"
    }
   ],
   "source": [
    "plt.figure(figsize=(15, 6))\n",
    "\n",
    "plt.scatter(\n",
    "    np.array(cd_data['2010 Population']/1000), # x\n",
    "    np.array(cd_data.count_of_311_requests), # y\n",
    "    s=50, # size of marker\n",
    "    c='#3d03fc', # color hex color picker: https://www.google.com/search?q=color+picker\n",
    "    edgecolors='black', # outline color of the marker\n",
    "    alpha=0.5) # transparency. 0 is 100% transparent. 1 is 100% opaque\n",
    "\n",
    "plt.title('311 Requests vs. Community District Population')\n",
    "plt.xlabel('Population in Community District (Thousands)')\n",
    "plt.ylabel('# of 311 Requests in Community District')\n",
    "\n",
    "plt.show()"
   ]
  },
  {
   "cell_type": "markdown",
   "metadata": {
    "colab_type": "text",
    "id": "R9XGhYkgxLQf"
   },
   "source": [
    "## How well does count of 311 requests correlate with population per community district?"
   ]
  },
  {
   "cell_type": "code",
   "execution_count": null,
   "metadata": {
    "colab": {
     "base_uri": "https://localhost:8080/",
     "height": 51
    },
    "colab_type": "code",
    "id": "znDhtjotxSk_",
    "outputId": "eeeac599-feba-416a-c654-e7bd5c007333"
   },
   "outputs": [
    {
     "data": {
      "text/plain": [
       "array([[1.        , 0.68621761],\n",
       "       [0.68621761, 1.        ]])"
      ]
     },
     "execution_count": 17,
     "metadata": {
      "tags": []
     },
     "output_type": "execute_result"
    }
   ],
   "source": [
    "# determine the correlation coefficient using the np.corrcoef() function from numpy\n",
    "\n",
    "x = np.array(cd_data['2010 Population']/1000)\n",
    "y = np.array(cd_data.count_of_311_requests)\n",
    "\n",
    "# produces a matrix of the correlation coefficients\n",
    "np.corrcoef(x, y)"
   ]
  },
  {
   "cell_type": "markdown",
   "metadata": {
    "colab_type": "text",
    "id": "71c294WfyD-t"
   },
   "source": [
    "Moderately high positive correlation"
   ]
  },
  {
   "cell_type": "markdown",
   "metadata": {
    "colab_type": "text",
    "id": "EJzPiTSFyLek"
   },
   "source": [
    "## How well can a linear regression predict the relationship between population and 311 requests per community district"
   ]
  },
  {
   "cell_type": "code",
   "execution_count": null,
   "metadata": {
    "colab": {
     "base_uri": "https://localhost:8080/",
     "height": 1000
    },
    "colab_type": "code",
    "id": "sJn6xyZszxhO",
    "outputId": "93aef409-d5aa-461f-cecb-d856ca15df63"
   },
   "outputs": [
    {
     "name": "stdout",
     "output_type": "stream",
     "text": [
      "[[  1.     60.978]\n",
      " [  1.     90.016]\n",
      " [  1.    163.277]\n",
      " [  1.    103.245]\n",
      " [  1.     51.673]\n",
      " [  1.    142.745]\n",
      " [  1.    209.084]\n",
      " [  1.    219.92 ]\n",
      " [  1.    110.193]\n",
      " [  1.    115.723]\n",
      " [  1.    120.511]\n",
      " [  1.    190.02 ]\n",
      " [  1.     91.497]\n",
      " [  1.     52.246]\n",
      " [  1.     79.762]\n",
      " [  1.    146.441]\n",
      " [  1.    128.2  ]\n",
      " [  1.     83.268]\n",
      " [  1.    139.286]\n",
      " [  1.    101.731]\n",
      " [  1.    172.298]\n",
      " [  1.    120.392]\n",
      " [  1.    113.232]\n",
      " [  1.    152.344]\n",
      " [  1.    173.083]\n",
      " [  1.     99.617]\n",
      " [  1.    152.985]\n",
      " [  1.    112.634]\n",
      " [  1.    182.896]\n",
      " [  1.    104.709]\n",
      " [  1.    126.23 ]\n",
      " [  1.     96.317]\n",
      " [  1.     98.429]\n",
      " [  1.    124.491]\n",
      " [  1.    181.981]\n",
      " [  1.    191.382]\n",
      " [  1.    104.278]\n",
      " [  1.    160.664]\n",
      " [  1.    159.65 ]\n",
      " [  1.     86.468]\n",
      " [  1.    155.252]\n",
      " [  1.    193.543]\n",
      " [  1.    191.105]\n",
      " [  1.    113.2  ]\n",
      " [  1.    171.576]\n",
      " [  1.    172.598]\n",
      " [  1.    169.19 ]\n",
      " [  1.    113.257]\n",
      " [  1.    247.354]\n",
      " [  1.    151.107]\n",
      " [  1.    143.317]\n",
      " [  1.    122.396]\n",
      " [  1.    116.431]\n",
      " [  1.    225.919]\n",
      " [  1.    188.593]\n",
      " [  1.    114.978]\n",
      " [  1.    175.756]\n",
      " [  1.    132.003]\n",
      " [  1.    160.209]]\n",
      "                            OLS Regression Results                            \n",
      "==============================================================================\n",
      "Dep. Variable:                      y   R-squared:                       0.471\n",
      "Model:                            OLS   Adj. R-squared:                  0.462\n",
      "Method:                 Least Squares   F-statistic:                     50.73\n",
      "Date:                Tue, 19 Nov 2019   Prob (F-statistic):           1.99e-09\n",
      "Time:                        12:58:32   Log-Likelihood:                -626.67\n",
      "No. Observations:                  59   AIC:                             1257.\n",
      "Df Residuals:                      57   BIC:                             1261.\n",
      "Df Model:                           1                                         \n",
      "Covariance Type:            nonrobust                                         \n",
      "==============================================================================\n",
      "                 coef    std err          t      P>|t|      [0.025      0.975]\n",
      "------------------------------------------------------------------------------\n",
      "const       1.528e+04   4424.653      3.452      0.001    6415.705    2.41e+04\n",
      "x1           217.2650     30.504      7.122      0.000     156.181     278.349\n",
      "==============================================================================\n",
      "Omnibus:                        0.008   Durbin-Watson:                   1.926\n",
      "Prob(Omnibus):                  0.996   Jarque-Bera (JB):                0.065\n",
      "Skew:                           0.006   Prob(JB):                        0.968\n",
      "Kurtosis:                       2.837   Cond. No.                         488.\n",
      "==============================================================================\n",
      "\n",
      "Warnings:\n",
      "[1] Standard Errors assume that the covariance matrix of the errors is correctly specified.\n"
     ]
    }
   ],
   "source": [
    "# Note that y is the first argument, before x. This is different than plotting and the correlation function.\n",
    "\n",
    "# y = dependent variable (# of 311 requests)\n",
    "y = np.array(cd_data.count_of_311_requests)\n",
    "\n",
    "# x = independent variable (population) with a constant added\n",
    "x = np.array(cd_data['2010 Population']/1000)\n",
    "x = sm.add_constant(x)\n",
    "\n",
    "print(x)\n",
    "\n",
    "model = sm.OLS(y, x).fit()\n",
    "\n",
    "# Print out the statistics\n",
    "\n",
    "print(model.summary())"
   ]
  },
  {
   "cell_type": "markdown",
   "metadata": {
    "colab_type": "text",
    "id": "Dpmk6Thn2LL2"
   },
   "source": [
    "Based on the R2 value, the linear model with a y-intercept only explains 47% of the variance in 311 counts per community district"
   ]
  },
  {
   "cell_type": "markdown",
   "metadata": {
    "colab_type": "text",
    "id": "DkM0wOZ3xk16"
   },
   "source": [
    "If you didn't include the constant in your x input, the linear model R2 would be higher than it should be. [\"Why are R2 and F so large for models without a constant?\"](https://stats.idre.ucla.edu/other/mult-pkg/faq/general/faq-why-are-r2-and-f-so-large-for-models-without-a-constant/ )"
   ]
  },
  {
   "cell_type": "markdown",
   "metadata": {
    "colab_type": "text",
    "id": "9g0Qhl1Qkdei"
   },
   "source": [
    "## We can access the model results and save them as objects"
   ]
  },
  {
   "cell_type": "code",
   "execution_count": null,
   "metadata": {
    "colab": {
     "base_uri": "https://localhost:8080/",
     "height": 51
    },
    "colab_type": "code",
    "id": "EbCZNcKq2HTH",
    "outputId": "9164b57d-df1f-4621-f9c8-b08661579e6d"
   },
   "outputs": [
    {
     "name": "stdout",
     "output_type": "stream",
     "text": [
      "parameters: [15275.92042017   217.26495595]\n",
      "R2: 0.4708946065516594\n"
     ]
    }
   ],
   "source": [
    "p = model.params # intercept and coefficient\n",
    "print('parameters:', p)\n",
    "\n",
    "r2 = model.rsquared\n",
    "print('R2:', r2)"
   ]
  },
  {
   "cell_type": "code",
   "execution_count": null,
   "metadata": {
    "colab": {
     "base_uri": "https://localhost:8080/",
     "height": 34
    },
    "colab_type": "code",
    "id": "_A4DH5c0mPLW",
    "outputId": "a4b3d8b9-8485-49af-b687-3b73d44ea537"
   },
   "outputs": [
    {
     "name": "stdout",
     "output_type": "stream",
     "text": [
      "y = 217.26x + 15275.92; R2 = 0.471\n"
     ]
    }
   ],
   "source": [
    "# let's make labels for the lines of the best fit to use on a scatter plot\n",
    "\n",
    "label = 'y = ' + str(round(p[1],2)) + 'x + ' + str(round(p[0],2)) + '; R2 = ' + str(round(r2,3))\n",
    "print(label)"
   ]
  },
  {
   "cell_type": "markdown",
   "metadata": {
    "colab_type": "text",
    "id": "23kCpWw22HwT"
   },
   "source": [
    "## Adding the lines of best fit to the scatter plot"
   ]
  },
  {
   "cell_type": "code",
   "execution_count": null,
   "metadata": {
    "colab": {
     "base_uri": "https://localhost:8080/",
     "height": 404
    },
    "colab_type": "code",
    "id": "EtTRWY0n4cAn",
    "outputId": "5c27f595-fe3e-4382-c83b-64e05c0466ee"
   },
   "outputs": [
    {
     "data": {
      "image/png": "[encoded data removed]",
      "text/plain": [
       "<Figure size 1080x432 with 1 Axes>"
      ]
     },
     "metadata": {
      "tags": []
     },
     "output_type": "display_data"
    }
   ],
   "source": [
    "# create an array of x values for the lines of best fit\n",
    "# x_dummy = np.arange(0,max(cd_data['2010 Population'])/1000)\n",
    "x_dummy = np.array(cd_data['2010 Population']/1000)\n",
    "\n",
    "plt.figure(figsize=(15, 6))\n",
    "\n",
    "plt.scatter(\n",
    "    np.array(cd_data['2010 Population']/1000), # x\n",
    "    np.array(cd_data.count_of_311_requests), # y\n",
    "    s=50, # size of marker\n",
    "    c='#3d03fc', # color hex color picker: https://www.google.com/search?q=color+picker\n",
    "    edgecolors='black', # outline color of the marker\n",
    "    alpha=0.5) # transparency. 0 is 100% transparent. 1 is 100% opaque\n",
    "\n",
    "# line of best fit, with y intercept\n",
    "plt.plot(\n",
    "    x_dummy, \n",
    "    p[0] + p[1] * x_dummy,\n",
    "    c='#00d138', # lighter green\n",
    "    label=label)\n",
    "\n",
    "plt.title('311 Requests vs. Community District Population')\n",
    "plt.xlabel('Population in Community District (Thousands)')\n",
    "plt.ylabel('# of 311 Requests in Community District')\n",
    "plt.legend()\n",
    "\n",
    "plt.show()"
   ]
  },
  {
   "cell_type": "markdown",
   "metadata": {
    "colab_type": "text",
    "id": "ybEHmpnPy4E3"
   },
   "source": [
    "## Using the `seaborn` package to easily produce pretty regression charts\n",
    "Reference: https://seaborn.pydata.org/tutorial/regression.html"
   ]
  },
  {
   "cell_type": "code",
   "execution_count": null,
   "metadata": {
    "colab": {},
    "colab_type": "code",
    "id": "PUAjJ9Oyy_3A"
   },
   "outputs": [],
   "source": [
    "import seaborn as sns"
   ]
  },
  {
   "cell_type": "code",
   "execution_count": null,
   "metadata": {
    "colab": {
     "base_uri": "https://localhost:8080/",
     "height": 296
    },
    "colab_type": "code",
    "id": "7NV_85ms0gyb",
    "outputId": "291f95ef-c742-4785-901f-22c34cdd2c40"
   },
   "outputs": [
    {
     "data": {
      "text/plain": [
       "<matplotlib.axes._subplots.AxesSubplot at 0x7fd20d278518>"
      ]
     },
     "execution_count": 66,
     "metadata": {
      "tags": []
     },
     "output_type": "execute_result"
    },
    {
     "data": {
      "image/png": "[encoded data removed]",
      "text/plain": [
       "<Figure size 432x288 with 1 Axes>"
      ]
     },
     "metadata": {
      "tags": []
     },
     "output_type": "display_data"
    }
   ],
   "source": [
    "# the .regplot() function makes a nice looking scatter plot with a line of best fit\n",
    "# it can consume pandas data series from a dataframe\n",
    "\n",
    "sns.regplot(\n",
    "    x=cd_data['2010 Population'],\n",
    "    y=cd_data['count_of_311_requests'])"
   ]
  },
  {
   "cell_type": "code",
   "execution_count": null,
   "metadata": {
    "colab": {
     "base_uri": "https://localhost:8080/",
     "height": 296
    },
    "colab_type": "code",
    "id": "2TpxYA90zSr3",
    "outputId": "b9b32095-68f6-45f3-cce6-5d105aa5da7b"
   },
   "outputs": [
    {
     "data": {
      "text/plain": [
       "<matplotlib.axes._subplots.AxesSubplot at 0x7fd2041cf2b0>"
      ]
     },
     "execution_count": 67,
     "metadata": {
      "tags": []
     },
     "output_type": "execute_result"
    },
    {
     "data": {
      "image/png": "[encoded data removed]",
      "text/plain": [
       "<Figure size 432x288 with 1 Axes>"
      ]
     },
     "metadata": {
      "tags": []
     },
     "output_type": "display_data"
    }
   ],
   "source": [
    "# the .regplot() function makes a nice looking scatter plot with a line of best fit\n",
    "# it can also consume column names and a specified dataframe\n",
    "\n",
    "sns.regplot(\n",
    "    x='2010 Population', # note that x and y are the column names in the specified \"data\" table\n",
    "    y='count_of_311_requests',\n",
    "    data=cd_data)"
   ]
  },
  {
   "cell_type": "markdown",
   "metadata": {
    "colab_type": "text",
    "id": "sB4U3VKw12M2"
   },
   "source": [
    "## Helpful reference on polynomial and multiple regression\n",
    "https://blog.datarobot.com/multiple-regression-using-statsmodels"
   ]
  },
  {
   "cell_type": "markdown",
   "metadata": {
    "colab_type": "text",
    "id": "ddj8VVZRixCn"
   },
   "source": [
    "# HOMEWORK 4 Coding: The relationship between concentration of homeless shelters and count of 311 requests related to homeless services"
   ]
  },
  {
   "cell_type": "markdown",
   "metadata": {
    "colab_type": "text",
    "id": "t9yinRiHWK-q"
   },
   "source": [
    "**Problem Statement**: Homelesses is a big concern in New York City. The Department of Homeless Services is tasked with providing services and housing for people who are homeless. They recently began publishing the count of homeless shelter buildings per community district on NYC Open Data to provide more transparency into where shelters are located. The dataset provides counts in multiple columns for different categories of buildings. It also includes counts from different reporting dates.\n",
    "\n",
    "The 311 Service Requests dataset includes a complaint type called \"Homeless Person Assistance\". Let's find out if there's a relationship between the number of homeless assistance 311 requests and the concentration of homeless shelter buildings per community district."
   ]
  },
  {
   "cell_type": "markdown",
   "metadata": {
    "colab_type": "text",
    "id": "MZwpqohLJgGi"
   },
   "source": [
    "**Step 1**. Load the datasets:\n",
    "- Cleaned 311 data that excludes records with invalid community districts. Shared with you on Google Drive as `cleaned_311_data_revised.csv`\n",
    "- NYC Open dataset that provides the total count of different types of homeless shelter buildings per community district. \n",
    "  - Data source page where you can preview the data: https://data.cityofnewyork.us/Social-Services/Buildings-by-Borough-and-Community-District/3qem-6v3v/data\n",
    "  - CSV data download link you can plug into the `pd.read_csv()` function: https://data.cityofnewyork.us/api/views/3qem-6v3v/rows.csv?accessType=DOWNLOAD"
   ]
  },
  {
   "cell_type": "markdown",
   "metadata": {
    "colab_type": "text",
    "id": "Syl1bzy7KNYp"
   },
   "source": [
    "**Step 2**. Filter the shelter count dataframe to only keep rows where the value in the 'Report Date' column is '09/30/2019'"
   ]
  },
  {
   "cell_type": "markdown",
   "metadata": {
    "colab_type": "text",
    "id": "3EcnkcXtKmVk"
   },
   "source": [
    "**Step 3**. Create a new column in the shelter count dataframe that calculates the sum of all the individual count columns: 'Adult Family Comm Hotel', 'Adult Family Shelter', 'Adult Shelter', 'Adult Shelter Comm Hotel', 'FWC Cluster', 'FWC Comm Hotel', 'FWC Shelter'\n",
    "\n",
    "- Tip: There are multiple ways to add these columns together. With one approach, you may find that your total column contains NaN values. This is because many of the columns contains NaN/empty values. When you add a real number to a NaN, the sum will be NaN. To get around this, you will need to fill in all the NaN values with 0 instead. Use the `.fillna(0)` method on your shelter count dataframe."
   ]
  },
  {
   "cell_type": "markdown",
   "metadata": {
    "colab_type": "text",
    "id": "0FSWaq7EMGQ0"
   },
   "source": [
    "**Step 4**. From the 311 dataset, create a subset of all the 311 requests where `complaint_type == 'Homeless Person Assistance'`"
   ]
  },
  {
   "cell_type": "markdown",
   "metadata": {
    "colab_type": "text",
    "id": "Gj_WIet_Mu-6"
   },
   "source": [
    "**Step 5**. Group the 311 subset by 'borocd' to get the count of 'Homeless Person Assistance' requests per community district"
   ]
  },
  {
   "cell_type": "markdown",
   "metadata": {
    "colab_type": "text",
    "id": "SqJrHTnhM-UZ"
   },
   "source": [
    "**Step 6**. Merge the homeless 311 request count table (from Step 5) with the shelter count table (from Step 3).\n",
    "- Tip: Not all community districts have homeless facilities in them. Use a left join with the 311 complaints as the left table and shelter counts as the right table. After doing this, you should fill in the new NaNs with zeros using the `.fillna(0)` method on your dataframe."
   ]
  },
  {
   "cell_type": "markdown",
   "metadata": {
    "colab_type": "text",
    "id": "JLKE8xVk-UT5"
   },
   "source": [
    "**Step 7**. Produce a scatter plot of the data using the `matplotlib` package. What is your initial impression on whether there is a correlation between number of shelters and count of 311 homeless service requests?"
   ]
  },
  {
   "cell_type": "markdown",
   "metadata": {
    "colab_type": "text",
    "id": "Wb__VF5_PfJW"
   },
   "source": [
    "**Step 8**. Use `np.corrcoef(x, y)` to identify the correlation coefficient between count of total shelter buildings and count of homeless requests per community district."
   ]
  },
  {
   "cell_type": "markdown",
   "metadata": {
    "colab_type": "text",
    "id": "Akfq7zNcQIyO"
   },
   "source": [
    "**Step 9**. Perform a linear regression with count of total shelter buildings as the independent variable and count of homeless requests as the dependent variable\n",
    "\n"
   ]
  },
  {
   "cell_type": "markdown",
   "metadata": {
    "colab_type": "text",
    "id": "kBsEXWmkREYF"
   },
   "source": [
    "**Step 10**. Produce a scatter plot of the data with the line of best fit from your linear regression using the `matplotlib` package"
   ]
  },
  {
   "cell_type": "markdown",
   "metadata": {
    "colab_type": "text",
    "id": "HtJMPlOHRzLk"
   },
   "source": [
    "**Step 11**: Write a sentence or two explaining the results of your analysis. What do the numbers and chart tell you about the relationship between concentration of homeless shelters vs. frequency of 311 requests related to homelessness?\n",
    "\n",
    "**Additional context on 311 use cases related to homeless services**:\n",
    "- What do \"Homeless Person Assistance\" requests actually entail? https://www1.nyc.gov/site/dhs/outreach/street-outreach.page\n",
    "- 311 web page encouraging residents of shelters to complain about unsuitable conditions. Unfortunately those complaints are not clearly labeled in the 311 data. https://portal.311.nyc.gov/article/?kanumber=KA-01039\n",
    "- News article referencing conditions in shelters and residents reporting problems through 311. https://www.nydailynews.com/new-york/nyc-homeless-shelter-residents-call-311-no-listening-article-1.2759222\n"
   ]
  },
  {
   "cell_type": "markdown",
   "metadata": {
    "colab_type": "text",
    "id": "a7IkaBbsvWTK"
   },
   "source": [
    "# HOMEWORK 4 Tutorial: Time series data"
   ]
  },
  {
   "cell_type": "markdown",
   "metadata": {
    "colab_type": "text",
    "id": "IlkkeHWGzy63"
   },
   "source": [
    "[Tutorial: Time Series Analysis with Pandas](https://www.dataquest.io/blog/tutorial-time-series-analysis-with-pandas/)"
   ]
  }
 ],
 "metadata": {
  "colab": {
   "collapsed_sections": [
    "Omm4n3FmPHlF"
   ],
   "include_colab_link": true,
   "name": "lecture_4.ipynb",
   "provenance": []
  },
  "kernelspec": {
   "display_name": "Python 3",
   "language": "python",
   "name": "python3"
  },
  "language_info": {
   "codemirror_mode": {
    "name": "ipython",
    "version": 3
   },
   "file_extension": ".py",
   "mimetype": "text/x-python",
   "name": "python",
   "nbconvert_exporter": "python",
   "pygments_lexer": "ipython3",
   "version": "3.8.0"
  }
 },
 "nbformat": 4,
 "nbformat_minor": 4
}
