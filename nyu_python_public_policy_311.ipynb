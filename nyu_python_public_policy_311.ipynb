{
  "nbformat": 4,
  "nbformat_minor": 0,
  "metadata": {
    "colab": {
      "name": "nyu-python-public-policy-311.ipynb",
      "version": "0.3.2",
      "provenance": [],
      "include_colab_link": true
    },
    "kernelspec": {
      "name": "python3",
      "display_name": "Python 3"
    }
  },
  "cells": [
    {
      "cell_type": "markdown",
      "metadata": {
        "id": "view-in-github",
        "colab_type": "text"
      },
      "source": [
        "<a href=\"https://colab.research.google.com/github/hannahkates/nyu-python-public-policy/blob/master/nyu_python_public_policy_311.ipynb\" target=\"_parent\"><img src=\"https://colab.research.google.com/assets/colab-badge.svg\" alt=\"Open In Colab\"/></a>"
      ]
    },
    {
      "cell_type": "markdown",
      "metadata": {
        "id": "HIgKzwuCN5tc",
        "colab_type": "text"
      },
      "source": [
        "# NYU Wagner - Python Coding for Public Policy\n",
        "In this course, we will work extensively with the 311 Service Requests dataset published on NYC Open Data: https://data.cityofnewyork.us/Social-Services/311-Service-Requests-from-2010-to-Present/erm2-nwe9/data\n"
      ]
    },
    {
      "cell_type": "markdown",
      "metadata": {
        "id": "k66veAdEe6Qj",
        "colab_type": "text"
      },
      "source": [
        "# Dependencies"
      ]
    },
    {
      "cell_type": "code",
      "metadata": {
        "id": "drWUVbJZltHX",
        "colab_type": "code",
        "colab": {}
      },
      "source": [
        "import pandas as pd"
      ],
      "execution_count": 0,
      "outputs": []
    },
    {
      "cell_type": "markdown",
      "metadata": {
        "id": "PjnBLbyyOSE1",
        "colab_type": "text"
      },
      "source": [
        "# Class 0 (Oct 24): Opening data and exploring the contents"
      ]
    },
    {
      "cell_type": "markdown",
      "metadata": {
        "id": "fmfPQc01Mhxh",
        "colab_type": "text"
      },
      "source": [
        "### Start by importing the 311 Service Requests dataset"
      ]
    },
    {
      "cell_type": "code",
      "metadata": {
        "id": "qd0Av-0qkiam",
        "colab_type": "code",
        "colab": {
          "base_uri": "https://localhost:8080/",
          "height": 122
        },
        "outputId": "99b8ced3-32f9-4b5e-ad95-b6ef147e7088"
      },
      "source": [
        "from google.colab import drive\n",
        "drive.mount('/content/drive')"
      ],
      "execution_count": 7,
      "outputs": [
        {
          "output_type": "stream",
          "text": [
            "Go to this URL in a browser: https://accounts.google.com/o/oauth2/auth?client_id=947318989803-6bn6qk8qdgf4n4g3pfee6491hc0brc4i.apps.googleusercontent.com&redirect_uri=urn%3Aietf%3Awg%3Aoauth%3A2.0%3Aoob&scope=email%20https%3A%2F%2Fwww.googleapis.com%2Fauth%2Fdocs.test%20https%3A%2F%2Fwww.googleapis.com%2Fauth%2Fdrive%20https%3A%2F%2Fwww.googleapis.com%2Fauth%2Fdrive.photos.readonly%20https%3A%2F%2Fwww.googleapis.com%2Fauth%2Fpeopleapi.readonly&response_type=code\n",
            "\n",
            "Enter your authorization code:\n",
            "··········\n",
            "Mounted at /content/drive\n"
          ],
          "name": "stdout"
        }
      ]
    },
    {
      "cell_type": "code",
      "metadata": {
        "id": "NG1KDN_el2bn",
        "colab_type": "code",
        "colab": {
          "base_uri": "https://localhost:8080/",
          "height": 71
        },
        "outputId": "56beeda1-5772-440f-fc77-d203e186d8c3"
      },
      "source": [
        "df = pd.read_csv('/content/drive/My Drive/NYU Python Course/311_Service_Requests_2018-19.csv', header='infer')"
      ],
      "execution_count": 17,
      "outputs": [
        {
          "output_type": "stream",
          "text": [
            "/usr/local/lib/python3.6/dist-packages/IPython/core/interactiveshell.py:2718: DtypeWarning: Columns (8,17,20,31,34) have mixed types. Specify dtype option on import or set low_memory=False.\n",
            "  interactivity=interactivity, compiler=compiler, result=result)\n"
          ],
          "name": "stderr"
        }
      ]
    },
    {
      "cell_type": "code",
      "metadata": {
        "id": "YdtFBy0Il7E7",
        "colab_type": "code",
        "colab": {
          "base_uri": "https://localhost:8080/",
          "height": 153
        },
        "outputId": "f6312a73-fcdb-4d55-adf3-abd350338243"
      },
      "source": [
        "print(df.head())"
      ],
      "execution_count": 18,
      "outputs": [
        {
          "output_type": "stream",
          "text": [
            "   Unique Key  ...                                 Location\n",
            "0    39888071  ...   (40.79333937834769, -73.9429417746998)\n",
            "1    39889166  ...   (40.82012422332215, -73.9530712339799)\n",
            "2    39882869  ...   (40.67080917938279, -73.9513990916184)\n",
            "3    39894246  ...  (40.74026158873342, -73.99051651686905)\n",
            "4    39881329  ...  (40.68814402968042, -73.75098958473612)\n",
            "\n",
            "[5 rows x 41 columns]\n"
          ],
          "name": "stdout"
        }
      ]
    },
    {
      "cell_type": "markdown",
      "metadata": {
        "id": "7DPo85wSNU6q",
        "colab_type": "text"
      },
      "source": [
        "### What's in this dataset?\n",
        "### - How many records are in the dataset?\n",
        "### - What are all the columns in the dataset?\n",
        "### - What is the data type of each column? (I.e. what types of values does each column contain?)"
      ]
    },
    {
      "cell_type": "code",
      "metadata": {
        "id": "--ben4hfmTaB",
        "colab_type": "code",
        "colab": {
          "base_uri": "https://localhost:8080/",
          "height": 799
        },
        "outputId": "c1974bee-130b-462b-941d-72834ec76aeb"
      },
      "source": [
        "df.info()"
      ],
      "execution_count": 19,
      "outputs": [
        {
          "output_type": "stream",
          "text": [
            "<class 'pandas.core.frame.DataFrame'>\n",
            "RangeIndex: 2859200 entries, 0 to 2859199\n",
            "Data columns (total 41 columns):\n",
            "Unique Key                        int64\n",
            "Created Date                      object\n",
            "Closed Date                       object\n",
            "Agency                            object\n",
            "Agency Name                       object\n",
            "Complaint Type                    object\n",
            "Descriptor                        object\n",
            "Location Type                     object\n",
            "Incident Zip                      object\n",
            "Incident Address                  object\n",
            "Street Name                       object\n",
            "Cross Street 1                    object\n",
            "Cross Street 2                    object\n",
            "Intersection Street 1             object\n",
            "Intersection Street 2             object\n",
            "Address Type                      object\n",
            "City                              object\n",
            "Landmark                          object\n",
            "Facility Type                     object\n",
            "Status                            object\n",
            "Due Date                          object\n",
            "Resolution Description            object\n",
            "Resolution Action Updated Date    object\n",
            "Community Board                   object\n",
            "BBL                               float64\n",
            "Borough                           object\n",
            "X Coordinate (State Plane)        float64\n",
            "Y Coordinate (State Plane)        float64\n",
            "Open Data Channel Type            object\n",
            "Park Facility Name                object\n",
            "Park Borough                      object\n",
            "Vehicle Type                      object\n",
            "Taxi Company Borough              object\n",
            "Taxi Pick Up Location             object\n",
            "Bridge Highway Name               object\n",
            "Bridge Highway Direction          object\n",
            "Road Ramp                         object\n",
            "Bridge Highway Segment            object\n",
            "Latitude                          float64\n",
            "Longitude                         float64\n",
            "Location                          object\n",
            "dtypes: float64(5), int64(1), object(35)\n",
            "memory usage: 894.4+ MB\n"
          ],
          "name": "stdout"
        }
      ]
    },
    {
      "cell_type": "markdown",
      "metadata": {
        "id": "f-YNgxGPNRgi",
        "colab_type": "text"
      },
      "source": [
        "### How many records are in the dataset?"
      ]
    },
    {
      "cell_type": "code",
      "metadata": {
        "id": "VPCoqOTKN3aB",
        "colab_type": "code",
        "colab": {
          "base_uri": "https://localhost:8080/",
          "height": 34
        },
        "outputId": "39b55cc3-242b-4e74-e05c-0698880dd506"
      },
      "source": [
        "df['Unique Key'].size"
      ],
      "execution_count": 32,
      "outputs": [
        {
          "output_type": "execute_result",
          "data": {
            "text/plain": [
              "2859200"
            ]
          },
          "metadata": {
            "tags": []
          },
          "execution_count": 32
        }
      ]
    },
    {
      "cell_type": "markdown",
      "metadata": {
        "id": "jy54_jkFNYm3",
        "colab_type": "text"
      },
      "source": [
        "### What are the distinct sets of values in columns that seem most useful?"
      ]
    },
    {
      "cell_type": "code",
      "metadata": {
        "id": "cIVITVAQN3_c",
        "colab_type": "code",
        "colab": {
          "base_uri": "https://localhost:8080/",
          "height": 153
        },
        "outputId": "abbcb629-55b0-453b-cc14-30103f91aaa8"
      },
      "source": [
        "set(df['Status'])"
      ],
      "execution_count": 26,
      "outputs": [
        {
          "output_type": "execute_result",
          "data": {
            "text/plain": [
              "{'Assigned',\n",
              " 'Closed',\n",
              " 'Email Sent',\n",
              " 'In Progress',\n",
              " 'Open',\n",
              " 'Pending',\n",
              " 'Started',\n",
              " 'Unspecified'}"
            ]
          },
          "metadata": {
            "tags": []
          },
          "execution_count": 26
        }
      ]
    },
    {
      "cell_type": "code",
      "metadata": {
        "id": "W_tjsqNSp5vd",
        "colab_type": "code",
        "colab": {
          "base_uri": "https://localhost:8080/",
          "height": 34
        },
        "outputId": "2e421b3b-58cb-4304-8a18-4d2264a85066"
      },
      "source": [
        "df['Open Data Channel Type'].unique()\n"
      ],
      "execution_count": 36,
      "outputs": [
        {
          "output_type": "execute_result",
          "data": {
            "text/plain": [
              "array(['MOBILE', 'PHONE', 'ONLINE', 'UNKNOWN', 'OTHER'], dtype=object)"
            ]
          },
          "metadata": {
            "tags": []
          },
          "execution_count": 36
        }
      ]
    },
    {
      "cell_type": "code",
      "metadata": {
        "id": "uYrNPIqfqhz5",
        "colab_type": "code",
        "colab": {
          "base_uri": "https://localhost:8080/",
          "height": 85
        },
        "outputId": "d265657d-676a-436b-85dc-f0e68977cb21"
      },
      "source": [
        "df['Agency'].unique()"
      ],
      "execution_count": 40,
      "outputs": [
        {
          "output_type": "execute_result",
          "data": {
            "text/plain": [
              "array(['DHS', 'HPD', 'NYPD', 'DEP', 'DSNY', 'DOT', 'HRA', 'DPR', 'TLC',\n",
              "       'DCA', 'DOHMH', 'DOB', 'DOITT', 'DCAS', 'DFTA', 'DOF', 'ACS',\n",
              "       'FDNY', 'DOE', 'NYCEM', 'EDC', 'TAX', 'DCP', 'COIB', 'TAT', 'OMB',\n",
              "       'MOC', 'DVS'], dtype=object)"
            ]
          },
          "metadata": {
            "tags": []
          },
          "execution_count": 40
        }
      ]
    },
    {
      "cell_type": "code",
      "metadata": {
        "colab_type": "code",
        "outputId": "24eba3a9-5663-4fa8-cff7-899231adf092",
        "id": "98VyXQuBqWM8",
        "colab": {
          "base_uri": "https://localhost:8080/",
          "height": 1000
        }
      },
      "source": [
        "set(df['Complaint Type'])"
      ],
      "execution_count": 41,
      "outputs": [
        {
          "output_type": "execute_result",
          "data": {
            "text/plain": [
              "{'\"-->\\'-->`-->&...',\n",
              " '$(sleep 11)',\n",
              " '${3804*3137}',\n",
              " '%2e%2e%2f%2e%2e%2f%2e%2e%2f...',\n",
              " '%2e%2e%5c%2e%2e%5c%2e%2e%5c...',\n",
              " '%2fetc%2fpasswd',\n",
              " '%E5%98%8A%E5%98%8DX-Injecti...',\n",
              " '%c0%ae/%c0%ae/%c0%ae/%c0%ae...',\n",
              " '%c0%ae/%c0%ae/%c0%ae/WEB-IN...',\n",
              " '%c0%ae/%c0%ae/WEB-INF/web.xml',\n",
              " '%c0%ae/WEB-INF/web.xml',\n",
              " '%{(#dm=@ognl.OgnlContext@DE...',\n",
              " '%{4761*8506}',\n",
              " '() { :;}; /bin/sleep 0',\n",
              " '() { :;}; /bin/sleep 11',\n",
              " '() { _; } >_',\n",
              " '(select extractvalue(xmltyp...',\n",
              " \"(select load_file('\\\\\\\\\\\\\\\\615h...\",\n",
              " '*)(!(objectClass=*)',\n",
              " '*)(objectClass=*',\n",
              " '.../....///.../....///.../....',\n",
              " '.../...//.../...//.../...//...',\n",
              " '..././..././..././..././......',\n",
              " '.../.\\\\.../.\\\\.../.\\\\.../.\\\\......',\n",
              " '.../Misc. Comments',\n",
              " '...\\\\./...\\\\./...\\\\./...\\\\./......',\n",
              " '...\\\\.\\\\...\\\\.\\\\...\\\\.\\\\...\\\\.\\\\......',\n",
              " '../../../../../../../../../...',\n",
              " '../../../../WEB-INF/web.xml',\n",
              " '../../../WEB-INF/web.xml',\n",
              " '../../../WEB-INF/web.xml;x=',\n",
              " '../../WEB-INF/web.xml',\n",
              " '../../WEB-INF/web.xml;x=',\n",
              " '../WEB-INF/web.xml',\n",
              " '../WEB-INF/web.xml;x=',\n",
              " '..\\\\..\\\\..\\\\..\\\\..\\\\..\\\\..\\\\..\\\\..\\\\...',\n",
              " './validate_form.php',\n",
              " '/./validate_form.php',\n",
              " '/etc/passwd',\n",
              " '1430*4963',\n",
              " '266dyrgvhg1egsyp2oq57axbm2s...',\n",
              " '<odb xmlns:xi=\"http...',\n",
              " '<vlv xmlns=\"http://...',\n",
              " '@(9313*3464)',\n",
              " 'AGENCY',\n",
              " 'APPLIANCE',\n",
              " 'Abandoned Vehicle',\n",
              " 'Adopt-A-Basket',\n",
              " 'Advocate - Lien',\n",
              " 'Advocate - Other',\n",
              " 'Advocate - RPIE',\n",
              " 'Advocate-Business Tax',\n",
              " 'Advocate-Co-opCondo Abatement',\n",
              " 'Advocate-Commercial Exemptions',\n",
              " 'Advocate-Foreclosure',\n",
              " 'Advocate-Personal Exemptions',\n",
              " 'Advocate-Prop Class Incorrect',\n",
              " 'Advocate-Prop Refunds/Credits',\n",
              " 'Advocate-Property Value',\n",
              " 'Advocate-SCRIE/DRIE',\n",
              " 'Air Quality',\n",
              " \"Alzheimer's Care\",\n",
              " 'Animal Abuse',\n",
              " 'Animal Facility - No Permit',\n",
              " 'Animal in a Park',\n",
              " 'Animal-Abuse',\n",
              " 'Appliance',\n",
              " 'Asbestos',\n",
              " 'BEST/Site Safety',\n",
              " 'Beach/Pool/Sauna Complaint',\n",
              " 'Benefit Card Replacement',\n",
              " 'Bereavement Support Group',\n",
              " 'Bike Rack Condition',\n",
              " 'Bike/Roller/Skate Chronic',\n",
              " 'Blocked Driveway',\n",
              " 'Boilers',\n",
              " 'Borough Office',\n",
              " 'Bottled Water',\n",
              " 'Bridge Condition',\n",
              " 'Broken Parking Meter',\n",
              " 'Building Condition',\n",
              " 'Building Marshals office',\n",
              " 'Building/Use',\n",
              " 'Bus Stop Shelter Complaint',\n",
              " 'Bus Stop Shelter Placement',\n",
              " 'Calorie Labeling',\n",
              " 'Case Management Agency Complaint',\n",
              " 'Collection Truck Noise',\n",
              " 'Comments',\n",
              " 'Construction',\n",
              " 'Construction Safety Enforcement',\n",
              " 'Consumer Complaint',\n",
              " 'Cooling Tower',\n",
              " 'Cranes and Derricks',\n",
              " 'Curb Condition',\n",
              " 'DCA / DOH New License Application Request',\n",
              " 'DEP Highway Condition',\n",
              " 'DEP Sidewalk Condition',\n",
              " 'DEP Street Condition',\n",
              " 'DOF Parking - DMV Clearance',\n",
              " 'DOF Parking - Payment Issue',\n",
              " 'DOF Parking - Request Copy',\n",
              " 'DOF Parking - Request Status',\n",
              " 'DOF Parking - Tax Exemption',\n",
              " 'DOF Property - Owner Issue',\n",
              " 'DOF Property - Payment Issue',\n",
              " 'DOF Property - Property Value',\n",
              " 'DOF Property - RPIE Issue',\n",
              " 'DOF Property - Reduction Issue',\n",
              " 'DOF Property - Request Copy',\n",
              " 'DOF Property - Update Account',\n",
              " 'DOOR/WINDOW',\n",
              " 'DPR Internal',\n",
              " 'DRIE',\n",
              " 'DSNY Spillage',\n",
              " 'Damaged Tree',\n",
              " 'Day Care',\n",
              " 'Dead/Dying Tree',\n",
              " 'Dept of Investigations',\n",
              " 'Derelict Bicycle',\n",
              " 'Derelict Vehicle',\n",
              " 'Derelict Vehicles',\n",
              " 'Dirty Conditions',\n",
              " 'Disorderly Youth',\n",
              " 'Dispatched Taxi Complaint',\n",
              " 'Dispatched Taxi Compliment',\n",
              " 'Drinking',\n",
              " 'Drinking Water',\n",
              " 'Drug Activity',\n",
              " 'ELECTRIC',\n",
              " 'ELEVATOR',\n",
              " 'Elder Abuse',\n",
              " 'Electric',\n",
              " 'Electrical',\n",
              " 'Electronics Waste',\n",
              " 'Electronics Waste Appointment',\n",
              " 'Elevator',\n",
              " 'Emergency Response Team (ERT)',\n",
              " 'Employee Behavior',\n",
              " 'Executive Inspections',\n",
              " 'FATF',\n",
              " 'FHV Licensee Complaint',\n",
              " 'FLOORING/STAIRS',\n",
              " 'Facades',\n",
              " 'Ferry Complaint',\n",
              " 'Ferry Inquiry',\n",
              " 'Ferry Permit',\n",
              " 'Fire Alarm - Modification',\n",
              " 'Fire Alarm - New System',\n",
              " 'Fire Alarm - Reinspection',\n",
              " 'Fire Alarm - Replacement',\n",
              " 'Foam Ban Enforcement',\n",
              " 'Food Establishment',\n",
              " 'Food Poisoning',\n",
              " 'For Hire Vehicle Complaint',\n",
              " 'For Hire Vehicle Report',\n",
              " 'Forensic Engineering',\n",
              " 'Forms',\n",
              " 'Found Property',\n",
              " 'GENERAL',\n",
              " 'General',\n",
              " 'General Construction/Plumbing',\n",
              " 'Graffiti',\n",
              " 'Green Taxi Complaint',\n",
              " 'Green Taxi Report',\n",
              " 'HEAT/HOT WATER',\n",
              " 'HPD Literature Request',\n",
              " 'Harboring Bees/Wasps',\n",
              " 'Hazardous Materials',\n",
              " 'Hazmat Storage/Use',\n",
              " 'Highway Condition',\n",
              " 'Highway Sign - Damaged',\n",
              " 'Highway Sign - Dangling',\n",
              " 'Highway Sign - Missing',\n",
              " 'Home Care Provider Complaint',\n",
              " 'Home Delivered Meal - Missed Delivery',\n",
              " 'Home Delivered Meal Complaint',\n",
              " 'Homeless Encampment',\n",
              " 'Homeless Person Assistance',\n",
              " 'Housing - Low Income Senior',\n",
              " 'Housing Options',\n",
              " 'Illegal Animal Kept as Pet',\n",
              " 'Illegal Animal Sold',\n",
              " 'Illegal Fireworks',\n",
              " 'Illegal Parking',\n",
              " 'Illegal Tree Damage',\n",
              " 'Indoor Air Quality',\n",
              " 'Indoor Sewage',\n",
              " 'Industrial Waste',\n",
              " 'Internal Code',\n",
              " 'Investigations and Discipline (IAD)',\n",
              " 'Lead',\n",
              " 'Lifeguard',\n",
              " 'LinkNYC',\n",
              " 'Litter Basket / Request',\n",
              " 'Lost Property',\n",
              " 'MSOTHER',\n",
              " 'Maintenance or Facility',\n",
              " 'Misc. Comments  BCC:a5glxzf...',\n",
              " 'Misc. Comments\"',\n",
              " 'Misc. Comments\"|echo 2...',\n",
              " 'Misc. Comments\"|ping -...',\n",
              " \"Misc. Comments%}dt2pq'/&quo...\",\n",
              " 'Misc. Comments&echo xjd...',\n",
              " 'Misc. Comments&nslookup...',\n",
              " 'Misc. Comments&ping -n ...',\n",
              " \"Misc. Comments'\",\n",
              " \"Misc. Comments' and '1618'=...\",\n",
              " \"Misc. Comments' and '7835'=...\",\n",
              " \"Misc. Comments' and (select...\",\n",
              " \"Misc. Comments' and 6049=60...\",\n",
              " \"Misc. Comments' and 7702=77...\",\n",
              " \"Misc. Comments' waitfor del...\",\n",
              " 'Misc. Comments\\'\"`0&amp...',\n",
              " \"Misc. Comments'(select*from...\",\n",
              " \"Misc. Comments');declare @q...\",\n",
              " \"Misc. Comments')waitfor del...\",\n",
              " \"Misc. Comments'+(function()...\",\n",
              " \"Misc. Comments'+(select loa...\",\n",
              " \"Misc. Comments'+(select*fro...\",\n",
              " \"Misc. Comments'+eval(compil...\",\n",
              " \"Misc. Comments'+sleep(20.to...\",\n",
              " \"Misc. Comments',0)waitfor d...\",\n",
              " \"Misc. Comments'.sleep(20).'\",\n",
              " \"Misc. Comments';declare @q ...\",\n",
              " \"Misc. Comments'|echo y9v6fc...\",\n",
              " \"Misc. Comments'|ping -c 21 ...\",\n",
              " \"Misc. Comments'||(select ex...\",\n",
              " 'Misc. Comments);declare @q ...',\n",
              " 'Misc. Comments,(select*from...',\n",
              " 'Misc. Comments../../../../....',\n",
              " 'Misc. Comments..\\\\..\\\\..\\\\..\\\\....',\n",
              " \"Misc. Comments47876391' or ...\",\n",
              " \"Misc. Comments52038737' or ...\",\n",
              " \"Misc. Comments69075347' or ...\",\n",
              " \"Misc. Comments88909845' or ...\",\n",
              " 'Misc. Comments;declare @q v...',\n",
              " 'Misc. Comments>  BCC:bl0...',\n",
              " 'Misc. Comments]]>><',\n",
              " 'Misc. Commentseowljujfh8',\n",
              " 'Misc. Commentso0w3r%>xb6...',\n",
              " 'Misc. Comments{${sleep(20)}}',\n",
              " 'Misc. Comments|echo 3p7wexz...',\n",
              " 'Misc. Comments|nslookup -q=...',\n",
              " 'Misc. Comments|ping -c 21 1...',\n",
              " 'Misc. Comments|ping -n 21 1...',\n",
              " \"Misc. Comments}}t2v95'/&quo...\",\n",
              " 'Miscellaneous Categories',\n",
              " 'Missed Collection',\n",
              " 'Missed Collection (All Materials)',\n",
              " 'Mobile Food Vendor',\n",
              " 'Mold',\n",
              " 'Mosquitoes',\n",
              " 'Municipal Parking Facility',\n",
              " 'New Tree Request',\n",
              " 'Noise',\n",
              " 'Noise - Commercial',\n",
              " 'Noise - Helicopter',\n",
              " 'Noise - House of Worship',\n",
              " 'Noise - Park',\n",
              " 'Noise - Residential',\n",
              " 'Noise - Street/Sidewalk',\n",
              " 'Noise - Vehicle',\n",
              " 'Non-Emergency Police Matter',\n",
              " 'Non-Residential Heat',\n",
              " 'OEM Literature Request',\n",
              " 'OUTSIDE BUILDING',\n",
              " 'Other Enforcement',\n",
              " 'Outside Building',\n",
              " 'Overflowing Litter Baskets',\n",
              " 'Overflowing Recycling Baskets',\n",
              " 'Overgrown Tree/Branches',\n",
              " 'PAINT/PLASTER',\n",
              " 'PLUMBING',\n",
              " 'Panhandling',\n",
              " 'Parking Card',\n",
              " 'Pet Shop',\n",
              " 'Plant',\n",
              " 'Plumbing',\n",
              " 'Poison Ivy',\n",
              " 'Posting Advertisement',\n",
              " 'Public Assembly',\n",
              " 'Public Payphone Complaint',\n",
              " 'Public Toilet',\n",
              " 'Quality of Life',\n",
              " 'Question',\n",
              " 'Radioactive Material',\n",
              " 'Rangehood',\n",
              " 'Recycling Enforcement',\n",
              " 'Request Changes - A.S.P.',\n",
              " 'Request Large Bulky Item Collection',\n",
              " 'Request Xmas Tree Collection',\n",
              " 'Research Questions',\n",
              " 'Rodent',\n",
              " 'Root/Sewer/Sidewalk Condition',\n",
              " 'SAFETY',\n",
              " 'SCRIE',\n",
              " 'SRDE',\n",
              " 'Safety',\n",
              " 'Sanitation Condition',\n",
              " 'Scaffold Safety',\n",
              " 'School Maintenance',\n",
              " 'Select Message Type...',\n",
              " 'Senior Center Complaint',\n",
              " 'Sewer',\n",
              " 'Sidewalk Condition',\n",
              " 'Single Occupancy Bathroom',\n",
              " 'Smoking',\n",
              " 'Snow',\n",
              " 'Special Natural Area District (SNAD)',\n",
              " 'Special Operations',\n",
              " 'Special Projects Inspection Team (SPIT)',\n",
              " 'Sprinkler - Mechanical',\n",
              " 'Squeegee',\n",
              " 'Stalled Sites',\n",
              " 'Standing Water',\n",
              " 'Street Condition',\n",
              " 'Street Light Condition',\n",
              " 'Street Sign - Damaged',\n",
              " 'Street Sign - Dangling',\n",
              " 'Street Sign - Missing',\n",
              " 'Sustainability Enforcement',\n",
              " 'Sweeping/Inadequate',\n",
              " 'Sweeping/Missed',\n",
              " 'Sweeping/Missed-Inadequate',\n",
              " 'Tanning',\n",
              " 'Tattooing',\n",
              " 'Taxi Complaint',\n",
              " 'Taxi Compliment',\n",
              " 'Taxi Licensee Complaint',\n",
              " 'Taxi Report',\n",
              " 'Taxpayer Advocate Inquiry',\n",
              " 'Traffic',\n",
              " 'Traffic Signal Condition',\n",
              " 'Trans Fat',\n",
              " 'Transportation Provider Complaint',\n",
              " 'Tunnel Condition',\n",
              " 'UNSANITARY CONDITION',\n",
              " 'Unleashed Dog',\n",
              " 'Unlicensed Dog',\n",
              " 'Unsanitary Animal Facility',\n",
              " 'Unsanitary Animal Pvt Property',\n",
              " 'Unsanitary Condition',\n",
              " 'Unsanitary Pigeon Condition',\n",
              " 'Urinating in Public',\n",
              " 'Vacant Lot',\n",
              " 'Vending',\n",
              " 'Violation of Park Rules',\n",
              " 'WATER LEAK',\n",
              " 'Water Conservation',\n",
              " 'Water Leak',\n",
              " 'Water Quality',\n",
              " 'Water System',\n",
              " 'Window Guard',\n",
              " 'X-Ray Machine/Equipment',\n",
              " '\\\\windows\\\\win.ini',\n",
              " '`sleep 11`',\n",
              " 'a\\'a\\\\\\'b\"c>?>%}}%%...',\n",
              " 'bcd9<!--esi-->1ggp&lt...',\n",
              " 'c:\\\\windows\\\\win.ini',\n",
              " 'c:\\\\windows\\\\win.ini Misc. Co...',\n",
              " \"eval(compile('for x in rang...\",\n",
              " 'file:///c:/windows/win.ini',\n",
              " 'file:///etc/passwd',\n",
              " 'g0oii1s4s5)(objectClass=*',\n",
              " 'hcvn1{{687*375}}gji51',\n",
              " 'http://g7orz5h9iu2sh6z332rj...',\n",
              " 'idexf3mrb7)(!(objectClass=*)',\n",
              " \"kawn''lcgv\",\n",
              " 'nslookup -q=cname nneyfcxgy...',\n",
              " 'qfix4${695*589}lixaf',\n",
              " 'yw97y0gi2s',\n",
              " \"{!xmlparser v='<!DOCTYPE...\"}"
            ]
          },
          "metadata": {
            "tags": []
          },
          "execution_count": 41
        }
      ]
    },
    {
      "cell_type": "markdown",
      "metadata": {
        "id": "CBZ2EQTDi2OY",
        "colab_type": "text"
      },
      "source": [
        "### Homework"
      ]
    },
    {
      "cell_type": "markdown",
      "metadata": {
        "id": "hnkDITKUi4Xk",
        "colab_type": "text"
      },
      "source": [
        "https://www.python.org/dev/peps/pep-0008/"
      ]
    },
    {
      "cell_type": "markdown",
      "metadata": {
        "id": "jg2S7wqhja2m",
        "colab_type": "text"
      },
      "source": [
        "https://docs.python-guide.org/writing/style/"
      ]
    },
    {
      "cell_type": "markdown",
      "metadata": {
        "colab_type": "text",
        "id": "yaFCf9o7Otr3"
      },
      "source": [
        "# Class 1 (Oct 31): \"For loops\" + aggregating data and doing basic summary stats"
      ]
    },
    {
      "cell_type": "markdown",
      "metadata": {
        "id": "sJYW7YzSXYBd",
        "colab_type": "text"
      },
      "source": [
        "Print a sentence explaining each complaint"
      ]
    },
    {
      "cell_type": "code",
      "metadata": {
        "id": "3TxvRTKkXcMa",
        "colab_type": "code",
        "colab": {}
      },
      "source": [
        "i = 0\n",
        "for i in df['Unique Key']:\n",
        "  print('On ' + )"
      ],
      "execution_count": 0,
      "outputs": []
    },
    {
      "cell_type": "markdown",
      "metadata": {
        "id": "TbIztU9IXTg0",
        "colab_type": "text"
      },
      "source": [
        "Which 311 requests are the most common?"
      ]
    },
    {
      "cell_type": "code",
      "metadata": {
        "id": "cJJKf4xHXXuQ",
        "colab_type": "code",
        "colab": {}
      },
      "source": [
        ""
      ],
      "execution_count": 0,
      "outputs": []
    },
    {
      "cell_type": "markdown",
      "metadata": {
        "id": "5XF4haekXSQ_",
        "colab_type": "text"
      },
      "source": [
        "Which agencies receive the most 311 requests?"
      ]
    },
    {
      "cell_type": "code",
      "metadata": {
        "id": "BvK4vKW9YyZQ",
        "colab_type": "code",
        "colab": {}
      },
      "source": [
        ""
      ],
      "execution_count": 0,
      "outputs": []
    },
    {
      "cell_type": "markdown",
      "metadata": {
        "id": "1YDjfzXrYsal",
        "colab_type": "text"
      },
      "source": [
        "What is the most frequent request per agency? (using for loop)"
      ]
    },
    {
      "cell_type": "code",
      "metadata": {
        "id": "8sGbdvN1XTJn",
        "colab_type": "code",
        "colab": {}
      },
      "source": [
        ""
      ],
      "execution_count": 0,
      "outputs": []
    },
    {
      "cell_type": "markdown",
      "metadata": {
        "id": "CjzSsTY5ZHtF",
        "colab_type": "text"
      },
      "source": [
        "### Homework"
      ]
    },
    {
      "cell_type": "markdown",
      "metadata": {
        "id": "vyvo2-1HYXwd",
        "colab_type": "text"
      },
      "source": [
        "By which methods are users submitting their compaints? How does this vary by complaint type?"
      ]
    },
    {
      "cell_type": "code",
      "metadata": {
        "id": "qzq6pBOqYYv0",
        "colab_type": "code",
        "colab": {}
      },
      "source": [
        ""
      ],
      "execution_count": 0,
      "outputs": []
    },
    {
      "cell_type": "markdown",
      "metadata": {
        "id": "4F_eun4oYohz",
        "colab_type": "text"
      },
      "source": [
        "For each complaint type, identify the most common request submission method (using for loop)"
      ]
    },
    {
      "cell_type": "code",
      "metadata": {
        "id": "oQavieEUYZaa",
        "colab_type": "code",
        "colab": {}
      },
      "source": [
        ""
      ],
      "execution_count": 0,
      "outputs": []
    },
    {
      "cell_type": "markdown",
      "metadata": {
        "colab_type": "text",
        "id": "u3O0Jws4P39R"
      },
      "source": [
        "# Class 2 (Nov 7): Visualizing data"
      ]
    },
    {
      "cell_type": "markdown",
      "metadata": {
        "id": "AEAb8qthaCKm",
        "colab_type": "text"
      },
      "source": [
        "Which community districts have the most requests? What is the request per capita?"
      ]
    },
    {
      "cell_type": "code",
      "metadata": {
        "id": "eGuzZQgqaCu5",
        "colab_type": "code",
        "colab": {}
      },
      "source": [
        ""
      ],
      "execution_count": 0,
      "outputs": []
    },
    {
      "cell_type": "markdown",
      "metadata": {
        "id": "L1smfBSEc5x9",
        "colab_type": "text"
      },
      "source": [
        "Scatterplot of count of requests per CD against CD population"
      ]
    },
    {
      "cell_type": "markdown",
      "metadata": {
        "colab_type": "text",
        "id": "s4wgjOBzP4Vx"
      },
      "source": [
        "# Class 3 (Nov 14): Manipulating DataFrames and writing functions"
      ]
    },
    {
      "cell_type": "markdown",
      "metadata": {
        "id": "kCD6xSv-cCdL",
        "colab_type": "text"
      },
      "source": [
        "Look for keywords in the labels and tag records accordingly. Find all environment complaints"
      ]
    },
    {
      "cell_type": "code",
      "metadata": {
        "id": "MFDqqrDJcBKw",
        "colab_type": "code",
        "colab": {}
      },
      "source": [
        ""
      ],
      "execution_count": 0,
      "outputs": []
    },
    {
      "cell_type": "markdown",
      "metadata": {
        "colab_type": "text",
        "id": "-eQ6iRErP4h1"
      },
      "source": [
        "# Class 4 (Nov 21): Working with dates and time series analysis"
      ]
    },
    {
      "cell_type": "markdown",
      "metadata": {
        "id": "P9CH82DXbcVh",
        "colab_type": "text"
      },
      "source": [
        "Request closure: What % are closed and what is the avg response time per agency? Does this vary by CD?"
      ]
    },
    {
      "cell_type": "markdown",
      "metadata": {
        "id": "aH3zM6YVZt1s",
        "colab_type": "text"
      },
      "source": [
        "Which requests vary seasonally or by month?"
      ]
    },
    {
      "cell_type": "markdown",
      "metadata": {
        "id": "3srdXu5EcXRd",
        "colab_type": "text"
      },
      "source": [
        "### Homework"
      ]
    },
    {
      "cell_type": "markdown",
      "metadata": {
        "id": "ICt_5dEvRmP6",
        "colab_type": "text"
      },
      "source": [
        "**Program Evaluation:** The 311 team first introduced the mobile app in 2014. They have made improvements to the app since, [as highlighted in this press release](https://www1.nyc.gov/site/doitt/about/press-releases/311-mobile-app-launch.page). From looking at the number of requests submitted by mobile over time, can you observe any sizeable growth in usage after these improvements were launched? Does it seem like their investment had an impact on engagement?"
      ]
    },
    {
      "cell_type": "markdown",
      "metadata": {
        "id": "nFjO39t_ceYV",
        "colab_type": "text"
      },
      "source": [
        "Has the popularity of different submission methods changed over time? \"Open Data Channel Type\""
      ]
    },
    {
      "cell_type": "markdown",
      "metadata": {
        "id": "vbMXUmh1ciz6",
        "colab_type": "text"
      },
      "source": [
        "Has the introduction of mobile submissions seemed to increased the total number of requests?"
      ]
    },
    {
      "cell_type": "markdown",
      "metadata": {
        "colab_type": "text",
        "id": "ke9tOCLfP41X"
      },
      "source": [
        "# Class 5 (Dec 5): Linear regression"
      ]
    },
    {
      "cell_type": "markdown",
      "metadata": {
        "id": "rWwsBI8ed00_",
        "colab_type": "text"
      },
      "source": [
        "How much did 311 complaints about flooding spike during recent storm events?"
      ]
    },
    {
      "cell_type": "markdown",
      "metadata": {
        "id": "SkU-LZZId8dr",
        "colab_type": "text"
      },
      "source": [
        "### Homework"
      ]
    },
    {
      "cell_type": "markdown",
      "metadata": {
        "id": "xB0e6vJEd3QI",
        "colab_type": "text"
      },
      "source": [
        "How much did 311 complaints about tree damage spike during recent storm events?"
      ]
    },
    {
      "cell_type": "markdown",
      "metadata": {
        "colab_type": "text",
        "id": "kL_qImYnP4qM"
      },
      "source": [
        "# Class 6 (Dec 12): Review / Class choice"
      ]
    },
    {
      "cell_type": "markdown",
      "metadata": {
        "id": "WGfVYYmyeJpC",
        "colab_type": "text"
      },
      "source": [
        "### Homework"
      ]
    },
    {
      "cell_type": "markdown",
      "metadata": {
        "id": "nOxtwV_NeHyq",
        "colab_type": "text"
      },
      "source": [
        "How does 311 data compare against other objective data sources? Compare types of complaints against Community Profiles stats. Is there any bias observeable in the 311 data?"
      ]
    }
  ]
}