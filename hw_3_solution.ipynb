{
 "cells": [
  {
   "cell_type": "markdown",
   "metadata": {
    "colab_type": "text",
    "id": "view-in-github"
   },
   "source": [
    "<a href=\"https://colab.research.google.com/github/afeld/python-public-policy/blob/master/hw_3_solution.ipynb\" target=\"_parent\"><img src=\"https://colab.research.google.com/assets/colab-badge.svg\" alt=\"Open In Colab\"/></a>"
   ]
  },
  {
   "cell_type": "markdown",
   "metadata": {
    "colab_type": "text",
    "id": "7fo4kU_UjgyY"
   },
   "source": [
    "# **NYU Wagner - Python Coding for Public Policy**\n",
    "# Solutions to HW3: Analyzing and visualizing specific categories of 311 complaints"
   ]
  },
  {
   "cell_type": "markdown",
   "metadata": {
    "colab_type": "text",
    "id": "9rvnMzjSMK36"
   },
   "source": [
    "## Start by importing necessary packages"
   ]
  },
  {
   "cell_type": "code",
   "execution_count": null,
   "metadata": {
    "colab": {},
    "colab_type": "code",
    "id": "afIn7RhGFj7j"
   },
   "outputs": [],
   "source": [
    "import pandas as pd\n",
    "import matplotlib.pyplot as plt \n",
    "import numpy as np\n",
    "\n",
    "from google.colab import drive\n",
    "\n",
    "pd.set_option('display.max_columns', None)\n",
    "pd.set_option('display.max_rows', None)"
   ]
  },
  {
   "cell_type": "markdown",
   "metadata": {
    "colab_type": "text",
    "id": "R1G04BmMMFJb"
   },
   "source": [
    "## Read and save our cleaned 311 Service Requests dataset as a pandas dataframe named \"df\""
   ]
  },
  {
   "cell_type": "code",
   "execution_count": null,
   "metadata": {
    "colab": {
     "base_uri": "https://localhost:8080/",
     "height": 156
    },
    "colab_type": "code",
    "id": "vF4GZaq-Fvoq",
    "outputId": "bb9b1551-dc95-4052-8237-cf9ff9b3fc50"
   },
   "outputs": [
    {
     "name": "stdout",
     "output_type": "stream",
     "text": [
      "Go to this URL in a browser: https://accounts.google.com/o/oauth2/auth?client_id=947318989803-6bn6qk8qdgf4n4g3pfee6491hc0brc4i.apps.googleusercontent.com&redirect_uri=urn%3aietf%3awg%3aoauth%3a2.0%3aoob&response_type=code&scope=email%20https%3a%2f%2fwww.googleapis.com%2fauth%2fdocs.test%20https%3a%2f%2fwww.googleapis.com%2fauth%2fdrive%20https%3a%2f%2fwww.googleapis.com%2fauth%2fdrive.photos.readonly%20https%3a%2f%2fwww.googleapis.com%2fauth%2fpeopleapi.readonly\n",
      "\n",
      "Enter your authorization code:\n",
      "··········\n",
      "Mounted at /content/drive\n"
     ]
    },
    {
     "name": "stderr",
     "output_type": "stream",
     "text": [
      "/usr/local/lib/python3.6/dist-packages/IPython/core/interactiveshell.py:2718: DtypeWarning: Columns (9,18,21,32,35) have mixed types. Specify dtype option on import or set low_memory=False.\n",
      "  interactivity=interactivity, compiler=compiler, result=result)\n"
     ]
    }
   ],
   "source": [
    "drive.mount('/content/drive')\n",
    "df = pd.read_csv('/content/drive/My Drive/Data for Python/cleaned_311_data.csv')"
   ]
  },
  {
   "cell_type": "markdown",
   "metadata": {
    "colab_type": "text",
    "id": "LvGH8N9CLcj4"
   },
   "source": [
    "## **Problem Statement:** \n",
    "There seems to be a general trend that the higher the community district population, the higher the number of 311 requests. However, there is a lot of variance in the data. What if we only look at complaint types that are likely influenced by population?\n",
    "\n",
    "\"Noise - Residential\" and \"HEAT/HOT WATER\" were the most frequest requests in the entire 311 dataset. Let's try isolating the count of requests in each of those two categories versus all the other complaints."
   ]
  },
  {
   "cell_type": "markdown",
   "metadata": {
    "colab_type": "text",
    "id": "xmKsEI-BkoXZ"
   },
   "source": [
    "##**Step 1**. \n",
    "First you will need to prep your data to get the count of complaints categorized as Noise - Residential, HEAT/HOT WATER, and everything else. You can update the code from lecture that gets the total count of 311 requests per CD to instead get the count of 311 requests per CD that meet the criteria for the 3 categories. You should create three seprate dataframes, one per category:\n",
    "\n",
    "1. `complaint_type = 'Noise - Residential'`\n",
    "2. `complaint_type = 'HEAT/HOT WATER'`\n",
    "3. Everything else: `(complaint_type != 'Noise - Residential') & (complaint_type != 'HEAT/HOT WATER')`"
   ]
  },
  {
   "cell_type": "markdown",
   "metadata": {
    "colab_type": "text",
    "id": "WLfodgid1PUf"
   },
   "source": [
    "First create 3 dataframes, that contain our desired rows based on the complaint_type row filtering."
   ]
  },
  {
   "cell_type": "code",
   "execution_count": null,
   "metadata": {
    "colab": {
     "base_uri": "https://localhost:8080/",
     "height": 85
    },
    "colab_type": "code",
    "id": "troJZFWgq9zg",
    "outputId": "54cb1c17-6e73-47a9-9b55-a96a9995f4f1"
   },
   "outputs": [
    {
     "name": "stdout",
     "output_type": "stream",
     "text": [
      "69\n",
      "66\n",
      "77\n",
      "77\n"
     ]
    }
   ],
   "source": [
    "count_noise = df[df.complaint_type == 'Noise - Residential'].groupby('community_board').size().reset_index(name='count_of_311_requests')\n",
    "print(len(count_noise))\n",
    "\n",
    "count_heatwater = df[df.complaint_type == 'HEAT/HOT WATER'].groupby('community_board').size().reset_index(name='count_of_311_requests')\n",
    "print(len(count_heatwater))\n",
    "\n",
    "count_other = df[(df.complaint_type != 'HEAT/HOT WATER') & (df.complaint_type != 'Noise - Residential')].groupby('community_board').size().reset_index(name='count_of_311_requests')\n",
    "print(len(count_other))\n",
    "\n",
    "# note: we won't use this in the charts, but we can use it as a check that the subsets all add up to the correct total\n",
    "count_all = df.groupby('community_board').size().reset_index(name='count_of_311_requests')\n",
    "print(len(count_all))"
   ]
  },
  {
   "cell_type": "markdown",
   "metadata": {
    "colab_type": "text",
    "id": "JCA-z7Go0_BM"
   },
   "source": [
    "Note the lengths of these dataframes. We can see that we're going to run into problems, because they're each a different length (i.e. have a different number of rows) and they're all greater than 59. There are only 59 community districts in the city, so these dataframes are including some extra invalid community district rows. The invalid rows include community board values containing \"Unspecified\" or district numbers that are higher than what exist in real life. Ex: '84 QUEENS', 'Unspecified BRONX'\n"
   ]
  },
  {
   "cell_type": "markdown",
   "metadata": {
    "colab_type": "text",
    "id": "bFtFoNIh2OUo"
   },
   "source": [
    "Here's a list of all the valid borocd values that exist in the city:"
   ]
  },
  {
   "cell_type": "code",
   "execution_count": null,
   "metadata": {
    "colab": {},
    "colab_type": "code",
    "id": "ATGOqZ4E2H3f"
   },
   "outputs": [],
   "source": [
    "valid_borocds = ['101','102','103','104','105','106','107','108','109','110','111','112','201','202','203','204','205','206','207','208','209','210','211','212','301','302','303','304','305','306','307','308','309','310','311','312','313','314','315','316','317','318','401','402','403','404','405','406','407','408','409','410','411','412','413','414','501','502','503']"
   ]
  },
  {
   "cell_type": "markdown",
   "metadata": {
    "colab_type": "text",
    "id": "lxVd_nzZ1zHM"
   },
   "source": [
    "If we recode the community_board column into borocd, we can filter our dataframes to only keep valid borocd rows"
   ]
  },
  {
   "cell_type": "code",
   "execution_count": null,
   "metadata": {
    "colab": {},
    "colab_type": "code",
    "id": "DJwokPlrGNKv"
   },
   "outputs": [],
   "source": [
    "# this function will recode the community_board value into borocd in a new column\n",
    "\n",
    "def recode_borocd_counts(row):\n",
    "  if row.community_board[0] != 'U':\n",
    "    if 'MANHATTAN' in row.community_board:\n",
    "      return '1' + row.community_board[0:2]\n",
    "    elif 'BRONX' in row.community_board:\n",
    "      return '2' + row.community_board[0:2]\n",
    "    elif 'BROOKLYN' in row.community_board:\n",
    "      return '3' + row.community_board[0:2]\n",
    "    elif 'QUEENS' in row.community_board:\n",
    "      return '4' + row.community_board[0:2]\n",
    "    elif 'STATEN ISLAND' in row.community_board:\n",
    "      return '5' + row.community_board[0:2]\n",
    "  else:\n",
    "    return 'Invalid borocd'\n",
    "\n",
    "# we can apply the function to each of our dataframes. this is the beauty of functions; you can reuse them on multiple objects!\n",
    "\n",
    "count_noise['borocd'] = count_noise.apply(recode_borocd_counts, axis=1)\n",
    "\n",
    "count_heatwater['borocd'] = count_heatwater.apply(recode_borocd_counts, axis=1)\n",
    "\n",
    "count_other['borocd'] = count_other.apply(recode_borocd_counts, axis=1)\n",
    "\n",
    "count_all['borocd'] = count_all.apply(recode_borocd_counts, axis=1)"
   ]
  },
  {
   "cell_type": "markdown",
   "metadata": {
    "colab_type": "text",
    "id": "sud8LNl03bkK"
   },
   "source": [
    "Now we can filter the dataframes to only keep the valid borocd rows. Remember the `.isin()` function from one of our prior lectures?"
   ]
  },
  {
   "cell_type": "code",
   "execution_count": null,
   "metadata": {
    "colab": {
     "base_uri": "https://localhost:8080/",
     "height": 85
    },
    "colab_type": "code",
    "id": "APZ8jJwJ3Bmy",
    "outputId": "b159c3e2-8cd2-482b-995d-6604dc1d54cd"
   },
   "outputs": [
    {
     "name": "stdout",
     "output_type": "stream",
     "text": [
      "59\n",
      "59\n",
      "59\n",
      "59\n"
     ]
    }
   ],
   "source": [
    "count_noise = count_noise[count_noise.borocd.isin(valid_borocds)]\n",
    "print(len(count_noise))\n",
    "\n",
    "count_heatwater = count_heatwater[count_heatwater.borocd.isin(valid_borocds)]\n",
    "print(len(count_heatwater))\n",
    "\n",
    "count_other = count_other[count_other.borocd.isin(valid_borocds)]\n",
    "print(len(count_other))\n",
    "\n",
    "count_all = count_all[count_all.borocd.isin(valid_borocds)]\n",
    "print(len(count_all))"
   ]
  },
  {
   "cell_type": "markdown",
   "metadata": {
    "colab_type": "text",
    "id": "lzg5cgR93vgD"
   },
   "source": [
    "Great, now we have clean dataframes that are all the same, correct length. Let's make sure they add up."
   ]
  },
  {
   "cell_type": "code",
   "execution_count": null,
   "metadata": {
    "colab": {
     "base_uri": "https://localhost:8080/",
     "height": 425
    },
    "colab_type": "code",
    "id": "9fAx9jYT459Q",
    "outputId": "6b056f72-19bd-474d-82a2-779628b62eef"
   },
   "outputs": [
    {
     "name": "stdout",
     "output_type": "stream",
     "text": [
      "    community_board  count_of_311_requests borocd\n",
      "1          01 BRONX                   3691    201\n",
      "2       01 BROOKLYN                   5844    301\n",
      "3      01 MANHATTAN                    722    101\n",
      "4         01 QUEENS                   4589    401\n",
      "5  01 STATEN ISLAND                   5052    501\n",
      "    community_board  count_of_311_requests borocd\n",
      "0          01 BRONX                   3346    201\n",
      "1       01 BROOKLYN                   2868    301\n",
      "2      01 MANHATTAN                    276    101\n",
      "3         01 QUEENS                   2466    401\n",
      "4  01 STATEN ISLAND                   1644    501\n",
      "    community_board  count_of_311_requests borocd\n",
      "1          01 BRONX                  20316    201\n",
      "2       01 BROOKLYN                  59389    301\n",
      "3      01 MANHATTAN                  20261    101\n",
      "4         01 QUEENS                  53370    401\n",
      "5  01 STATEN ISLAND                  58449    501\n",
      "    community_board  count_of_311_requests borocd\n",
      "1          01 BRONX                  27353    201\n",
      "2       01 BROOKLYN                  68101    301\n",
      "3      01 MANHATTAN                  21259    101\n",
      "4         01 QUEENS                  60425    401\n",
      "5  01 STATEN ISLAND                  65145    501\n"
     ]
    }
   ],
   "source": [
    "print(count_noise.head())\n",
    "print(count_heatwater.head())\n",
    "print(count_other.head())\n",
    "print(count_all.head())"
   ]
  },
  {
   "cell_type": "code",
   "execution_count": null,
   "metadata": {
    "colab": {
     "base_uri": "https://localhost:8080/",
     "height": 34
    },
    "colab_type": "code",
    "id": "PuNKZhxg-VLg",
    "outputId": "fd19bdfa-02c5-4792-9ab7-6b560f3aedc3"
   },
   "outputs": [
    {
     "data": {
      "text/plain": [
       "True"
      ]
     },
     "execution_count": 8,
     "metadata": {
      "tags": []
     },
     "output_type": "execute_result"
    }
   ],
   "source": [
    "27353 == 20316 + 3346 + 3691"
   ]
  },
  {
   "cell_type": "markdown",
   "metadata": {
    "colab_type": "text",
    "id": "1X6gVfhFlXf_"
   },
   "source": [
    "## **Step 2**. \n",
    "Create a stacked bar chart comprised of three stacked bars. The total height of each bar (the sum of the three stacked bars) should reflect the total count of 311 complaints per CD.\n",
    "- number of `'Noise - Residential'` complaints per CD\n",
    "- number of `'HEAT/HOT WATER'` complaints per CD\n",
    "- number of other complaints per CD "
   ]
  },
  {
   "cell_type": "code",
   "execution_count": null,
   "metadata": {
    "colab": {
     "base_uri": "https://localhost:8080/",
     "height": 430
    },
    "colab_type": "code",
    "id": "HKU3JoimwDXG",
    "outputId": "136306cd-4761-4922-f2bb-45ab90227aea"
   },
   "outputs": [
    {
     "data": {
      "text/plain": [
       "<matplotlib.legend.Legend at 0x7f9d334e7390>"
      ]
     },
     "execution_count": 41,
     "metadata": {
      "tags": []
     },
     "output_type": "execute_result"
    },
    {
     "data": {
      "image/png": "[encoded data removed]",
      "text/plain": [
       "<Figure size 1080x432 with 1 Axes>"
      ]
     },
     "metadata": {
      "tags": []
     },
     "output_type": "display_data"
    }
   ],
   "source": [
    "# list of bar positions on x axis\n",
    "position_on_x = np.arange(len(count_other))\n",
    "\n",
    "# other - note: sorting by borocd so that bars from the same borocd will get stacked together\n",
    "array_counts_other = np.array(count_other.sort_values('borocd').count_of_311_requests)\n",
    "# noise\n",
    "array_counts_noise = np.array(count_noise.sort_values('borocd').count_of_311_requests)\n",
    "# heat\n",
    "array_counts_heatwater = np.array(count_heatwater.sort_values('borocd').count_of_311_requests)\n",
    "\n",
    "plt.figure(figsize=(15, 6))\n",
    "\n",
    "plt.bar(\n",
    "  position_on_x,\n",
    "  array_counts_noise,\n",
    "  align='center',\n",
    "  color='#00ab1a',\n",
    "  label='Count Noise')\n",
    "\n",
    "plt.bar(\n",
    "  position_on_x,\n",
    "  array_counts_heatwater,\n",
    "  bottom=array_counts_noise, \n",
    "  align='center',\n",
    "  color='blue',\n",
    "  label='Count Heat/Water')\n",
    "\n",
    "plt.bar(\n",
    "  position_on_x,\n",
    "  array_counts_other,\n",
    "  bottom=array_counts_heatwater+array_counts_noise, \n",
    "  align='center',\n",
    "  color='#7bd8db',\n",
    "  label='Other Count')\n",
    "\n",
    "# the sorting of the x ticks must match the sorting of the bars \n",
    "plt.xticks(position_on_x, count_other.sort_values('borocd').borocd, rotation=90)\n",
    "\n",
    "plt.title('Count of 311 Requests per Community District')\n",
    "plt.xlabel('BoroCD')\n",
    "plt.ylabel('# of Requests')\n",
    "plt.legend()"
   ]
  },
  {
   "cell_type": "markdown",
   "metadata": {
    "colab_type": "text",
    "id": "Sh2YydFfqPON"
   },
   "source": [
    "## Optional sorting for Step 2.\n",
    "If you wanted to sort the bars so they're ordered by a certain count subset or total counts, you need to do more data munging first to ensure that you only stacks bars together if they belong to the same borocd. The steps for doing that are outlined below."
   ]
  },
  {
   "cell_type": "code",
   "execution_count": null,
   "metadata": {
    "colab": {
     "base_uri": "https://localhost:8080/",
     "height": 224
    },
    "colab_type": "code",
    "id": "K69mDazLrg_D",
    "outputId": "ddd4646d-fa7f-4120-82a6-9715fde0187a"
   },
   "outputs": [
    {
     "data": {
      "text/html": [
       "<div>\n",
       "<style scoped>\n",
       "    .dataframe tbody tr th:only-of-type {\n",
       "        vertical-align: middle;\n",
       "    }\n",
       "\n",
       "    .dataframe tbody tr th {\n",
       "        vertical-align: top;\n",
       "    }\n",
       "\n",
       "    .dataframe thead th {\n",
       "        text-align: right;\n",
       "    }\n",
       "</style>\n",
       "<table border=\"1\" class=\"dataframe\">\n",
       "  <thead>\n",
       "    <tr style=\"text-align: right;\">\n",
       "      <th></th>\n",
       "      <th>community_board_x</th>\n",
       "      <th>count_of_311_requests_x</th>\n",
       "      <th>borocd</th>\n",
       "      <th>community_board_y</th>\n",
       "      <th>count_of_311_requests_y</th>\n",
       "      <th>community_board_x</th>\n",
       "      <th>count_of_311_requests_x</th>\n",
       "      <th>community_board_y</th>\n",
       "      <th>count_of_311_requests_y</th>\n",
       "    </tr>\n",
       "  </thead>\n",
       "  <tbody>\n",
       "    <tr>\n",
       "      <th>0</th>\n",
       "      <td>01 BRONX</td>\n",
       "      <td>27353</td>\n",
       "      <td>201</td>\n",
       "      <td>01 BRONX</td>\n",
       "      <td>3691</td>\n",
       "      <td>01 BRONX</td>\n",
       "      <td>3346</td>\n",
       "      <td>01 BRONX</td>\n",
       "      <td>20316</td>\n",
       "    </tr>\n",
       "    <tr>\n",
       "      <th>1</th>\n",
       "      <td>01 BROOKLYN</td>\n",
       "      <td>68101</td>\n",
       "      <td>301</td>\n",
       "      <td>01 BROOKLYN</td>\n",
       "      <td>5844</td>\n",
       "      <td>01 BROOKLYN</td>\n",
       "      <td>2868</td>\n",
       "      <td>01 BROOKLYN</td>\n",
       "      <td>59389</td>\n",
       "    </tr>\n",
       "    <tr>\n",
       "      <th>2</th>\n",
       "      <td>01 MANHATTAN</td>\n",
       "      <td>21259</td>\n",
       "      <td>101</td>\n",
       "      <td>01 MANHATTAN</td>\n",
       "      <td>722</td>\n",
       "      <td>01 MANHATTAN</td>\n",
       "      <td>276</td>\n",
       "      <td>01 MANHATTAN</td>\n",
       "      <td>20261</td>\n",
       "    </tr>\n",
       "    <tr>\n",
       "      <th>3</th>\n",
       "      <td>01 QUEENS</td>\n",
       "      <td>60425</td>\n",
       "      <td>401</td>\n",
       "      <td>01 QUEENS</td>\n",
       "      <td>4589</td>\n",
       "      <td>01 QUEENS</td>\n",
       "      <td>2466</td>\n",
       "      <td>01 QUEENS</td>\n",
       "      <td>53370</td>\n",
       "    </tr>\n",
       "    <tr>\n",
       "      <th>4</th>\n",
       "      <td>01 STATEN ISLAND</td>\n",
       "      <td>65145</td>\n",
       "      <td>501</td>\n",
       "      <td>01 STATEN ISLAND</td>\n",
       "      <td>5052</td>\n",
       "      <td>01 STATEN ISLAND</td>\n",
       "      <td>1644</td>\n",
       "      <td>01 STATEN ISLAND</td>\n",
       "      <td>58449</td>\n",
       "    </tr>\n",
       "  </tbody>\n",
       "</table>\n",
       "</div>"
      ],
      "text/plain": [
       "  community_board_x  count_of_311_requests_x borocd community_board_y  \\\n",
       "0          01 BRONX                    27353    201          01 BRONX   \n",
       "1       01 BROOKLYN                    68101    301       01 BROOKLYN   \n",
       "2      01 MANHATTAN                    21259    101      01 MANHATTAN   \n",
       "3         01 QUEENS                    60425    401         01 QUEENS   \n",
       "4  01 STATEN ISLAND                    65145    501  01 STATEN ISLAND   \n",
       "\n",
       "   count_of_311_requests_y community_board_x  count_of_311_requests_x  \\\n",
       "0                     3691          01 BRONX                     3346   \n",
       "1                     5844       01 BROOKLYN                     2868   \n",
       "2                      722      01 MANHATTAN                      276   \n",
       "3                     4589         01 QUEENS                     2466   \n",
       "4                     5052  01 STATEN ISLAND                     1644   \n",
       "\n",
       "  community_board_y  count_of_311_requests_y  \n",
       "0          01 BRONX                    20316  \n",
       "1       01 BROOKLYN                    59389  \n",
       "2      01 MANHATTAN                    20261  \n",
       "3         01 QUEENS                    53370  \n",
       "4  01 STATEN ISLAND                    58449  "
      ]
     },
     "execution_count": 28,
     "metadata": {
      "tags": []
     },
     "output_type": "execute_result"
    }
   ],
   "source": [
    "# start by creating a new dataframe that contains the count subsets joined together with the total counts.\n",
    "# we want the count values for a given community district to all be joined together in single a row\n",
    "\n",
    "counts = pd.merge(left=count_all, right=count_noise, left_on='borocd', right_on='borocd')\n",
    "\n",
    "counts = pd.merge(left=counts, right=count_heatwater, left_on='borocd', right_on='borocd')\n",
    "\n",
    "counts = pd.merge(left=counts, right=count_other, left_on='borocd', right_on='borocd')\n",
    "\n",
    "counts.head()"
   ]
  },
  {
   "cell_type": "code",
   "execution_count": null,
   "metadata": {
    "colab": {
     "base_uri": "https://localhost:8080/",
     "height": 204
    },
    "colab_type": "code",
    "id": "5T71iGlds96c",
    "outputId": "40a0e114-4173-4a08-bed5-f52899d9aa34"
   },
   "outputs": [
    {
     "data": {
      "text/html": [
       "<div>\n",
       "<style scoped>\n",
       "    .dataframe tbody tr th:only-of-type {\n",
       "        vertical-align: middle;\n",
       "    }\n",
       "\n",
       "    .dataframe tbody tr th {\n",
       "        vertical-align: top;\n",
       "    }\n",
       "\n",
       "    .dataframe thead th {\n",
       "        text-align: right;\n",
       "    }\n",
       "</style>\n",
       "<table border=\"1\" class=\"dataframe\">\n",
       "  <thead>\n",
       "    <tr style=\"text-align: right;\">\n",
       "      <th></th>\n",
       "      <th>community_board_x</th>\n",
       "      <th>count_all</th>\n",
       "      <th>borocd</th>\n",
       "      <th>community_board_y</th>\n",
       "      <th>count_noise</th>\n",
       "      <th>community_board_x</th>\n",
       "      <th>count_heatwater</th>\n",
       "      <th>community_board_y</th>\n",
       "      <th>count_other</th>\n",
       "    </tr>\n",
       "  </thead>\n",
       "  <tbody>\n",
       "    <tr>\n",
       "      <th>0</th>\n",
       "      <td>01 BRONX</td>\n",
       "      <td>27353</td>\n",
       "      <td>201</td>\n",
       "      <td>01 BRONX</td>\n",
       "      <td>3691</td>\n",
       "      <td>01 BRONX</td>\n",
       "      <td>3346</td>\n",
       "      <td>01 BRONX</td>\n",
       "      <td>20316</td>\n",
       "    </tr>\n",
       "    <tr>\n",
       "      <th>1</th>\n",
       "      <td>01 BROOKLYN</td>\n",
       "      <td>68101</td>\n",
       "      <td>301</td>\n",
       "      <td>01 BROOKLYN</td>\n",
       "      <td>5844</td>\n",
       "      <td>01 BROOKLYN</td>\n",
       "      <td>2868</td>\n",
       "      <td>01 BROOKLYN</td>\n",
       "      <td>59389</td>\n",
       "    </tr>\n",
       "    <tr>\n",
       "      <th>2</th>\n",
       "      <td>01 MANHATTAN</td>\n",
       "      <td>21259</td>\n",
       "      <td>101</td>\n",
       "      <td>01 MANHATTAN</td>\n",
       "      <td>722</td>\n",
       "      <td>01 MANHATTAN</td>\n",
       "      <td>276</td>\n",
       "      <td>01 MANHATTAN</td>\n",
       "      <td>20261</td>\n",
       "    </tr>\n",
       "    <tr>\n",
       "      <th>3</th>\n",
       "      <td>01 QUEENS</td>\n",
       "      <td>60425</td>\n",
       "      <td>401</td>\n",
       "      <td>01 QUEENS</td>\n",
       "      <td>4589</td>\n",
       "      <td>01 QUEENS</td>\n",
       "      <td>2466</td>\n",
       "      <td>01 QUEENS</td>\n",
       "      <td>53370</td>\n",
       "    </tr>\n",
       "    <tr>\n",
       "      <th>4</th>\n",
       "      <td>01 STATEN ISLAND</td>\n",
       "      <td>65145</td>\n",
       "      <td>501</td>\n",
       "      <td>01 STATEN ISLAND</td>\n",
       "      <td>5052</td>\n",
       "      <td>01 STATEN ISLAND</td>\n",
       "      <td>1644</td>\n",
       "      <td>01 STATEN ISLAND</td>\n",
       "      <td>58449</td>\n",
       "    </tr>\n",
       "  </tbody>\n",
       "</table>\n",
       "</div>"
      ],
      "text/plain": [
       "  community_board_x  count_all borocd community_board_y  count_noise  \\\n",
       "0          01 BRONX      27353    201          01 BRONX         3691   \n",
       "1       01 BROOKLYN      68101    301       01 BROOKLYN         5844   \n",
       "2      01 MANHATTAN      21259    101      01 MANHATTAN          722   \n",
       "3         01 QUEENS      60425    401         01 QUEENS         4589   \n",
       "4  01 STATEN ISLAND      65145    501  01 STATEN ISLAND         5052   \n",
       "\n",
       "  community_board_x  count_heatwater community_board_y  count_other  \n",
       "0          01 BRONX             3346          01 BRONX        20316  \n",
       "1       01 BROOKLYN             2868       01 BROOKLYN        59389  \n",
       "2      01 MANHATTAN              276      01 MANHATTAN        20261  \n",
       "3         01 QUEENS             2466         01 QUEENS        53370  \n",
       "4  01 STATEN ISLAND             1644  01 STATEN ISLAND        58449  "
      ]
     },
     "execution_count": 30,
     "metadata": {
      "tags": []
     },
     "output_type": "execute_result"
    }
   ],
   "source": [
    "# rename columns so we can tell which is which\n",
    "\n",
    "counts.columns = ['community_board_x', 'count_all', 'borocd',\n",
    "       'community_board_y', 'count_noise', 'community_board_x',\n",
    "       'count_heatwater', 'community_board_y',\n",
    "       'count_other']\n",
    "\n",
    "counts.head()"
   ]
  },
  {
   "cell_type": "code",
   "execution_count": null,
   "metadata": {
    "colab": {
     "base_uri": "https://localhost:8080/",
     "height": 204
    },
    "colab_type": "code",
    "id": "ZhsOGmKXuXtu",
    "outputId": "ca0b8e01-d267-4e53-87b8-6242694ab719"
   },
   "outputs": [
    {
     "data": {
      "text/html": [
       "<div>\n",
       "<style scoped>\n",
       "    .dataframe tbody tr th:only-of-type {\n",
       "        vertical-align: middle;\n",
       "    }\n",
       "\n",
       "    .dataframe tbody tr th {\n",
       "        vertical-align: top;\n",
       "    }\n",
       "\n",
       "    .dataframe thead th {\n",
       "        text-align: right;\n",
       "    }\n",
       "</style>\n",
       "<table border=\"1\" class=\"dataframe\">\n",
       "  <thead>\n",
       "    <tr style=\"text-align: right;\">\n",
       "      <th></th>\n",
       "      <th>borocd</th>\n",
       "      <th>count_all</th>\n",
       "      <th>count_noise</th>\n",
       "      <th>count_heatwater</th>\n",
       "      <th>count_other</th>\n",
       "    </tr>\n",
       "  </thead>\n",
       "  <tbody>\n",
       "    <tr>\n",
       "      <th>0</th>\n",
       "      <td>201</td>\n",
       "      <td>27353</td>\n",
       "      <td>3691</td>\n",
       "      <td>3346</td>\n",
       "      <td>20316</td>\n",
       "    </tr>\n",
       "    <tr>\n",
       "      <th>1</th>\n",
       "      <td>301</td>\n",
       "      <td>68101</td>\n",
       "      <td>5844</td>\n",
       "      <td>2868</td>\n",
       "      <td>59389</td>\n",
       "    </tr>\n",
       "    <tr>\n",
       "      <th>2</th>\n",
       "      <td>101</td>\n",
       "      <td>21259</td>\n",
       "      <td>722</td>\n",
       "      <td>276</td>\n",
       "      <td>20261</td>\n",
       "    </tr>\n",
       "    <tr>\n",
       "      <th>3</th>\n",
       "      <td>401</td>\n",
       "      <td>60425</td>\n",
       "      <td>4589</td>\n",
       "      <td>2466</td>\n",
       "      <td>53370</td>\n",
       "    </tr>\n",
       "    <tr>\n",
       "      <th>4</th>\n",
       "      <td>501</td>\n",
       "      <td>65145</td>\n",
       "      <td>5052</td>\n",
       "      <td>1644</td>\n",
       "      <td>58449</td>\n",
       "    </tr>\n",
       "  </tbody>\n",
       "</table>\n",
       "</div>"
      ],
      "text/plain": [
       "  borocd  count_all  count_noise  count_heatwater  count_other\n",
       "0    201      27353         3691             3346        20316\n",
       "1    301      68101         5844             2868        59389\n",
       "2    101      21259          722              276        20261\n",
       "3    401      60425         4589             2466        53370\n",
       "4    501      65145         5052             1644        58449"
      ]
     },
     "execution_count": 31,
     "metadata": {
      "tags": []
     },
     "output_type": "execute_result"
    }
   ],
   "source": [
    "# clean up dataframe to only keep columns we will use\n",
    "\n",
    "counts = counts[['borocd', 'count_all', 'count_noise', 'count_heatwater', 'count_other']]\n",
    "\n",
    "counts.head()"
   ]
  },
  {
   "cell_type": "code",
   "execution_count": null,
   "metadata": {
    "colab": {
     "base_uri": "https://localhost:8080/",
     "height": 430
    },
    "colab_type": "code",
    "id": "thxaO0xOrhfm",
    "outputId": "158238b7-efa2-4bf9-82ae-373a07ceec86"
   },
   "outputs": [
    {
     "data": {
      "text/plain": [
       "<matplotlib.legend.Legend at 0x7f9d338e3550>"
      ]
     },
     "execution_count": 40,
     "metadata": {
      "tags": []
     },
     "output_type": "execute_result"
    },
    {
     "data": {
      "image/png": "[encoded data removed]",
      "text/plain": [
       "<Figure size 1080x432 with 1 Axes>"
      ]
     },
     "metadata": {
      "tags": []
     },
     "output_type": "display_data"
    }
   ],
   "source": [
    "# list of bar positions on x axis\n",
    "position_on_x = np.arange(len(counts))\n",
    "\n",
    "# other - note: sorting the entire dataframe by a column before selecting a specific column to use\n",
    "array_counts_other = np.array(counts.sort_values('count_all', ascending=False).count_other)\n",
    "# noise\n",
    "array_counts_noise = np.array(counts.sort_values('count_all', ascending=False).count_noise)\n",
    "# heat\n",
    "array_counts_heatwater = np.array(counts.sort_values('count_all', ascending=False).count_heatwater)\n",
    "\n",
    "plt.figure(figsize=(15, 6))\n",
    "\n",
    "plt.bar(\n",
    "  position_on_x,\n",
    "  array_counts_noise,\n",
    "  align='center',\n",
    "  color='#00ab1a',\n",
    "  label='Count Noise')\n",
    "\n",
    "plt.bar(\n",
    "  position_on_x,\n",
    "  array_counts_heatwater,\n",
    "  bottom=array_counts_noise, \n",
    "  align='center',\n",
    "  color='blue',\n",
    "  label='Count Heat/Water')\n",
    "\n",
    "plt.bar(\n",
    "  position_on_x,\n",
    "  array_counts_other,\n",
    "  bottom=array_counts_heatwater+array_counts_noise, \n",
    "  align='center',\n",
    "  color='#7bd8db',\n",
    "  label='Other Count')\n",
    "\n",
    "# the sorting of the x ticks must match the sorting of the bars\n",
    "plt.xticks(position_on_x, np.array(counts.sort_values('count_all', ascending=False).borocd), rotation=90)\n",
    "\n",
    "plt.title('Count of 311 Requests per Community District')\n",
    "plt.xlabel('BoroCD')\n",
    "plt.ylabel('# of Requests')\n",
    "plt.legend()"
   ]
  },
  {
   "cell_type": "markdown",
   "metadata": {
    "colab_type": "text",
    "id": "OmKWCK9GlzgY"
   },
   "source": [
    "## **Step 3**. \n",
    "Create a scatter plot of community district's 311 counts per category (y-axis) vs. CD population (x-axis). The scatter plot should show each of the three complaint categories in a different color."
   ]
  },
  {
   "cell_type": "code",
   "execution_count": null,
   "metadata": {
    "colab": {},
    "colab_type": "code",
    "id": "hlvjR1b02rDM"
   },
   "outputs": [],
   "source": [
    "population = pd.read_csv('https://data.cityofnewyork.us/api/views/xi7c-iiu2/rows.csv?accessType=DOWNLOAD')\n",
    "\n",
    "def recode_borocd_pop(row):\n",
    "  if row.Borough == 'Manhattan':\n",
    "    return str(100 + row['CD Number'])\n",
    "  elif row.Borough == 'Bronx':\n",
    "    return str(200 + row['CD Number'])\n",
    "  elif row.Borough == 'Brooklyn':\n",
    "    return str(300 + row['CD Number'])\n",
    "  elif row.Borough == 'Queens':\n",
    "    return str(400 + row['CD Number'])\n",
    "  elif row.Borough == 'Staten Island':\n",
    "    return str(500 + row['CD Number'])\n",
    "  else:\n",
    "    return 'Invalid borocd'\n",
    "\n",
    "population['borocd'] = population.apply(recode_borocd_pop, axis=1)"
   ]
  },
  {
   "cell_type": "code",
   "execution_count": null,
   "metadata": {
    "colab": {
     "base_uri": "https://localhost:8080/",
     "height": 404
    },
    "colab_type": "code",
    "id": "Dl_7VzXf7IdX",
    "outputId": "d79c5bce-1a17-4be9-bb8d-01ff9ce25e36"
   },
   "outputs": [
    {
     "data": {
      "image/png": "[encoded data removed]",
      "text/plain": [
       "<Figure size 1080x432 with 1 Axes>"
      ]
     },
     "metadata": {
      "tags": []
     },
     "output_type": "display_data"
    }
   ],
   "source": [
    "# define the data that will be used\n",
    "x = population.sort_values('borocd')['2010 Population']/1000\n",
    "\n",
    "plt.figure(figsize=(15, 6))\n",
    "\n",
    "plt.scatter(\n",
    "  x, # x values\n",
    "  merged_other.sort_values('borocd').count_of_311_requests, # y values\n",
    "  s=50, # area of the circle marker\n",
    "  c='#7bd8db', \n",
    "  edgecolors='black', \n",
    "  alpha=0.5, \n",
    "  label='Other Complaints') \n",
    "\n",
    "plt.scatter(\n",
    "  x, \n",
    "  merged_noise.sort_values('borocd').count_of_311_requests, \n",
    "  s=50, \n",
    "  c='#00ab1a', \n",
    "  edgecolors='black', \n",
    "  alpha=0.5, \n",
    "  label='Residential Noise Complaints') \n",
    "\n",
    "plt.scatter(\n",
    "  x, \n",
    "  merged_heatwater.sort_values('borocd').count_of_311_requests, \n",
    "  s=50, \n",
    "  c='blue', \n",
    "  edgecolors='black', \n",
    "  alpha=0.5, \n",
    "  label='Heat/Hot Water Complaints') \n",
    "\n",
    "plt.title('311 Requests vs. Community District Population')\n",
    "plt.xlabel('Population in Community District (Thousands)')\n",
    "plt.ylabel('# of 311 Requests in Community District')\n",
    "plt.legend()\n",
    "plt.show()"
   ]
  },
  {
   "cell_type": "markdown",
   "metadata": {
    "colab_type": "text",
    "id": "ewc3Jar2z4cu"
   },
   "source": [
    "## **Examining results**\n",
    "Does it seem like there's a positive correlation between population and noise complaints or population and heat/water complaints? What's a possible explanation for the relationship or lack of relationship?"
   ]
  },
  {
   "cell_type": "markdown",
   "metadata": {
    "colab_type": "text",
    "id": "iycWuh77yaQe"
   },
   "source": [
    "If we zoom in to only look at noise and heat/water complaints, there doesn't seem to be strong relationship between population size and number of 311 requests."
   ]
  },
  {
   "cell_type": "code",
   "execution_count": null,
   "metadata": {
    "colab": {
     "base_uri": "https://localhost:8080/",
     "height": 404
    },
    "colab_type": "code",
    "id": "cKJ5oTngyUo_",
    "outputId": "02f7846a-7dfb-4a91-8e97-069350fc5793"
   },
   "outputs": [
    {
     "data": {
      "image/png": "[encoded data removed]",
      "text/plain": [
       "<Figure size 1080x432 with 1 Axes>"
      ]
     },
     "metadata": {
      "tags": []
     },
     "output_type": "display_data"
    }
   ],
   "source": [
    "#  the plot will automatically adjust the axes to fit the data included.\n",
    "# if we exclude the \"other\" complaint data, we can see noise and heat/water more clearly.\n",
    "\n",
    "plt.figure(figsize=(15, 6))\n",
    "\n",
    "plt.scatter(\n",
    "  x, \n",
    "  merged_noise.sort_values('borocd').count_of_311_requests, \n",
    "  s=50, \n",
    "  c='#00ab1a', \n",
    "  edgecolors='black', \n",
    "  alpha=0.5, \n",
    "  label='Residential Noise Complaints') \n",
    "\n",
    "plt.scatter(\n",
    "  x, \n",
    "  merged_heatwater.sort_values('borocd').count_of_311_requests, \n",
    "  s=50, \n",
    "  c='blue', \n",
    "  edgecolors='black', \n",
    "  alpha=0.5, \n",
    "  label='Heat/Hot Water Complaints') \n",
    "\n",
    "plt.title('311 Requests vs. Community District Population')\n",
    "plt.xlabel('Population in Community District (Thousands)')\n",
    "plt.ylabel('# of 311 Requests in Community District')\n",
    "plt.legend()\n",
    "plt.show()"
   ]
  },
  {
   "cell_type": "markdown",
   "metadata": {
    "colab_type": "text",
    "id": "0ZrcKevJ0TyS"
   },
   "source": [
    "There are other factors that determine the frequency of these types of complaints in each community district. For heat and hot water complaints, other factors could be quality and cost of housing, age of building equipment, and responsiveness of landlords to tenants' needs. Residential noise complaints could be explained by age and demographic differences or by building construction quality (soundproofing)."
   ]
  }
 ],
 "metadata": {
  "colab": {
   "collapsed_sections": [],
   "include_colab_link": true,
   "name": "hw_3_solution.ipynb",
   "provenance": []
  },
  "kernelspec": {
   "display_name": "Python 3",
   "language": "python",
   "name": "python3"
  },
  "language_info": {
   "codemirror_mode": {
    "name": "ipython",
    "version": 3
   },
   "file_extension": ".py",
   "mimetype": "text/x-python",
   "name": "python",
   "nbconvert_exporter": "python",
   "pygments_lexer": "ipython3",
   "version": "3.8.0"
  }
 },
 "nbformat": 4,
 "nbformat_minor": 4
}
