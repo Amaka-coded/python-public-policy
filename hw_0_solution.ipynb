{
 "cells": [
  {
   "cell_type": "markdown",
   "metadata": {
    "colab_type": "text",
    "id": "view-in-github"
   },
   "source": [
    "<a href=\"https://colab.research.google.com/github/afeld/nyu-python-public-policy/blob/master/hw_0_solution.ipynb\" target=\"_parent\"><img src=\"https://colab.research.google.com/assets/colab-badge.svg\" alt=\"Open In Colab\"/></a>"
   ]
  },
  {
   "cell_type": "markdown",
   "metadata": {
    "colab_type": "text",
    "id": "SA9q8DQPL6oZ"
   },
   "source": [
    "# NYU Wagner - Python Coding for Public Policy\n",
    "# Solutions to HW 1"
   ]
  },
  {
   "cell_type": "markdown",
   "metadata": {
    "colab_type": "text",
    "id": "9rvnMzjSMK36"
   },
   "source": [
    "### Start by importing necessary packages"
   ]
  },
  {
   "cell_type": "code",
   "execution_count": 1,
   "metadata": {
    "colab": {},
    "colab_type": "code",
    "id": "Q4l2QosJLzP6"
   },
   "outputs": [],
   "source": [
    "!pip install --quiet gdown\n",
    "import pandas as pd\n",
    "import gdown"
   ]
  },
  {
   "cell_type": "markdown",
   "metadata": {
    "colab_type": "text",
    "id": "R1G04BmMMFJb"
   },
   "source": [
    "### Read and save 311 Service Requests dataset as a pandas dataframe"
   ]
  },
  {
   "cell_type": "code",
   "execution_count": null,
   "metadata": {
    "colab": {
     "base_uri": "https://localhost:8080/",
     "height": 34
    },
    "colab_type": "code",
    "id": "hZ1TxGrKMXtX",
    "outputId": "32fb3931-3f2c-451f-d72d-c3b0acea7aa9"
   },
   "outputs": [],
   "source": [
    "import gdown\n",
    "gdown.download(\"https://drive.google.com/uc?id=1woUPU62mGXRtVvZmpzAwmrYl01vLK4PJ\", \"311_Service_Requests_2018-19.csv\", quiet=False)"
   ]
  },
  {
   "cell_type": "code",
   "execution_count": 4,
   "metadata": {
    "colab": {
     "base_uri": "https://localhost:8080/",
     "height": 71
    },
    "colab_type": "code",
    "id": "iQgE8qFAMbiF",
    "outputId": "e17bd960-703b-4811-8020-b6a897985628"
   },
   "outputs": [
    {
     "name": "stderr",
     "output_type": "stream",
     "text": [
      "/Users/afeld/.asdf/installs/python/3.8.0/lib/python3.8/site-packages/IPython/core/interactiveshell.py:3062: DtypeWarning: Columns (8,17,20,31,34) have mixed types.Specify dtype option on import or set low_memory=False.\n",
      "  has_raised = await self.run_ast_nodes(code_ast.body, cell_name,\n"
     ]
    }
   ],
   "source": [
    "df = pd.read_csv('311_Service_Requests_2018-19.csv', header='infer')"
   ]
  },
  {
   "cell_type": "markdown",
   "metadata": {
    "colab_type": "text",
    "id": "VeL4Ftodtya-"
   },
   "source": [
    "### Data Exploration Questions"
   ]
  },
  {
   "cell_type": "markdown",
   "metadata": {
    "colab_type": "text",
    "id": "xpsw1crsA2Yh"
   },
   "source": [
    "What is the minimum value in the \"Created Date\" column?"
   ]
  },
  {
   "cell_type": "code",
   "execution_count": 5,
   "metadata": {
    "colab": {
     "base_uri": "https://localhost:8080/",
     "height": 34
    },
    "colab_type": "code",
    "id": "Y-Z7lE-VuSYS",
    "outputId": "17b3d304-0bc5-4c70-ae5c-1028c80c25f8"
   },
   "outputs": [
    {
     "data": {
      "text/plain": [
       "'01/01/2019 01:00:00 PM'"
      ]
     },
     "execution_count": 5,
     "metadata": {},
     "output_type": "execute_result"
    }
   ],
   "source": [
    "df['Created Date'].min()"
   ]
  },
  {
   "cell_type": "markdown",
   "metadata": {
    "colab_type": "text",
    "id": "hERK89P8uNYc"
   },
   "source": [
    "What is the maximum value in the \"Created Date\" column?\n"
   ]
  },
  {
   "cell_type": "code",
   "execution_count": 6,
   "metadata": {
    "colab": {
     "base_uri": "https://localhost:8080/",
     "height": 34
    },
    "colab_type": "code",
    "id": "kjErEfcquWfJ",
    "outputId": "86f04f49-5c34-4d6b-9ccd-1ae3ef92539f"
   },
   "outputs": [
    {
     "data": {
      "text/plain": [
       "'12/31/2018 12:59:41 PM'"
      ]
     },
     "execution_count": 6,
     "metadata": {},
     "output_type": "execute_result"
    }
   ],
   "source": [
    "df['Created Date'].max()"
   ]
  },
  {
   "cell_type": "markdown",
   "metadata": {
    "colab_type": "text",
    "id": "6Woj-kk3uc4g"
   },
   "source": [
    "You'll notice that the maximum value is an earlier date than the minimum value (year 2018 vs. 2019). What's up with that? The date values in the 'Created Date' column are actually stored as strings. The min() and max() functions are sorting by alphabetical order. That's why a value that starts with '12/31' is considered a higher/larger value than one that starts with '01/01'."
   ]
  },
  {
   "cell_type": "markdown",
   "metadata": {
    "colab_type": "text",
    "id": "u3gTDK89vWXk"
   },
   "source": [
    "If we run df.head() and df.tail(), we can see that the dataset actually spans Aug 2018 to Aug 2019. Those are the real min and max dates. We'll learn how to properly handle dates in a later lecture."
   ]
  },
  {
   "cell_type": "code",
   "execution_count": 7,
   "metadata": {
    "colab": {
     "base_uri": "https://localhost:8080/",
     "height": 581
    },
    "colab_type": "code",
    "id": "B4aFPschwPQ-",
    "outputId": "e1a2f315-42bd-423f-c0b5-046923555ac4"
   },
   "outputs": [
    {
     "data": {
      "text/html": [
       "<div>\n",
       "<style scoped>\n",
       "    .dataframe tbody tr th:only-of-type {\n",
       "        vertical-align: middle;\n",
       "    }\n",
       "\n",
       "    .dataframe tbody tr th {\n",
       "        vertical-align: top;\n",
       "    }\n",
       "\n",
       "    .dataframe thead th {\n",
       "        text-align: right;\n",
       "    }\n",
       "</style>\n",
       "<table border=\"1\" class=\"dataframe\">\n",
       "  <thead>\n",
       "    <tr style=\"text-align: right;\">\n",
       "      <th></th>\n",
       "      <th>Unique Key</th>\n",
       "      <th>Created Date</th>\n",
       "      <th>Closed Date</th>\n",
       "      <th>Agency</th>\n",
       "      <th>Agency Name</th>\n",
       "      <th>Complaint Type</th>\n",
       "      <th>Descriptor</th>\n",
       "      <th>Location Type</th>\n",
       "      <th>Incident Zip</th>\n",
       "      <th>Incident Address</th>\n",
       "      <th>...</th>\n",
       "      <th>Vehicle Type</th>\n",
       "      <th>Taxi Company Borough</th>\n",
       "      <th>Taxi Pick Up Location</th>\n",
       "      <th>Bridge Highway Name</th>\n",
       "      <th>Bridge Highway Direction</th>\n",
       "      <th>Road Ramp</th>\n",
       "      <th>Bridge Highway Segment</th>\n",
       "      <th>Latitude</th>\n",
       "      <th>Longitude</th>\n",
       "      <th>Location</th>\n",
       "    </tr>\n",
       "  </thead>\n",
       "  <tbody>\n",
       "    <tr>\n",
       "      <th>0</th>\n",
       "      <td>39888071</td>\n",
       "      <td>08/01/2018 12:00:10 AM</td>\n",
       "      <td>08/01/2018 01:52:46 AM</td>\n",
       "      <td>DHS</td>\n",
       "      <td>Operations Unit - Department of Homeless Services</td>\n",
       "      <td>Homeless Person Assistance</td>\n",
       "      <td>NaN</td>\n",
       "      <td>Other</td>\n",
       "      <td>10029</td>\n",
       "      <td>200 EAST  109 STREET</td>\n",
       "      <td>...</td>\n",
       "      <td>NaN</td>\n",
       "      <td>NaN</td>\n",
       "      <td>NaN</td>\n",
       "      <td>NaN</td>\n",
       "      <td>NaN</td>\n",
       "      <td>NaN</td>\n",
       "      <td>NaN</td>\n",
       "      <td>40.793339</td>\n",
       "      <td>-73.942942</td>\n",
       "      <td>(40.79333937834769, -73.9429417746998)</td>\n",
       "    </tr>\n",
       "    <tr>\n",
       "      <th>1</th>\n",
       "      <td>39889166</td>\n",
       "      <td>08/01/2018 12:00:26 AM</td>\n",
       "      <td>08/18/2018 10:46:43 AM</td>\n",
       "      <td>HPD</td>\n",
       "      <td>Department of Housing Preservation and Develop...</td>\n",
       "      <td>DOOR/WINDOW</td>\n",
       "      <td>DOOR</td>\n",
       "      <td>RESIDENTIAL BUILDING</td>\n",
       "      <td>10031</td>\n",
       "      <td>528 WEST  136 STREET</td>\n",
       "      <td>...</td>\n",
       "      <td>NaN</td>\n",
       "      <td>NaN</td>\n",
       "      <td>NaN</td>\n",
       "      <td>NaN</td>\n",
       "      <td>NaN</td>\n",
       "      <td>NaN</td>\n",
       "      <td>NaN</td>\n",
       "      <td>40.820124</td>\n",
       "      <td>-73.953071</td>\n",
       "      <td>(40.82012422332215, -73.9530712339799)</td>\n",
       "    </tr>\n",
       "    <tr>\n",
       "      <th>2</th>\n",
       "      <td>39882869</td>\n",
       "      <td>08/01/2018 12:00:54 AM</td>\n",
       "      <td>08/01/2018 12:49:55 AM</td>\n",
       "      <td>NYPD</td>\n",
       "      <td>New York City Police Department</td>\n",
       "      <td>Noise - Residential</td>\n",
       "      <td>Loud Music/Party</td>\n",
       "      <td>Residential Building/House</td>\n",
       "      <td>11216</td>\n",
       "      <td>761 LINCOLN PLACE</td>\n",
       "      <td>...</td>\n",
       "      <td>NaN</td>\n",
       "      <td>NaN</td>\n",
       "      <td>NaN</td>\n",
       "      <td>NaN</td>\n",
       "      <td>NaN</td>\n",
       "      <td>NaN</td>\n",
       "      <td>NaN</td>\n",
       "      <td>40.670809</td>\n",
       "      <td>-73.951399</td>\n",
       "      <td>(40.67080917938279, -73.9513990916184)</td>\n",
       "    </tr>\n",
       "    <tr>\n",
       "      <th>3</th>\n",
       "      <td>39894246</td>\n",
       "      <td>08/01/2018 12:01:00 AM</td>\n",
       "      <td>08/02/2018 10:30:00 PM</td>\n",
       "      <td>DEP</td>\n",
       "      <td>Department of Environmental Protection</td>\n",
       "      <td>Noise</td>\n",
       "      <td>Noise: Construction Before/After Hours (NM1)</td>\n",
       "      <td>NaN</td>\n",
       "      <td>10010</td>\n",
       "      <td>NaN</td>\n",
       "      <td>...</td>\n",
       "      <td>NaN</td>\n",
       "      <td>NaN</td>\n",
       "      <td>NaN</td>\n",
       "      <td>NaN</td>\n",
       "      <td>NaN</td>\n",
       "      <td>NaN</td>\n",
       "      <td>NaN</td>\n",
       "      <td>40.740262</td>\n",
       "      <td>-73.990517</td>\n",
       "      <td>(40.74026158873342, -73.99051651686905)</td>\n",
       "    </tr>\n",
       "    <tr>\n",
       "      <th>4</th>\n",
       "      <td>39881329</td>\n",
       "      <td>08/01/2018 12:01:00 AM</td>\n",
       "      <td>08/05/2018 12:00:00 AM</td>\n",
       "      <td>DSNY</td>\n",
       "      <td>Department of Sanitation</td>\n",
       "      <td>Request Large Bulky Item Collection</td>\n",
       "      <td>Request Large Bulky Item Collection</td>\n",
       "      <td>Sidewalk</td>\n",
       "      <td>11413</td>\n",
       "      <td>121-28 198 STREET</td>\n",
       "      <td>...</td>\n",
       "      <td>NaN</td>\n",
       "      <td>NaN</td>\n",
       "      <td>NaN</td>\n",
       "      <td>NaN</td>\n",
       "      <td>NaN</td>\n",
       "      <td>NaN</td>\n",
       "      <td>NaN</td>\n",
       "      <td>40.688144</td>\n",
       "      <td>-73.750990</td>\n",
       "      <td>(40.68814402968042, -73.75098958473612)</td>\n",
       "    </tr>\n",
       "  </tbody>\n",
       "</table>\n",
       "<p>5 rows × 41 columns</p>\n",
       "</div>"
      ],
      "text/plain": [
       "   Unique Key            Created Date             Closed Date Agency  \\\n",
       "0    39888071  08/01/2018 12:00:10 AM  08/01/2018 01:52:46 AM    DHS   \n",
       "1    39889166  08/01/2018 12:00:26 AM  08/18/2018 10:46:43 AM    HPD   \n",
       "2    39882869  08/01/2018 12:00:54 AM  08/01/2018 12:49:55 AM   NYPD   \n",
       "3    39894246  08/01/2018 12:01:00 AM  08/02/2018 10:30:00 PM    DEP   \n",
       "4    39881329  08/01/2018 12:01:00 AM  08/05/2018 12:00:00 AM   DSNY   \n",
       "\n",
       "                                         Agency Name  \\\n",
       "0  Operations Unit - Department of Homeless Services   \n",
       "1  Department of Housing Preservation and Develop...   \n",
       "2                    New York City Police Department   \n",
       "3             Department of Environmental Protection   \n",
       "4                           Department of Sanitation   \n",
       "\n",
       "                        Complaint Type  \\\n",
       "0           Homeless Person Assistance   \n",
       "1                          DOOR/WINDOW   \n",
       "2                  Noise - Residential   \n",
       "3                                Noise   \n",
       "4  Request Large Bulky Item Collection   \n",
       "\n",
       "                                     Descriptor               Location Type  \\\n",
       "0                                           NaN                       Other   \n",
       "1                                          DOOR        RESIDENTIAL BUILDING   \n",
       "2                              Loud Music/Party  Residential Building/House   \n",
       "3  Noise: Construction Before/After Hours (NM1)                         NaN   \n",
       "4           Request Large Bulky Item Collection                    Sidewalk   \n",
       "\n",
       "  Incident Zip      Incident Address  ... Vehicle Type Taxi Company Borough  \\\n",
       "0        10029  200 EAST  109 STREET  ...          NaN                  NaN   \n",
       "1        10031  528 WEST  136 STREET  ...          NaN                  NaN   \n",
       "2        11216     761 LINCOLN PLACE  ...          NaN                  NaN   \n",
       "3        10010                   NaN  ...          NaN                  NaN   \n",
       "4        11413     121-28 198 STREET  ...          NaN                  NaN   \n",
       "\n",
       "  Taxi Pick Up Location Bridge Highway Name Bridge Highway Direction  \\\n",
       "0                   NaN                 NaN                      NaN   \n",
       "1                   NaN                 NaN                      NaN   \n",
       "2                   NaN                 NaN                      NaN   \n",
       "3                   NaN                 NaN                      NaN   \n",
       "4                   NaN                 NaN                      NaN   \n",
       "\n",
       "  Road Ramp Bridge Highway Segment   Latitude  Longitude  \\\n",
       "0       NaN                    NaN  40.793339 -73.942942   \n",
       "1       NaN                    NaN  40.820124 -73.953071   \n",
       "2       NaN                    NaN  40.670809 -73.951399   \n",
       "3       NaN                    NaN  40.740262 -73.990517   \n",
       "4       NaN                    NaN  40.688144 -73.750990   \n",
       "\n",
       "                                  Location  \n",
       "0   (40.79333937834769, -73.9429417746998)  \n",
       "1   (40.82012422332215, -73.9530712339799)  \n",
       "2   (40.67080917938279, -73.9513990916184)  \n",
       "3  (40.74026158873342, -73.99051651686905)  \n",
       "4  (40.68814402968042, -73.75098958473612)  \n",
       "\n",
       "[5 rows x 41 columns]"
      ]
     },
     "execution_count": 7,
     "metadata": {},
     "output_type": "execute_result"
    }
   ],
   "source": [
    "df.head()"
   ]
  },
  {
   "cell_type": "code",
   "execution_count": 8,
   "metadata": {
    "colab": {
     "base_uri": "https://localhost:8080/",
     "height": 445
    },
    "colab_type": "code",
    "id": "TwL061EGwQcZ",
    "outputId": "6163ef7c-83d4-47ce-ab06-f3c9d0ef9c30"
   },
   "outputs": [
    {
     "data": {
      "text/html": [
       "<div>\n",
       "<style scoped>\n",
       "    .dataframe tbody tr th:only-of-type {\n",
       "        vertical-align: middle;\n",
       "    }\n",
       "\n",
       "    .dataframe tbody tr th {\n",
       "        vertical-align: top;\n",
       "    }\n",
       "\n",
       "    .dataframe thead th {\n",
       "        text-align: right;\n",
       "    }\n",
       "</style>\n",
       "<table border=\"1\" class=\"dataframe\">\n",
       "  <thead>\n",
       "    <tr style=\"text-align: right;\">\n",
       "      <th></th>\n",
       "      <th>Unique Key</th>\n",
       "      <th>Created Date</th>\n",
       "      <th>Closed Date</th>\n",
       "      <th>Agency</th>\n",
       "      <th>Agency Name</th>\n",
       "      <th>Complaint Type</th>\n",
       "      <th>Descriptor</th>\n",
       "      <th>Location Type</th>\n",
       "      <th>Incident Zip</th>\n",
       "      <th>Incident Address</th>\n",
       "      <th>...</th>\n",
       "      <th>Vehicle Type</th>\n",
       "      <th>Taxi Company Borough</th>\n",
       "      <th>Taxi Pick Up Location</th>\n",
       "      <th>Bridge Highway Name</th>\n",
       "      <th>Bridge Highway Direction</th>\n",
       "      <th>Road Ramp</th>\n",
       "      <th>Bridge Highway Segment</th>\n",
       "      <th>Latitude</th>\n",
       "      <th>Longitude</th>\n",
       "      <th>Location</th>\n",
       "    </tr>\n",
       "  </thead>\n",
       "  <tbody>\n",
       "    <tr>\n",
       "      <th>2859195</th>\n",
       "      <td>43619262</td>\n",
       "      <td>08/24/2019 02:00:14 AM</td>\n",
       "      <td>NaN</td>\n",
       "      <td>NYPD</td>\n",
       "      <td>New York City Police Department</td>\n",
       "      <td>Noise - Street/Sidewalk</td>\n",
       "      <td>Loud Music/Party</td>\n",
       "      <td>Street/Sidewalk</td>\n",
       "      <td>10463</td>\n",
       "      <td>3308 BAILEY AVENUE</td>\n",
       "      <td>...</td>\n",
       "      <td>NaN</td>\n",
       "      <td>NaN</td>\n",
       "      <td>NaN</td>\n",
       "      <td>NaN</td>\n",
       "      <td>NaN</td>\n",
       "      <td>NaN</td>\n",
       "      <td>NaN</td>\n",
       "      <td>40.879701</td>\n",
       "      <td>-73.901057</td>\n",
       "      <td>(40.87970084316435, -73.9010571445122)</td>\n",
       "    </tr>\n",
       "    <tr>\n",
       "      <th>2859196</th>\n",
       "      <td>43622052</td>\n",
       "      <td>08/24/2019 02:00:20 AM</td>\n",
       "      <td>NaN</td>\n",
       "      <td>NYPD</td>\n",
       "      <td>New York City Police Department</td>\n",
       "      <td>Noise - Street/Sidewalk</td>\n",
       "      <td>Loud Music/Party</td>\n",
       "      <td>Street/Sidewalk</td>\n",
       "      <td>11237</td>\n",
       "      <td>265 STOCKHOLM STREET</td>\n",
       "      <td>...</td>\n",
       "      <td>NaN</td>\n",
       "      <td>NaN</td>\n",
       "      <td>NaN</td>\n",
       "      <td>NaN</td>\n",
       "      <td>NaN</td>\n",
       "      <td>NaN</td>\n",
       "      <td>NaN</td>\n",
       "      <td>40.701783</td>\n",
       "      <td>-73.920555</td>\n",
       "      <td>(40.70178323733244, -73.92055493919345)</td>\n",
       "    </tr>\n",
       "    <tr>\n",
       "      <th>2859197</th>\n",
       "      <td>43625918</td>\n",
       "      <td>08/24/2019 02:00:27 AM</td>\n",
       "      <td>NaN</td>\n",
       "      <td>NYPD</td>\n",
       "      <td>New York City Police Department</td>\n",
       "      <td>Noise - Vehicle</td>\n",
       "      <td>Car/Truck Music</td>\n",
       "      <td>Street/Sidewalk</td>\n",
       "      <td>11233</td>\n",
       "      <td>560 RALPH AVENUE</td>\n",
       "      <td>...</td>\n",
       "      <td>NaN</td>\n",
       "      <td>NaN</td>\n",
       "      <td>NaN</td>\n",
       "      <td>NaN</td>\n",
       "      <td>NaN</td>\n",
       "      <td>NaN</td>\n",
       "      <td>NaN</td>\n",
       "      <td>40.669992</td>\n",
       "      <td>-73.922489</td>\n",
       "      <td>(40.66999185896368, -73.9224889475533)</td>\n",
       "    </tr>\n",
       "    <tr>\n",
       "      <th>2859198</th>\n",
       "      <td>43622055</td>\n",
       "      <td>08/24/2019 02:00:54 AM</td>\n",
       "      <td>NaN</td>\n",
       "      <td>NYPD</td>\n",
       "      <td>New York City Police Department</td>\n",
       "      <td>Noise - Street/Sidewalk</td>\n",
       "      <td>Loud Music/Party</td>\n",
       "      <td>Street/Sidewalk</td>\n",
       "      <td>NaN</td>\n",
       "      <td>NaN</td>\n",
       "      <td>...</td>\n",
       "      <td>NaN</td>\n",
       "      <td>NaN</td>\n",
       "      <td>NaN</td>\n",
       "      <td>NaN</td>\n",
       "      <td>NaN</td>\n",
       "      <td>NaN</td>\n",
       "      <td>NaN</td>\n",
       "      <td>NaN</td>\n",
       "      <td>NaN</td>\n",
       "      <td>NaN</td>\n",
       "    </tr>\n",
       "    <tr>\n",
       "      <th>2859199</th>\n",
       "      <td>43623704</td>\n",
       "      <td>08/24/2019 02:00:56 AM</td>\n",
       "      <td>NaN</td>\n",
       "      <td>NYPD</td>\n",
       "      <td>New York City Police Department</td>\n",
       "      <td>Noise - Vehicle</td>\n",
       "      <td>Car/Truck Music</td>\n",
       "      <td>Street/Sidewalk</td>\n",
       "      <td>10303</td>\n",
       "      <td>2806 RICHMOND TERRACE</td>\n",
       "      <td>...</td>\n",
       "      <td>NaN</td>\n",
       "      <td>NaN</td>\n",
       "      <td>NaN</td>\n",
       "      <td>NaN</td>\n",
       "      <td>NaN</td>\n",
       "      <td>NaN</td>\n",
       "      <td>NaN</td>\n",
       "      <td>40.636794</td>\n",
       "      <td>-74.153979</td>\n",
       "      <td>(40.63679359185655, -74.15397942810047)</td>\n",
       "    </tr>\n",
       "  </tbody>\n",
       "</table>\n",
       "<p>5 rows × 41 columns</p>\n",
       "</div>"
      ],
      "text/plain": [
       "         Unique Key            Created Date Closed Date Agency  \\\n",
       "2859195    43619262  08/24/2019 02:00:14 AM         NaN   NYPD   \n",
       "2859196    43622052  08/24/2019 02:00:20 AM         NaN   NYPD   \n",
       "2859197    43625918  08/24/2019 02:00:27 AM         NaN   NYPD   \n",
       "2859198    43622055  08/24/2019 02:00:54 AM         NaN   NYPD   \n",
       "2859199    43623704  08/24/2019 02:00:56 AM         NaN   NYPD   \n",
       "\n",
       "                             Agency Name           Complaint Type  \\\n",
       "2859195  New York City Police Department  Noise - Street/Sidewalk   \n",
       "2859196  New York City Police Department  Noise - Street/Sidewalk   \n",
       "2859197  New York City Police Department          Noise - Vehicle   \n",
       "2859198  New York City Police Department  Noise - Street/Sidewalk   \n",
       "2859199  New York City Police Department          Noise - Vehicle   \n",
       "\n",
       "               Descriptor    Location Type Incident Zip  \\\n",
       "2859195  Loud Music/Party  Street/Sidewalk        10463   \n",
       "2859196  Loud Music/Party  Street/Sidewalk        11237   \n",
       "2859197   Car/Truck Music  Street/Sidewalk        11233   \n",
       "2859198  Loud Music/Party  Street/Sidewalk          NaN   \n",
       "2859199   Car/Truck Music  Street/Sidewalk        10303   \n",
       "\n",
       "              Incident Address  ... Vehicle Type Taxi Company Borough  \\\n",
       "2859195     3308 BAILEY AVENUE  ...          NaN                  NaN   \n",
       "2859196   265 STOCKHOLM STREET  ...          NaN                  NaN   \n",
       "2859197       560 RALPH AVENUE  ...          NaN                  NaN   \n",
       "2859198                    NaN  ...          NaN                  NaN   \n",
       "2859199  2806 RICHMOND TERRACE  ...          NaN                  NaN   \n",
       "\n",
       "        Taxi Pick Up Location Bridge Highway Name Bridge Highway Direction  \\\n",
       "2859195                   NaN                 NaN                      NaN   \n",
       "2859196                   NaN                 NaN                      NaN   \n",
       "2859197                   NaN                 NaN                      NaN   \n",
       "2859198                   NaN                 NaN                      NaN   \n",
       "2859199                   NaN                 NaN                      NaN   \n",
       "\n",
       "        Road Ramp Bridge Highway Segment   Latitude  Longitude  \\\n",
       "2859195       NaN                    NaN  40.879701 -73.901057   \n",
       "2859196       NaN                    NaN  40.701783 -73.920555   \n",
       "2859197       NaN                    NaN  40.669992 -73.922489   \n",
       "2859198       NaN                    NaN        NaN        NaN   \n",
       "2859199       NaN                    NaN  40.636794 -74.153979   \n",
       "\n",
       "                                        Location  \n",
       "2859195   (40.87970084316435, -73.9010571445122)  \n",
       "2859196  (40.70178323733244, -73.92055493919345)  \n",
       "2859197   (40.66999185896368, -73.9224889475533)  \n",
       "2859198                                      NaN  \n",
       "2859199  (40.63679359185655, -74.15397942810047)  \n",
       "\n",
       "[5 rows x 41 columns]"
      ]
     },
     "execution_count": 8,
     "metadata": {},
     "output_type": "execute_result"
    }
   ],
   "source": [
    "df.tail()"
   ]
  }
 ],
 "metadata": {
  "colab": {
   "include_colab_link": true,
   "name": "hw_0_solution.ipynb",
   "provenance": []
  },
  "kernelspec": {
   "display_name": "Python 3",
   "language": "python",
   "name": "python3"
  },
  "language_info": {
   "codemirror_mode": {
    "name": "ipython",
    "version": 3
   },
   "file_extension": ".py",
   "mimetype": "text/x-python",
   "name": "python",
   "nbconvert_exporter": "python",
   "pygments_lexer": "ipython3",
   "version": "3.8.0"
  }
 },
 "nbformat": 4,
 "nbformat_minor": 4
}
