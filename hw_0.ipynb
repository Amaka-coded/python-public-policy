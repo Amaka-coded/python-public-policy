{
 "nbformat": 4,
 "nbformat_minor": 2,
 "metadata": {
  "language_info": {
   "name": "python",
   "codemirror_mode": {
    "name": "ipython",
    "version": 3
   },
   "version": "3.8.0-final"
  },
  "orig_nbformat": 2,
  "file_extension": ".py",
  "mimetype": "text/x-python",
  "name": "python",
  "npconvert_exporter": "python",
  "pygments_lexer": "ipython3",
  "version": 3,
  "kernelspec": {
   "name": "python38064bite2b734199e274226979ef410f6f20e23",
   "display_name": "Python 3.8.0 64-bit"
  }
 },
 "cells": [
  {
   "cell_type": "markdown",
   "metadata": {},
   "source": [
    "<a href=\"https://colab.research.google.com/github/afeld/python-public-policy/blob/master/hw_0.ipynb\" target=\"_parent\"><img src=\"https://colab.research.google.com/assets/colab-badge.svg\" alt=\"Open In Colab\"/></a>\n",
    "\n",
    "# Homework 0: Python fundamentals\n",
    "\n",
    "[Kaggle](https://www.kaggle.com/) is a data science platform that has various tutorials and challenges, which you may want to go back to later. Kaggle, like Google Colab, is built around Jupyter notebooks. Therefore, the two are not _exactly_ the same, but will feel similar. For this homework:\n",
    "\n",
    "1. Do the Kaggle [Learn Python](https://www.kaggle.com/learn/python) tutorials and exercises, through `Strings and Dictionaries`\n",
    "    - Skip `Working with External Libraries`\n",
    "1. Do the coding challenges below\n",
    "1. [Turn in the assignment](https://github.com/afeld/python-public-policy#turning-in-assignments)\n",
    "1. Do the Kaggle [Creating, Reading, and Writing with Pandas](https://www.kaggle.com/residentmario/creating-reading-and-writing) tutorial and exercise\n",
    "\n",
    "## Coding\n",
    "\n",
    "### Challege 0: Mad lib\n",
    "\n",
    "You are going to make a (short) interactive [mad lib](https://hobbylark.com/party-games/How-to-Make-Your-Own-Mad-Libs). Use a paragraph of a story or the chorus from a song, or make one up.\n",
    "\n",
    "For starters, we need a way to get words from the user. We will use Python's [`input()`](https://docs.python.org/3/library/functions.html#input) function."
   ]
  },
  {
   "cell_type": "code",
   "execution_count": 2,
   "metadata": {},
   "outputs": [
    {
     "output_type": "execute_result",
     "data": {
      "text/plain": "'apple'"
     },
     "metadata": {},
     "execution_count": 2
    }
   ],
   "source": [
    "word = input(\"Give me a word: \")\n",
    "word"
   ]
  },
  {
   "cell_type": "markdown",
   "metadata": {},
   "source": [
    "Now, use multiple `input()`s and string concatenation (`+`) to make a mad lib game."
   ]
  },
  {
   "cell_type": "code",
   "execution_count": null,
   "metadata": {},
   "outputs": [],
   "source": [
    "# code goes here"
   ]
  }
 ]
}